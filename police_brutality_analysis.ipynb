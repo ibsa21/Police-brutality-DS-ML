{
  "cells": [
    {
      "cell_type": "markdown",
      "metadata": {
        "id": "view-in-github",
        "colab_type": "text"
      },
      "source": [
        "<a href=\"https://colab.research.google.com/github/ibsa21/Police-brutality-DS-ML/blob/main/police_brutality_analysis.ipynb\" target=\"_parent\"><img src=\"https://colab.research.google.com/assets/colab-badge.svg\" alt=\"Open In Colab\"/></a>"
      ]
    },
    {
      "cell_type": "markdown",
      "source": [
        "# Fatal Police Shootings in USA\n"
      ],
      "metadata": {
        "id": "q1fuh265f51_"
      },
      "id": "q1fuh265f51_"
    },
    {
      "cell_type": "markdown",
      "source": [
        "## 1. Introduction\n",
        "This project will take a look at killings that took place at the hands of police officers in the United States from the beginning of 2015 to into February 2017. The main goal is to explore the data, provide a list of issues and propose a plan on how to tackle these issues.\n"
      ],
      "metadata": {
        "id": "NNtXLio7wh-H"
      },
      "id": "NNtXLio7wh-H"
    },
    {
      "cell_type": "markdown",
      "source": [
        "### 1.1 About the dataset\n",
        "The Washington Post is compiling a database of every fatal shooting in the United States by a police officer in the line of duty since January 1, 2015. <br> In 2015, The Post began tracking more than a dozen details about each killing — including the race of the deceased, the circumstances of the shooting, whether the person was armed and whether the victim was experiencing a mental-health crisis — by culling local news reports, law enforcement websites and social media and by monitoring independent databases such as Killed by Police and Fatal Encounters.\n"
      ],
      "metadata": {
        "id": "1kmh-3-EwuSr"
      },
      "id": "1kmh-3-EwuSr"
    },
    {
      "cell_type": "markdown",
      "source": [
        "\n",
        "### 1.2 context\n"
      ],
      "metadata": {
        "id": "JXwnzE9RwyrA"
      },
      "id": "JXwnzE9RwyrA"
    },
    {
      "cell_type": "markdown",
      "source": [
        "### 1.3 content"
      ],
      "metadata": {
        "id": "BxpzYmlow1Q4"
      },
      "id": "BxpzYmlow1Q4"
    },
    {
      "cell_type": "markdown",
      "source": [
        "## 2. Imports and Data Cleaning\n"
      ],
      "metadata": {
        "id": "KpnqqkEnUKVl"
      },
      "id": "KpnqqkEnUKVl"
    },
    {
      "cell_type": "markdown",
      "source": [
        "### 2.1 Importing required modules"
      ],
      "metadata": {
        "id": "4JNzvETdxBJC"
      },
      "id": "4JNzvETdxBJC"
    },
    {
      "cell_type": "code",
      "execution_count": 148,
      "id": "451a508c",
      "metadata": {
        "id": "451a508c"
      },
      "outputs": [],
      "source": [
        "#import libraries\n",
        "import pandas as pd\n",
        "import numpy as np\n",
        "import matplotlib.pyplot as plt\n",
        "import plotly.express as px\n",
        "import seaborn as sb\n",
        "import warnings\n",
        "from typing import List\n",
        "from wordcloud import WordCloud\n",
        "%matplotlib inline\n",
        "sb.set_theme(style=\"whitegrid\")\n",
        "warnings.filterwarnings('ignore')"
      ]
    },
    {
      "cell_type": "markdown",
      "source": [
        "### 2.2 Loading the database "
      ],
      "metadata": {
        "id": "6CdN5Lf-UfW_"
      },
      "id": "6CdN5Lf-UfW_"
    },
    {
      "cell_type": "code",
      "execution_count": 149,
      "id": "834f76ce",
      "metadata": {
        "id": "834f76ce"
      },
      "outputs": [],
      "source": [
        "def load_data(pd:pd, fileURL:str)->pd.DataFrame:\n",
        "  '''Loads data'''\n",
        "  return pd.read_csv(fileURL)"
      ]
    },
    {
      "cell_type": "code",
      "execution_count": 150,
      "id": "398c76c4",
      "metadata": {
        "id": "398c76c4"
      },
      "outputs": [],
      "source": [
        "data = load_data(pd, 'database.csv')"
      ]
    },
    {
      "cell_type": "code",
      "execution_count": 151,
      "id": "f23cebd7",
      "metadata": {
        "id": "f23cebd7",
        "colab": {
          "base_uri": "https://localhost:8080/",
          "height": 357
        },
        "outputId": "7436050a-6e97-4454-8d95-95a84a95ad27"
      },
      "outputs": [
        {
          "output_type": "execute_result",
          "data": {
            "text/plain": [
              "   id                name        date   manner_of_death       armed   age  \\\n",
              "0   3          Tim Elliot  2015-01-02              shot         gun  53.0   \n",
              "1   4    Lewis Lee Lembke  2015-01-02              shot         gun  47.0   \n",
              "2   5  John Paul Quintero  2015-01-03  shot and Tasered     unarmed  23.0   \n",
              "3   8     Matthew Hoffman  2015-01-04              shot  toy weapon  32.0   \n",
              "4   9   Michael Rodriguez  2015-01-04              shot    nail gun  39.0   \n",
              "\n",
              "  gender race           city state  signs_of_mental_illness threat_level  \\\n",
              "0      M    A        Shelton    WA                     True       attack   \n",
              "1      M    W          Aloha    OR                    False       attack   \n",
              "2      M    H        Wichita    KS                    False        other   \n",
              "3      M    W  San Francisco    CA                     True       attack   \n",
              "4      M    H          Evans    CO                    False       attack   \n",
              "\n",
              "          flee  body_camera  \n",
              "0  Not fleeing        False  \n",
              "1  Not fleeing        False  \n",
              "2  Not fleeing        False  \n",
              "3  Not fleeing        False  \n",
              "4  Not fleeing        False  "
            ],
            "text/html": [
              "\n",
              "  <div id=\"df-3fbd29b2-2371-4500-9115-a1666c8cccce\">\n",
              "    <div class=\"colab-df-container\">\n",
              "      <div>\n",
              "<style scoped>\n",
              "    .dataframe tbody tr th:only-of-type {\n",
              "        vertical-align: middle;\n",
              "    }\n",
              "\n",
              "    .dataframe tbody tr th {\n",
              "        vertical-align: top;\n",
              "    }\n",
              "\n",
              "    .dataframe thead th {\n",
              "        text-align: right;\n",
              "    }\n",
              "</style>\n",
              "<table border=\"1\" class=\"dataframe\">\n",
              "  <thead>\n",
              "    <tr style=\"text-align: right;\">\n",
              "      <th></th>\n",
              "      <th>id</th>\n",
              "      <th>name</th>\n",
              "      <th>date</th>\n",
              "      <th>manner_of_death</th>\n",
              "      <th>armed</th>\n",
              "      <th>age</th>\n",
              "      <th>gender</th>\n",
              "      <th>race</th>\n",
              "      <th>city</th>\n",
              "      <th>state</th>\n",
              "      <th>signs_of_mental_illness</th>\n",
              "      <th>threat_level</th>\n",
              "      <th>flee</th>\n",
              "      <th>body_camera</th>\n",
              "    </tr>\n",
              "  </thead>\n",
              "  <tbody>\n",
              "    <tr>\n",
              "      <th>0</th>\n",
              "      <td>3</td>\n",
              "      <td>Tim Elliot</td>\n",
              "      <td>2015-01-02</td>\n",
              "      <td>shot</td>\n",
              "      <td>gun</td>\n",
              "      <td>53.0</td>\n",
              "      <td>M</td>\n",
              "      <td>A</td>\n",
              "      <td>Shelton</td>\n",
              "      <td>WA</td>\n",
              "      <td>True</td>\n",
              "      <td>attack</td>\n",
              "      <td>Not fleeing</td>\n",
              "      <td>False</td>\n",
              "    </tr>\n",
              "    <tr>\n",
              "      <th>1</th>\n",
              "      <td>4</td>\n",
              "      <td>Lewis Lee Lembke</td>\n",
              "      <td>2015-01-02</td>\n",
              "      <td>shot</td>\n",
              "      <td>gun</td>\n",
              "      <td>47.0</td>\n",
              "      <td>M</td>\n",
              "      <td>W</td>\n",
              "      <td>Aloha</td>\n",
              "      <td>OR</td>\n",
              "      <td>False</td>\n",
              "      <td>attack</td>\n",
              "      <td>Not fleeing</td>\n",
              "      <td>False</td>\n",
              "    </tr>\n",
              "    <tr>\n",
              "      <th>2</th>\n",
              "      <td>5</td>\n",
              "      <td>John Paul Quintero</td>\n",
              "      <td>2015-01-03</td>\n",
              "      <td>shot and Tasered</td>\n",
              "      <td>unarmed</td>\n",
              "      <td>23.0</td>\n",
              "      <td>M</td>\n",
              "      <td>H</td>\n",
              "      <td>Wichita</td>\n",
              "      <td>KS</td>\n",
              "      <td>False</td>\n",
              "      <td>other</td>\n",
              "      <td>Not fleeing</td>\n",
              "      <td>False</td>\n",
              "    </tr>\n",
              "    <tr>\n",
              "      <th>3</th>\n",
              "      <td>8</td>\n",
              "      <td>Matthew Hoffman</td>\n",
              "      <td>2015-01-04</td>\n",
              "      <td>shot</td>\n",
              "      <td>toy weapon</td>\n",
              "      <td>32.0</td>\n",
              "      <td>M</td>\n",
              "      <td>W</td>\n",
              "      <td>San Francisco</td>\n",
              "      <td>CA</td>\n",
              "      <td>True</td>\n",
              "      <td>attack</td>\n",
              "      <td>Not fleeing</td>\n",
              "      <td>False</td>\n",
              "    </tr>\n",
              "    <tr>\n",
              "      <th>4</th>\n",
              "      <td>9</td>\n",
              "      <td>Michael Rodriguez</td>\n",
              "      <td>2015-01-04</td>\n",
              "      <td>shot</td>\n",
              "      <td>nail gun</td>\n",
              "      <td>39.0</td>\n",
              "      <td>M</td>\n",
              "      <td>H</td>\n",
              "      <td>Evans</td>\n",
              "      <td>CO</td>\n",
              "      <td>False</td>\n",
              "      <td>attack</td>\n",
              "      <td>Not fleeing</td>\n",
              "      <td>False</td>\n",
              "    </tr>\n",
              "  </tbody>\n",
              "</table>\n",
              "</div>\n",
              "      <button class=\"colab-df-convert\" onclick=\"convertToInteractive('df-3fbd29b2-2371-4500-9115-a1666c8cccce')\"\n",
              "              title=\"Convert this dataframe to an interactive table.\"\n",
              "              style=\"display:none;\">\n",
              "        \n",
              "  <svg xmlns=\"http://www.w3.org/2000/svg\" height=\"24px\"viewBox=\"0 0 24 24\"\n",
              "       width=\"24px\">\n",
              "    <path d=\"M0 0h24v24H0V0z\" fill=\"none\"/>\n",
              "    <path d=\"M18.56 5.44l.94 2.06.94-2.06 2.06-.94-2.06-.94-.94-2.06-.94 2.06-2.06.94zm-11 1L8.5 8.5l.94-2.06 2.06-.94-2.06-.94L8.5 2.5l-.94 2.06-2.06.94zm10 10l.94 2.06.94-2.06 2.06-.94-2.06-.94-.94-2.06-.94 2.06-2.06.94z\"/><path d=\"M17.41 7.96l-1.37-1.37c-.4-.4-.92-.59-1.43-.59-.52 0-1.04.2-1.43.59L10.3 9.45l-7.72 7.72c-.78.78-.78 2.05 0 2.83L4 21.41c.39.39.9.59 1.41.59.51 0 1.02-.2 1.41-.59l7.78-7.78 2.81-2.81c.8-.78.8-2.07 0-2.86zM5.41 20L4 18.59l7.72-7.72 1.47 1.35L5.41 20z\"/>\n",
              "  </svg>\n",
              "      </button>\n",
              "      \n",
              "  <style>\n",
              "    .colab-df-container {\n",
              "      display:flex;\n",
              "      flex-wrap:wrap;\n",
              "      gap: 12px;\n",
              "    }\n",
              "\n",
              "    .colab-df-convert {\n",
              "      background-color: #E8F0FE;\n",
              "      border: none;\n",
              "      border-radius: 50%;\n",
              "      cursor: pointer;\n",
              "      display: none;\n",
              "      fill: #1967D2;\n",
              "      height: 32px;\n",
              "      padding: 0 0 0 0;\n",
              "      width: 32px;\n",
              "    }\n",
              "\n",
              "    .colab-df-convert:hover {\n",
              "      background-color: #E2EBFA;\n",
              "      box-shadow: 0px 1px 2px rgba(60, 64, 67, 0.3), 0px 1px 3px 1px rgba(60, 64, 67, 0.15);\n",
              "      fill: #174EA6;\n",
              "    }\n",
              "\n",
              "    [theme=dark] .colab-df-convert {\n",
              "      background-color: #3B4455;\n",
              "      fill: #D2E3FC;\n",
              "    }\n",
              "\n",
              "    [theme=dark] .colab-df-convert:hover {\n",
              "      background-color: #434B5C;\n",
              "      box-shadow: 0px 1px 3px 1px rgba(0, 0, 0, 0.15);\n",
              "      filter: drop-shadow(0px 1px 2px rgba(0, 0, 0, 0.3));\n",
              "      fill: #FFFFFF;\n",
              "    }\n",
              "  </style>\n",
              "\n",
              "      <script>\n",
              "        const buttonEl =\n",
              "          document.querySelector('#df-3fbd29b2-2371-4500-9115-a1666c8cccce button.colab-df-convert');\n",
              "        buttonEl.style.display =\n",
              "          google.colab.kernel.accessAllowed ? 'block' : 'none';\n",
              "\n",
              "        async function convertToInteractive(key) {\n",
              "          const element = document.querySelector('#df-3fbd29b2-2371-4500-9115-a1666c8cccce');\n",
              "          const dataTable =\n",
              "            await google.colab.kernel.invokeFunction('convertToInteractive',\n",
              "                                                     [key], {});\n",
              "          if (!dataTable) return;\n",
              "\n",
              "          const docLinkHtml = 'Like what you see? Visit the ' +\n",
              "            '<a target=\"_blank\" href=https://colab.research.google.com/notebooks/data_table.ipynb>data table notebook</a>'\n",
              "            + ' to learn more about interactive tables.';\n",
              "          element.innerHTML = '';\n",
              "          dataTable['output_type'] = 'display_data';\n",
              "          await google.colab.output.renderOutput(dataTable, element);\n",
              "          const docLink = document.createElement('div');\n",
              "          docLink.innerHTML = docLinkHtml;\n",
              "          element.appendChild(docLink);\n",
              "        }\n",
              "      </script>\n",
              "    </div>\n",
              "  </div>\n",
              "  "
            ]
          },
          "metadata": {},
          "execution_count": 151
        }
      ],
      "source": [
        "data.head()"
      ]
    },
    {
      "cell_type": "markdown",
      "source": [
        "### 2.3 Data Cleaning"
      ],
      "metadata": {
        "id": "_2Gt96z5wW2Q"
      },
      "id": "_2Gt96z5wW2Q"
    },
    {
      "cell_type": "code",
      "source": [
        "#replacing race abbrevation with real name\n",
        "data = data.replace(\n",
        "    {\n",
        "        \"race\": {\n",
        "            \"W\": \"White\",\n",
        "            \"B\": \"Black\",\n",
        "            \"A\": \"Asian\",\n",
        "            \"H\": \"Hispanic\",\n",
        "            \"O\": \"Other\",\n",
        "            \"N\": \"Native\",\n",
        "        }\n",
        "    }\n",
        ")"
      ],
      "metadata": {
        "id": "pdFHiuVNwawW"
      },
      "id": "pdFHiuVNwawW",
      "execution_count": 152,
      "outputs": []
    },
    {
      "cell_type": "markdown",
      "source": [
        "#### 2.3.1 Handling Missing Data\n",
        "Let's see if the dataset contains missing data using `DataFrame.info()` method "
      ],
      "metadata": {
        "id": "het5qtQcU4L2"
      },
      "id": "het5qtQcU4L2"
    },
    {
      "cell_type": "code",
      "source": [
        "data.info()"
      ],
      "metadata": {
        "colab": {
          "base_uri": "https://localhost:8080/"
        },
        "id": "F7fH99wVpf8n",
        "outputId": "22b3dc5c-bc7a-4839-9ac5-00ac67e62498"
      },
      "id": "F7fH99wVpf8n",
      "execution_count": 153,
      "outputs": [
        {
          "output_type": "stream",
          "name": "stdout",
          "text": [
            "<class 'pandas.core.frame.DataFrame'>\n",
            "RangeIndex: 2142 entries, 0 to 2141\n",
            "Data columns (total 14 columns):\n",
            " #   Column                   Non-Null Count  Dtype  \n",
            "---  ------                   --------------  -----  \n",
            " 0   id                       2142 non-null   int64  \n",
            " 1   name                     2123 non-null   object \n",
            " 2   date                     2142 non-null   object \n",
            " 3   manner_of_death          2142 non-null   object \n",
            " 4   armed                    2136 non-null   object \n",
            " 5   age                      2099 non-null   float64\n",
            " 6   gender                   2141 non-null   object \n",
            " 7   race                     2039 non-null   object \n",
            " 8   city                     2142 non-null   object \n",
            " 9   state                    2142 non-null   object \n",
            " 10  signs_of_mental_illness  2142 non-null   bool   \n",
            " 11  threat_level             2142 non-null   object \n",
            " 12  flee                     2106 non-null   object \n",
            " 13  body_camera              2142 non-null   bool   \n",
            "dtypes: bool(2), float64(1), int64(1), object(10)\n",
            "memory usage: 205.1+ KB\n"
          ]
        }
      ]
    },
    {
      "cell_type": "markdown",
      "source": [
        "The above output shows there's small amount of missing data in our dataset. This could affect our interpretation of the analysis, we should work through missing data by dropping them from the dataset."
      ],
      "metadata": {
        "id": "w0Ljg1myrSU7"
      },
      "id": "w0Ljg1myrSU7"
    },
    {
      "cell_type": "code",
      "source": [
        "missing_data_counts = data.isnull().sum()\n",
        "missing_data_counts"
      ],
      "metadata": {
        "colab": {
          "base_uri": "https://localhost:8080/"
        },
        "id": "wXk1umHYeQ69",
        "outputId": "5ff233a1-59c9-4732-8af7-9a80b240b053"
      },
      "id": "wXk1umHYeQ69",
      "execution_count": 154,
      "outputs": [
        {
          "output_type": "execute_result",
          "data": {
            "text/plain": [
              "id                           0\n",
              "name                        19\n",
              "date                         0\n",
              "manner_of_death              0\n",
              "armed                        6\n",
              "age                         43\n",
              "gender                       1\n",
              "race                       103\n",
              "city                         0\n",
              "state                        0\n",
              "signs_of_mental_illness      0\n",
              "threat_level                 0\n",
              "flee                        36\n",
              "body_camera                  0\n",
              "dtype: int64"
            ]
          },
          "metadata": {},
          "execution_count": 154
        }
      ]
    },
    {
      "cell_type": "markdown",
      "source": [
        "\n",
        "\n",
        "The race column is the column with most data missing. In this case it's better to take out columns with missing data. These columns are, \"race\" \"armed\", \"age\", and \"flee\".\n"
      ],
      "metadata": {
        "id": "ngvL10fDe0Rl"
      },
      "id": "ngvL10fDe0Rl"
    },
    {
      "cell_type": "code",
      "source": [
        "data = data.dropna(subset=['race', 'armed', 'age', 'flee']).reset_index()\n",
        "data.info()"
      ],
      "metadata": {
        "colab": {
          "base_uri": "https://localhost:8080/"
        },
        "id": "G8kHmDjhfO9X",
        "outputId": "1124a693-10f7-400f-8ac9-b6da2f9e43e0"
      },
      "id": "G8kHmDjhfO9X",
      "execution_count": 155,
      "outputs": [
        {
          "output_type": "stream",
          "name": "stdout",
          "text": [
            "<class 'pandas.core.frame.DataFrame'>\n",
            "RangeIndex: 1986 entries, 0 to 1985\n",
            "Data columns (total 15 columns):\n",
            " #   Column                   Non-Null Count  Dtype  \n",
            "---  ------                   --------------  -----  \n",
            " 0   index                    1986 non-null   int64  \n",
            " 1   id                       1986 non-null   int64  \n",
            " 2   name                     1986 non-null   object \n",
            " 3   date                     1986 non-null   object \n",
            " 4   manner_of_death          1986 non-null   object \n",
            " 5   armed                    1986 non-null   object \n",
            " 6   age                      1986 non-null   float64\n",
            " 7   gender                   1986 non-null   object \n",
            " 8   race                     1986 non-null   object \n",
            " 9   city                     1986 non-null   object \n",
            " 10  state                    1986 non-null   object \n",
            " 11  signs_of_mental_illness  1986 non-null   bool   \n",
            " 12  threat_level             1986 non-null   object \n",
            " 13  flee                     1986 non-null   object \n",
            " 14  body_camera              1986 non-null   bool   \n",
            "dtypes: bool(2), float64(1), int64(2), object(10)\n",
            "memory usage: 205.7+ KB\n"
          ]
        }
      ]
    },
    {
      "cell_type": "markdown",
      "source": [
        "The post cleaning dataset contains 1986 observations of 15 features."
      ],
      "metadata": {
        "id": "6CP4Hptyfii7"
      },
      "id": "6CP4Hptyfii7"
    },
    {
      "cell_type": "markdown",
      "source": [
        "#### 2.3.2 Parsing Date Column"
      ],
      "metadata": {
        "id": "wR83wHA8WWjT"
      },
      "id": "wR83wHA8WWjT"
    },
    {
      "cell_type": "code",
      "source": [
        "data[\"date\"] = pd.to_datetime(data[\"date\"])\n",
        "data['year'] = pd.DatetimeIndex(data['date']).year"
      ],
      "metadata": {
        "id": "u9C960xdxOhL"
      },
      "id": "u9C960xdxOhL",
      "execution_count": 194,
      "outputs": []
    },
    {
      "cell_type": "code",
      "source": [
        "#date\n",
        "earliest_date = data['date'].min()\n",
        "latest_date = data['date'].max()\n",
        "print(f'This dataset is recorded between {earliest_date} and {latest_date}.')"
      ],
      "metadata": {
        "colab": {
          "base_uri": "https://localhost:8080/"
        },
        "id": "Y98ubV2kxd3E",
        "outputId": "397dbc0d-033e-4ef8-c91a-0fa544cc4942"
      },
      "id": "Y98ubV2kxd3E",
      "execution_count": 157,
      "outputs": [
        {
          "output_type": "stream",
          "name": "stdout",
          "text": [
            "This dataset is recorded between 2015-01-02 00:00:00 and 2017-02-28 00:00:00.\n"
          ]
        }
      ]
    },
    {
      "cell_type": "markdown",
      "source": [
        "## 3. Explaratory Data Analysis and Data Visualization"
      ],
      "metadata": {
        "id": "XEskQXtXWwfb"
      },
      "id": "XEskQXtXWwfb"
    },
    {
      "cell_type": "markdown",
      "source": [
        "### 3.1 Distribution of Ages"
      ],
      "metadata": {
        "id": "hTJcYGESo4i-"
      },
      "id": "hTJcYGESo4i-"
    },
    {
      "cell_type": "code",
      "source": [
        "data['age'].describe().round()"
      ],
      "metadata": {
        "colab": {
          "base_uri": "https://localhost:8080/"
        },
        "id": "3dckXPN0sqGD",
        "outputId": "b2ec2714-c6ce-4a64-9b26-241914daa6da"
      },
      "id": "3dckXPN0sqGD",
      "execution_count": 167,
      "outputs": [
        {
          "output_type": "execute_result",
          "data": {
            "text/plain": [
              "count    1986.0\n",
              "mean       36.0\n",
              "std        13.0\n",
              "min         6.0\n",
              "25%        26.0\n",
              "50%        34.0\n",
              "75%        45.0\n",
              "max        83.0\n",
              "Name: age, dtype: float64"
            ]
          },
          "metadata": {},
          "execution_count": 167
        }
      ]
    },
    {
      "cell_type": "markdown",
      "source": [
        "Note: 95% of killings are aged 11-63"
      ],
      "metadata": {
        "id": "N7BUDF-Qtl7_"
      },
      "id": "N7BUDF-Qtl7_"
    },
    {
      "cell_type": "code",
      "source": [
        "fig = plt.figure(figsize=(10,6))\n",
        "sb.distplot(data['age'],bins=30)\n",
        "plt.title('Distribution of age of individuals shot by police')\n",
        "plt.show()"
      ],
      "metadata": {
        "colab": {
          "base_uri": "https://localhost:8080/",
          "height": 410
        },
        "id": "nIhEbs5psMd6",
        "outputId": "925982b9-5b26-4f95-8e72-4e9dcd65ce17"
      },
      "id": "nIhEbs5psMd6",
      "execution_count": 158,
      "outputs": [
        {
          "output_type": "display_data",
          "data": {
            "text/plain": [
              "<Figure size 720x432 with 1 Axes>"
            ],
            "image/png": "[encoded data removed]"
          },
          "metadata": {}
        }
      ]
    },
    {
      "cell_type": "markdown",
      "source": [
        "Observations:\n",
        "\n",
        "    Most of the individuals shot and killed by police were between the ages of 20 and 40, with very few older than 80 or younger than 16. Though there are 20 children under the age of 16 that were killed by police.\n"
      ],
      "metadata": {
        "id": "WYEqa6z76wmO"
      },
      "id": "WYEqa6z76wmO"
    },
    {
      "cell_type": "markdown",
      "source": [
        "#### 3.1.1 Analysis of Race Vs Age"
      ],
      "metadata": {
        "id": "6aYoPGqEqW4s"
      },
      "id": "6aYoPGqEqW4s"
    },
    {
      "cell_type": "code",
      "source": [
        "race_and_age = data.groupby('race')\n",
        "sb.boxplot(x='race', y='age', data=data)\n",
        "\n",
        "plt.xlabel(\"Race\")\n",
        "plt.ylabel(\"Age\")\n",
        "plt.title(\"Killings Based on Age Separated by Race\")\n",
        "plt.show()"
      ],
      "metadata": {
        "colab": {
          "base_uri": "https://localhost:8080/",
          "height": 301
        },
        "id": "SPVQg_bbvPYA",
        "outputId": "30c068ad-80ca-402e-dce3-39db35e32904"
      },
      "id": "SPVQg_bbvPYA",
      "execution_count": 168,
      "outputs": [
        {
          "output_type": "display_data",
          "data": {
            "text/plain": [
              "<Figure size 432x288 with 1 Axes>"
            ],
            "image/png": "[encoded data removed]"
          },
          "metadata": {}
        }
      ]
    },
    {
      "cell_type": "markdown",
      "source": [
        "From the above visualization we can see the mean age for each race. All of the races are consistently in there 30's and all of them being in the early 30's with the exception of the White population that had there mean centered around late 30's. From the graph it looks like the race with the most range of killings is the White population who looks to have the min and max values of our dataset. The Asian, Hispanic and Black population look very close together. The Native American population seems to have the least amount of range having the people killed by police being between late teens and late 40's."
      ],
      "metadata": {
        "id": "J7Kaa5VlwECw"
      },
      "id": "J7Kaa5VlwECw"
    },
    {
      "cell_type": "markdown",
      "source": [
        "### 3.2 Race and Death (Overview of Deaths by Race)\n",
        "This section focuses on the rate at which each race is being killed by police. \n",
        "This is more valuable information than just counting how many people from each race have been killed because we are able to weigh our information by comparing deaths by population."
      ],
      "metadata": {
        "id": "bZhLf7v5voxC"
      },
      "id": "bZhLf7v5voxC"
    },
    {
      "cell_type": "markdown",
      "source": [
        "#### 3.2.1 Visualizing percentage's of peoples killed from different race in span of 2 years"
      ],
      "metadata": {
        "id": "cYPsGSwTo_lc"
      },
      "id": "cYPsGSwTo_lc"
    },
    {
      "cell_type": "code",
      "source": [
        "def makePlot(plot_type:str, data:pd.DataFrame, \\\n",
        "                    feature:str, title:str = '', label:str = '', label2:str = '')->None:\n",
        "    ax = None\n",
        "    plt.figure(figsize=(6,5))\n",
        "    if plot_type == 'boxplot':\n",
        "        plt.boxplot(data =data , x = feature);\n",
        "    else:\n",
        "        ax = sb.countplot(data = data, x = feature)\n",
        "    plt.xlabel(label2)\n",
        "    plt.ylabel(label)\n",
        "    plt.title(title)\n",
        "    \n",
        "    if ax is not None:\n",
        "        for p in ax.patches:\n",
        "            percentage = '{:.1f}%'.format(100 * p.get_height()/len(data))\n",
        "            x = p.get_x() + p.get_width() - 0.5\n",
        "            y = p.get_height() + 0.1\n",
        "            ax.annotate(percentage, (x, y))\n",
        "    plt.show()"
      ],
      "metadata": {
        "id": "HnuntzCpuiFw"
      },
      "id": "HnuntzCpuiFw",
      "execution_count": 159,
      "outputs": []
    },
    {
      "cell_type": "code",
      "source": [
        "ylabel = 'Count'\n",
        "xlabel = 'Race'\n",
        "title = 'Counts of death'\n",
        "makePlot('seaborn', data, 'race',title, ylabel, xlabel)"
      ],
      "metadata": {
        "colab": {
          "base_uri": "https://localhost:8080/",
          "height": 355
        },
        "id": "O3XVryhavbH2",
        "outputId": "f8d6c634-c14f-4743-cd0e-a42701cddd62"
      },
      "id": "O3XVryhavbH2",
      "execution_count": 160,
      "outputs": [
        {
          "output_type": "display_data",
          "data": {
            "text/plain": [
              "<Figure size 432x360 with 1 Axes>"
            ],
            "image/png": "[encoded data removed]"
          },
          "metadata": {}
        }
      ]
    },
    {
      "cell_type": "markdown",
      "source": [
        "Whites, Blacks, and Hispanics are the three highest race deathrates in this dataset. But this high level analysis could suggest discrimnation, because there might be over-representation. In order to give fair analysis, I'll take information from Statista that will give me the population of each race in the United States for the year 2016. The link will be inserted below: https://www.statista.com/statistics/183489/population-of-the-us-by-ethnicity-since-2000/"
      ],
      "metadata": {
        "id": "0dptdTDxkFKX"
      },
      "id": "0dptdTDxkFKX"
    },
    {
      "cell_type": "markdown",
      "source": [
        "Since the racial composition of the United States is not equal, we will  need to work with proportions"
      ],
      "metadata": {
        "id": "QOdQvbjgJWUg"
      },
      "id": "QOdQvbjgJWUg"
    },
    {
      "cell_type": "code",
      "source": [
        "demographics = [248410000, 42970000, 60570000, 18280000, 846000, 4050000]\n",
        "population = pd.Series(demographics, index = ['White', 'Black', 'Hispanic', 'Asian', 'Other', 'Native'])"
      ],
      "metadata": {
        "id": "2kVkIAUq5vrR"
      },
      "id": "2kVkIAUq5vrR",
      "execution_count": 161,
      "outputs": []
    },
    {
      "cell_type": "code",
      "source": [
        "# # death_rate_race = data['race'].value_counts()\n",
        "# # unarmed_race = data[data.armed.str.contains('unarmed', na=False)]\n",
        "# # unarmed_race_count = unarmed_race['race'].value_counts()\n",
        "\n",
        "# # for race in population.index:\n",
        "# #   if race not in death_rate_race:\n",
        "# #     death_rate_race[race]  = 0\n",
        "# #   if race not in unarmed_race_count:\n",
        "# #     unarmed_race_count[race] = 0\n",
        "    \n",
        "# # proportion = {race:[death_rate_race[race]/population[race], unarmed_race_count[race]/population[race]] for race in population.index}\n",
        "# # death_df = pd.DataFrame(data = proportion, index = ['death_race', 'unarmed_death_race'])\n",
        "# # death_df\n",
        "\n",
        "# This means the rate at which Black people are being killed is 3 times higher than the white population and 2 times higher than the Hispanic population. From this analysis we can see that the rate of killings for Asia population is the lowest among all."
      ],
      "metadata": {
        "id": "_d1Ne5H2l-IR"
      },
      "id": "_d1Ne5H2l-IR",
      "execution_count": 162,
      "outputs": []
    },
    {
      "cell_type": "markdown",
      "source": [
        "### 3.3 Unarmed Killings By Race"
      ],
      "metadata": {
        "id": "D_Jr4upBwqO3"
      },
      "id": "D_Jr4upBwqO3"
    },
    {
      "cell_type": "code",
      "source": [
        "# Grouping the data by race and if they were armed or not\n",
        "df_armed = data\n",
        "df_armed[\"armed\"] = data[\"armed\"] != \"unarmed\"\n",
        "\n",
        "race_armed = df_armed.groupby([\"race\", \"armed\"], as_index=False).index.count()\n",
        "race_armed.sort_values(by=[\"armed\", \"index\"], ascending=[False, False], inplace=True)\n",
        "race_armed = race_armed.rename(columns={\"index\": \"count\"})\n",
        "race_armed"
      ],
      "metadata": {
        "colab": {
          "base_uri": "https://localhost:8080/",
          "height": 394
        },
        "id": "0oy38SkXwtkv",
        "outputId": "f5932ffd-691f-4d6a-c5e5-ef08c95672b5"
      },
      "id": "0oy38SkXwtkv",
      "execution_count": 163,
      "outputs": [
        {
          "output_type": "execute_result",
          "data": {
            "text/plain": [
              "        race  armed  count\n",
              "10     White   True    962\n",
              "2      Black   True    467\n",
              "4   Hispanic   True    326\n",
              "0      Asian   True     32\n",
              "6     Native   True     24\n",
              "8      Other   True     24\n",
              "9      White  False     60\n",
              "1      Black  False     56\n",
              "3   Hispanic  False     29\n",
              "7      Other  False      4\n",
              "5     Native  False      2"
            ],
            "text/html": [
              "\n",
              "  <div id=\"df-1f674422-b99d-4687-893b-d5ca61c36d29\">\n",
              "    <div class=\"colab-df-container\">\n",
              "      <div>\n",
              "<style scoped>\n",
              "    .dataframe tbody tr th:only-of-type {\n",
              "        vertical-align: middle;\n",
              "    }\n",
              "\n",
              "    .dataframe tbody tr th {\n",
              "        vertical-align: top;\n",
              "    }\n",
              "\n",
              "    .dataframe thead th {\n",
              "        text-align: right;\n",
              "    }\n",
              "</style>\n",
              "<table border=\"1\" class=\"dataframe\">\n",
              "  <thead>\n",
              "    <tr style=\"text-align: right;\">\n",
              "      <th></th>\n",
              "      <th>race</th>\n",
              "      <th>armed</th>\n",
              "      <th>count</th>\n",
              "    </tr>\n",
              "  </thead>\n",
              "  <tbody>\n",
              "    <tr>\n",
              "      <th>10</th>\n",
              "      <td>White</td>\n",
              "      <td>True</td>\n",
              "      <td>962</td>\n",
              "    </tr>\n",
              "    <tr>\n",
              "      <th>2</th>\n",
              "      <td>Black</td>\n",
              "      <td>True</td>\n",
              "      <td>467</td>\n",
              "    </tr>\n",
              "    <tr>\n",
              "      <th>4</th>\n",
              "      <td>Hispanic</td>\n",
              "      <td>True</td>\n",
              "      <td>326</td>\n",
              "    </tr>\n",
              "    <tr>\n",
              "      <th>0</th>\n",
              "      <td>Asian</td>\n",
              "      <td>True</td>\n",
              "      <td>32</td>\n",
              "    </tr>\n",
              "    <tr>\n",
              "      <th>6</th>\n",
              "      <td>Native</td>\n",
              "      <td>True</td>\n",
              "      <td>24</td>\n",
              "    </tr>\n",
              "    <tr>\n",
              "      <th>8</th>\n",
              "      <td>Other</td>\n",
              "      <td>True</td>\n",
              "      <td>24</td>\n",
              "    </tr>\n",
              "    <tr>\n",
              "      <th>9</th>\n",
              "      <td>White</td>\n",
              "      <td>False</td>\n",
              "      <td>60</td>\n",
              "    </tr>\n",
              "    <tr>\n",
              "      <th>1</th>\n",
              "      <td>Black</td>\n",
              "      <td>False</td>\n",
              "      <td>56</td>\n",
              "    </tr>\n",
              "    <tr>\n",
              "      <th>3</th>\n",
              "      <td>Hispanic</td>\n",
              "      <td>False</td>\n",
              "      <td>29</td>\n",
              "    </tr>\n",
              "    <tr>\n",
              "      <th>7</th>\n",
              "      <td>Other</td>\n",
              "      <td>False</td>\n",
              "      <td>4</td>\n",
              "    </tr>\n",
              "    <tr>\n",
              "      <th>5</th>\n",
              "      <td>Native</td>\n",
              "      <td>False</td>\n",
              "      <td>2</td>\n",
              "    </tr>\n",
              "  </tbody>\n",
              "</table>\n",
              "</div>\n",
              "      <button class=\"colab-df-convert\" onclick=\"convertToInteractive('df-1f674422-b99d-4687-893b-d5ca61c36d29')\"\n",
              "              title=\"Convert this dataframe to an interactive table.\"\n",
              "              style=\"display:none;\">\n",
              "        \n",
              "  <svg xmlns=\"http://www.w3.org/2000/svg\" height=\"24px\"viewBox=\"0 0 24 24\"\n",
              "       width=\"24px\">\n",
              "    <path d=\"M0 0h24v24H0V0z\" fill=\"none\"/>\n",
              "    <path d=\"M18.56 5.44l.94 2.06.94-2.06 2.06-.94-2.06-.94-.94-2.06-.94 2.06-2.06.94zm-11 1L8.5 8.5l.94-2.06 2.06-.94-2.06-.94L8.5 2.5l-.94 2.06-2.06.94zm10 10l.94 2.06.94-2.06 2.06-.94-2.06-.94-.94-2.06-.94 2.06-2.06.94z\"/><path d=\"M17.41 7.96l-1.37-1.37c-.4-.4-.92-.59-1.43-.59-.52 0-1.04.2-1.43.59L10.3 9.45l-7.72 7.72c-.78.78-.78 2.05 0 2.83L4 21.41c.39.39.9.59 1.41.59.51 0 1.02-.2 1.41-.59l7.78-7.78 2.81-2.81c.8-.78.8-2.07 0-2.86zM5.41 20L4 18.59l7.72-7.72 1.47 1.35L5.41 20z\"/>\n",
              "  </svg>\n",
              "      </button>\n",
              "      \n",
              "  <style>\n",
              "    .colab-df-container {\n",
              "      display:flex;\n",
              "      flex-wrap:wrap;\n",
              "      gap: 12px;\n",
              "    }\n",
              "\n",
              "    .colab-df-convert {\n",
              "      background-color: #E8F0FE;\n",
              "      border: none;\n",
              "      border-radius: 50%;\n",
              "      cursor: pointer;\n",
              "      display: none;\n",
              "      fill: #1967D2;\n",
              "      height: 32px;\n",
              "      padding: 0 0 0 0;\n",
              "      width: 32px;\n",
              "    }\n",
              "\n",
              "    .colab-df-convert:hover {\n",
              "      background-color: #E2EBFA;\n",
              "      box-shadow: 0px 1px 2px rgba(60, 64, 67, 0.3), 0px 1px 3px 1px rgba(60, 64, 67, 0.15);\n",
              "      fill: #174EA6;\n",
              "    }\n",
              "\n",
              "    [theme=dark] .colab-df-convert {\n",
              "      background-color: #3B4455;\n",
              "      fill: #D2E3FC;\n",
              "    }\n",
              "\n",
              "    [theme=dark] .colab-df-convert:hover {\n",
              "      background-color: #434B5C;\n",
              "      box-shadow: 0px 1px 3px 1px rgba(0, 0, 0, 0.15);\n",
              "      filter: drop-shadow(0px 1px 2px rgba(0, 0, 0, 0.3));\n",
              "      fill: #FFFFFF;\n",
              "    }\n",
              "  </style>\n",
              "\n",
              "      <script>\n",
              "        const buttonEl =\n",
              "          document.querySelector('#df-1f674422-b99d-4687-893b-d5ca61c36d29 button.colab-df-convert');\n",
              "        buttonEl.style.display =\n",
              "          google.colab.kernel.accessAllowed ? 'block' : 'none';\n",
              "\n",
              "        async function convertToInteractive(key) {\n",
              "          const element = document.querySelector('#df-1f674422-b99d-4687-893b-d5ca61c36d29');\n",
              "          const dataTable =\n",
              "            await google.colab.kernel.invokeFunction('convertToInteractive',\n",
              "                                                     [key], {});\n",
              "          if (!dataTable) return;\n",
              "\n",
              "          const docLinkHtml = 'Like what you see? Visit the ' +\n",
              "            '<a target=\"_blank\" href=https://colab.research.google.com/notebooks/data_table.ipynb>data table notebook</a>'\n",
              "            + ' to learn more about interactive tables.';\n",
              "          element.innerHTML = '';\n",
              "          dataTable['output_type'] = 'display_data';\n",
              "          await google.colab.output.renderOutput(dataTable, element);\n",
              "          const docLink = document.createElement('div');\n",
              "          docLink.innerHTML = docLinkHtml;\n",
              "          element.appendChild(docLink);\n",
              "        }\n",
              "      </script>\n",
              "    </div>\n",
              "  </div>\n",
              "  "
            ]
          },
          "metadata": {},
          "execution_count": 163
        }
      ]
    },
    {
      "cell_type": "code",
      "source": [
        "# Calculating the proportion of armed and unarmed police shootings\n",
        "armed_race_proportion = (\n",
        "    race_armed.pivot(\"race\", \"armed\", \"count\")\n",
        "    .apply(lambda x: x / x.sum(), axis=1)\n",
        "    .sort_values(by=True)\n",
        "    .dropna()\n",
        ")\n",
        "armed_race_proportion"
      ],
      "metadata": {
        "colab": {
          "base_uri": "https://localhost:8080/",
          "height": 238
        },
        "id": "QTl_pPYMJgQw",
        "outputId": "44149cb8-00d0-481a-fb52-e60330f55243"
      },
      "id": "QTl_pPYMJgQw",
      "execution_count": 164,
      "outputs": [
        {
          "output_type": "execute_result",
          "data": {
            "text/plain": [
              "armed        False      True\n",
              "race                        \n",
              "Other     0.142857  0.857143\n",
              "Black     0.107075  0.892925\n",
              "Hispanic  0.081690  0.918310\n",
              "Native    0.076923  0.923077\n",
              "White     0.058708  0.941292"
            ],
            "text/html": [
              "\n",
              "  <div id=\"df-7ac9681a-5efe-4c5d-9788-1a0a2acb3a09\">\n",
              "    <div class=\"colab-df-container\">\n",
              "      <div>\n",
              "<style scoped>\n",
              "    .dataframe tbody tr th:only-of-type {\n",
              "        vertical-align: middle;\n",
              "    }\n",
              "\n",
              "    .dataframe tbody tr th {\n",
              "        vertical-align: top;\n",
              "    }\n",
              "\n",
              "    .dataframe thead th {\n",
              "        text-align: right;\n",
              "    }\n",
              "</style>\n",
              "<table border=\"1\" class=\"dataframe\">\n",
              "  <thead>\n",
              "    <tr style=\"text-align: right;\">\n",
              "      <th>armed</th>\n",
              "      <th>False</th>\n",
              "      <th>True</th>\n",
              "    </tr>\n",
              "    <tr>\n",
              "      <th>race</th>\n",
              "      <th></th>\n",
              "      <th></th>\n",
              "    </tr>\n",
              "  </thead>\n",
              "  <tbody>\n",
              "    <tr>\n",
              "      <th>Other</th>\n",
              "      <td>0.142857</td>\n",
              "      <td>0.857143</td>\n",
              "    </tr>\n",
              "    <tr>\n",
              "      <th>Black</th>\n",
              "      <td>0.107075</td>\n",
              "      <td>0.892925</td>\n",
              "    </tr>\n",
              "    <tr>\n",
              "      <th>Hispanic</th>\n",
              "      <td>0.081690</td>\n",
              "      <td>0.918310</td>\n",
              "    </tr>\n",
              "    <tr>\n",
              "      <th>Native</th>\n",
              "      <td>0.076923</td>\n",
              "      <td>0.923077</td>\n",
              "    </tr>\n",
              "    <tr>\n",
              "      <th>White</th>\n",
              "      <td>0.058708</td>\n",
              "      <td>0.941292</td>\n",
              "    </tr>\n",
              "  </tbody>\n",
              "</table>\n",
              "</div>\n",
              "      <button class=\"colab-df-convert\" onclick=\"convertToInteractive('df-7ac9681a-5efe-4c5d-9788-1a0a2acb3a09')\"\n",
              "              title=\"Convert this dataframe to an interactive table.\"\n",
              "              style=\"display:none;\">\n",
              "        \n",
              "  <svg xmlns=\"http://www.w3.org/2000/svg\" height=\"24px\"viewBox=\"0 0 24 24\"\n",
              "       width=\"24px\">\n",
              "    <path d=\"M0 0h24v24H0V0z\" fill=\"none\"/>\n",
              "    <path d=\"M18.56 5.44l.94 2.06.94-2.06 2.06-.94-2.06-.94-.94-2.06-.94 2.06-2.06.94zm-11 1L8.5 8.5l.94-2.06 2.06-.94-2.06-.94L8.5 2.5l-.94 2.06-2.06.94zm10 10l.94 2.06.94-2.06 2.06-.94-2.06-.94-.94-2.06-.94 2.06-2.06.94z\"/><path d=\"M17.41 7.96l-1.37-1.37c-.4-.4-.92-.59-1.43-.59-.52 0-1.04.2-1.43.59L10.3 9.45l-7.72 7.72c-.78.78-.78 2.05 0 2.83L4 21.41c.39.39.9.59 1.41.59.51 0 1.02-.2 1.41-.59l7.78-7.78 2.81-2.81c.8-.78.8-2.07 0-2.86zM5.41 20L4 18.59l7.72-7.72 1.47 1.35L5.41 20z\"/>\n",
              "  </svg>\n",
              "      </button>\n",
              "      \n",
              "  <style>\n",
              "    .colab-df-container {\n",
              "      display:flex;\n",
              "      flex-wrap:wrap;\n",
              "      gap: 12px;\n",
              "    }\n",
              "\n",
              "    .colab-df-convert {\n",
              "      background-color: #E8F0FE;\n",
              "      border: none;\n",
              "      border-radius: 50%;\n",
              "      cursor: pointer;\n",
              "      display: none;\n",
              "      fill: #1967D2;\n",
              "      height: 32px;\n",
              "      padding: 0 0 0 0;\n",
              "      width: 32px;\n",
              "    }\n",
              "\n",
              "    .colab-df-convert:hover {\n",
              "      background-color: #E2EBFA;\n",
              "      box-shadow: 0px 1px 2px rgba(60, 64, 67, 0.3), 0px 1px 3px 1px rgba(60, 64, 67, 0.15);\n",
              "      fill: #174EA6;\n",
              "    }\n",
              "\n",
              "    [theme=dark] .colab-df-convert {\n",
              "      background-color: #3B4455;\n",
              "      fill: #D2E3FC;\n",
              "    }\n",
              "\n",
              "    [theme=dark] .colab-df-convert:hover {\n",
              "      background-color: #434B5C;\n",
              "      box-shadow: 0px 1px 3px 1px rgba(0, 0, 0, 0.15);\n",
              "      filter: drop-shadow(0px 1px 2px rgba(0, 0, 0, 0.3));\n",
              "      fill: #FFFFFF;\n",
              "    }\n",
              "  </style>\n",
              "\n",
              "      <script>\n",
              "        const buttonEl =\n",
              "          document.querySelector('#df-7ac9681a-5efe-4c5d-9788-1a0a2acb3a09 button.colab-df-convert');\n",
              "        buttonEl.style.display =\n",
              "          google.colab.kernel.accessAllowed ? 'block' : 'none';\n",
              "\n",
              "        async function convertToInteractive(key) {\n",
              "          const element = document.querySelector('#df-7ac9681a-5efe-4c5d-9788-1a0a2acb3a09');\n",
              "          const dataTable =\n",
              "            await google.colab.kernel.invokeFunction('convertToInteractive',\n",
              "                                                     [key], {});\n",
              "          if (!dataTable) return;\n",
              "\n",
              "          const docLinkHtml = 'Like what you see? Visit the ' +\n",
              "            '<a target=\"_blank\" href=https://colab.research.google.com/notebooks/data_table.ipynb>data table notebook</a>'\n",
              "            + ' to learn more about interactive tables.';\n",
              "          element.innerHTML = '';\n",
              "          dataTable['output_type'] = 'display_data';\n",
              "          await google.colab.output.renderOutput(dataTable, element);\n",
              "          const docLink = document.createElement('div');\n",
              "          docLink.innerHTML = docLinkHtml;\n",
              "          element.appendChild(docLink);\n",
              "        }\n",
              "      </script>\n",
              "    </div>\n",
              "  </div>\n",
              "  "
            ]
          },
          "metadata": {},
          "execution_count": 164
        }
      ]
    },
    {
      "cell_type": "markdown",
      "source": [
        "We can already see, that the biggest proportion of armed victims are white, but let us plot the results, to have a better understanding of the scale"
      ],
      "metadata": {
        "id": "x_grjMaiKBVz"
      },
      "id": "x_grjMaiKBVz"
    },
    {
      "cell_type": "code",
      "source": [
        "# Plotting the results\n",
        "fig, ax = plt.subplots(figsize=(10, 7))\n",
        "armed_race_proportion[False].plot(kind=\"barh\", stacked=True, ax=ax) \\\n",
        ".legend(loc=\"center left\", bbox_to_anchor=(1.25, 0.5), ncol=1, title=\"Armed\")\n",
        "\n",
        "plt.xticks(np.arange(0, np.max(armed_race_proportion[False]) + 0.01, 0.01))\n",
        "\n",
        "for i in ax.patches:\n",
        "    ax.text(\n",
        "        i.get_width() + 0.005,\n",
        "        i.get_y() + 0.25,\n",
        "        str(round((i.get_width() * 100), 2)) + \"%\",\n",
        "        fontsize=11,\n",
        "    )\n",
        "    \n",
        "ax.invert_yaxis()\n",
        "plt.title(\"Pencentage of unarmed shot by police\")\n",
        "plt.show()"
      ],
      "metadata": {
        "colab": {
          "base_uri": "https://localhost:8080/",
          "height": 447
        },
        "id": "PcmmIypiKCSt",
        "outputId": "f01c89fa-5c7c-431d-d557-b359729325b3"
      },
      "id": "PcmmIypiKCSt",
      "execution_count": 185,
      "outputs": [
        {
          "output_type": "display_data",
          "data": {
            "text/plain": [
              "<Figure size 720x504 with 1 Axes>"
            ],
            "image/png": "[encoded data removed]"
          },
          "metadata": {}
        }
      ]
    },
    {
      "cell_type": "markdown",
      "source": [
        "After analysing this graph, we can see that only about 6% of white people were shot unarmed, while the rate for black people is almost double at about 11%. "
      ],
      "metadata": {
        "id": "zEUzzefnK128"
      },
      "id": "zEUzzefnK128"
    },
    {
      "cell_type": "markdown",
      "source": [
        "### 3.4 Gender and Death"
      ],
      "metadata": {
        "id": "LhBQDmv7YKC8"
      },
      "id": "LhBQDmv7YKC8"
    },
    {
      "cell_type": "code",
      "source": [
        "#relationship between death and gender\n",
        "ylabel = 'Count'\n",
        "xlabel = 'Gender'\n",
        "title = 'Counts of death'\n",
        "makePlot('seaborn', data, 'gender',title, ylabel, xlabel)"
      ],
      "metadata": {
        "colab": {
          "base_uri": "https://localhost:8080/",
          "height": 355
        },
        "id": "JMGzmko1YJWz",
        "outputId": "2b140a93-c7bc-4fad-bdc8-2aa13b11f13e"
      },
      "id": "JMGzmko1YJWz",
      "execution_count": 171,
      "outputs": [
        {
          "output_type": "display_data",
          "data": {
            "text/plain": [
              "<Figure size 432x360 with 1 Axes>"
            ],
            "image/png": "[encoded data removed]"
          },
          "metadata": {}
        }
      ]
    },
    {
      "cell_type": "markdown",
      "source": [
        "The analysis shows that out of 1986 peoples that were killed fatally by police between in span of 2 year 95.8% of them were males compared to 4.2% of females.\n"
      ],
      "metadata": {
        "id": "9lstPXUDapTH"
      },
      "id": "9lstPXUDapTH"
    },
    {
      "cell_type": "markdown",
      "source": [
        "#### 3.4.2 Gender and Threat Level"
      ],
      "metadata": {
        "id": "4RIV3C-2Af1O"
      },
      "id": "4RIV3C-2Af1O"
    },
    {
      "cell_type": "code",
      "source": [
        "fig = plt.figure(figsize=(8,5))\n",
        "sb.countplot(x='gender', data=data, hue='threat_level')\n",
        "plt.show()"
      ],
      "metadata": {
        "colab": {
          "base_uri": "https://localhost:8080/",
          "height": 339
        },
        "id": "qJs1oGAoAXmA",
        "outputId": "ecffd18e-e7bc-4187-d70c-f067424c8217"
      },
      "id": "qJs1oGAoAXmA",
      "execution_count": 191,
      "outputs": [
        {
          "output_type": "display_data",
          "data": {
            "text/plain": [
              "<Figure size 576x360 with 1 Axes>"
            ],
            "image/png": "[encoded data removed]"
          },
          "metadata": {}
        }
      ]
    },
    {
      "cell_type": "markdown",
      "source": [
        "### 3.5 Not Fleeing Suspects Killed by Race"
      ],
      "metadata": {
        "id": "TBr3MfclAu1k"
      },
      "id": "TBr3MfclAu1k"
    },
    {
      "cell_type": "code",
      "source": [
        "# fleeing = data['flee'].describe()\n",
        "# types_fleeing = data['flee'].unique()\n",
        "# print(fleeing, types_fleeing)\n",
        "# data.groupby('flee').value_counts()"
      ],
      "metadata": {
        "id": "xovje78KAzHO"
      },
      "id": "xovje78KAzHO",
      "execution_count": 172,
      "outputs": []
    },
    {
      "cell_type": "markdown",
      "source": [
        "### 3.6 Threat Level and Police Shootings"
      ],
      "metadata": {
        "id": "UjEHUSgkCC7K"
      },
      "id": "UjEHUSgkCC7K"
    },
    {
      "cell_type": "markdown",
      "source": [
        "#### 3.6.1 Percentage of Threat levels"
      ],
      "metadata": {
        "id": "36HM3xClsPj6"
      },
      "id": "36HM3xClsPj6"
    },
    {
      "cell_type": "code",
      "source": [
        "#relationship between certification and course counts\n",
        "ylabel = 'Count'\n",
        "xlabel = 'Types of Threat Level'\n",
        "title = 'Counts of Threat Level'\n",
        "makePlot('seaborn', data, 'threat_level',title, ylabel, xlabel)"
      ],
      "metadata": {
        "colab": {
          "base_uri": "https://localhost:8080/",
          "height": 355
        },
        "id": "S_BouQ1gur8r",
        "outputId": "3cecd3b9-21c1-42b6-9375-a79fe66e2de8"
      },
      "id": "S_BouQ1gur8r",
      "execution_count": 173,
      "outputs": [
        {
          "output_type": "display_data",
          "data": {
            "text/plain": [
              "<Figure size 432x360 with 1 Axes>"
            ],
            "image/png": "[encoded data removed]"
          },
          "metadata": {}
        }
      ]
    },
    {
      "cell_type": "markdown",
      "source": [
        "Insight: Approximately 64% were labeled 'attack,' 32% 'other', 4% 'undetermined'"
      ],
      "metadata": {
        "id": "2WdilrfwvTgA"
      },
      "id": "2WdilrfwvTgA"
    },
    {
      "cell_type": "markdown",
      "source": [
        "#### 3.6.2 Threat Level and Races"
      ],
      "metadata": {
        "id": "Ls3xfw5hsa4b"
      },
      "id": "Ls3xfw5hsa4b"
    },
    {
      "cell_type": "code",
      "source": [
        "fig = plt.figure(figsize=(10,6))\n",
        "sb.countplot(x='race', data=data, hue='threat_level')\n",
        "plt.show()"
      ],
      "metadata": {
        "colab": {
          "base_uri": "https://localhost:8080/",
          "height": 394
        },
        "id": "ovnTqd3uCGqW",
        "outputId": "9882f9b9-bd52-4ef9-9ad3-b7cd4d5a3776"
      },
      "id": "ovnTqd3uCGqW",
      "execution_count": 174,
      "outputs": [
        {
          "output_type": "display_data",
          "data": {
            "text/plain": [
              "<Figure size 720x432 with 1 Axes>"
            ],
            "image/png": "[encoded data removed]"
          },
          "metadata": {}
        }
      ]
    },
    {
      "cell_type": "markdown",
      "source": [
        "#### 3.6.3 Threat Levels and Body Camera"
      ],
      "metadata": {
        "id": "mWpVjEQ4Cq4V"
      },
      "id": "mWpVjEQ4Cq4V"
    },
    {
      "cell_type": "code",
      "source": [
        "fig = plt.figure(figsize=(10,6))\n",
        "sb.countplot(x='body_camera', data=data, hue='threat_level')\n",
        "plt.show()"
      ],
      "metadata": {
        "colab": {
          "base_uri": "https://localhost:8080/",
          "height": 394
        },
        "id": "uG3CRLbACy-S",
        "outputId": "741cacc9-da1e-4081-e0f9-9bb076c893e9"
      },
      "id": "uG3CRLbACy-S",
      "execution_count": 175,
      "outputs": [
        {
          "output_type": "display_data",
          "data": {
            "text/plain": [
              "<Figure size 720x432 with 1 Axes>"
            ],
            "image/png": "[encoded data removed]"
          },
          "metadata": {}
        }
      ]
    },
    {
      "cell_type": "code",
      "source": [
        "#number of attacks when camera is present\n",
        "attack_camera_present = data[(data['body_camera']==True) & (data['threat_level']=='attack')].shape[0]\n",
        "total_camera_present = data[(data['body_camera']==True)].shape[0]\n",
        "\n",
        "attack_no_camera = data[(data['body_camera']==False) & (data['threat_level']=='attack')].shape[0]\n",
        "total_camera_absent = data[(data['body_camera']==False)].shape[0]\n",
        "\n",
        "print('Percentage of attack when there is a camera:', round(attack_camera_present/total_camera_present, 4) * 100)\n",
        "print('Percentage of attack when there is no camera:', round(attack_no_camera/total_camera_absent, 4) * 100)\n",
        "print('Attacks, Camera present vs not present:', round(attack_camera_present/(attack_camera_present+attack_no_camera),2)*100)"
      ],
      "metadata": {
        "colab": {
          "base_uri": "https://localhost:8080/"
        },
        "id": "xT8zsz96Dd_B",
        "outputId": "a3ea82db-8d05-4a02-bd2a-77e99cb491db"
      },
      "id": "xT8zsz96Dd_B",
      "execution_count": 176,
      "outputs": [
        {
          "output_type": "stream",
          "name": "stdout",
          "text": [
            "Percentage of attack when there is a camera: 54.75\n",
            "Percentage of attack when there is no camera: 66.8\n",
            "Attacks, Camera present vs not present: 9.0\n"
          ]
        }
      ]
    },
    {
      "cell_type": "markdown",
      "source": [
        "We see that there seems to be a problem with body camera footage when there is an 'attack' level threat, or really when there is a killing in general.\n",
        "However, the proportion of 'attack' threat levels that were not recorded make up 65% of deaths, while the proportion of recorded deaths that were labeled 'attack' threat level was closer to 60%. This could be a policy issue."
      ],
      "metadata": {
        "id": "dPQLj4lwH2lV"
      },
      "id": "dPQLj4lwH2lV"
    },
    {
      "cell_type": "code",
      "source": [
        "# Plot the 10 most common weapons used by individuals shot\n",
        "plt.figure(figsize=(15, 8))\n",
        "ax = sb.countplot(y='armed', data=data, order = data.armed.value_counts().iloc[:10].index)\n",
        "plt.title('Weapon used by person shot')\n",
        "plt.show()"
      ],
      "metadata": {
        "id": "Z2XE_AclSpYh",
        "colab": {
          "base_uri": "https://localhost:8080/",
          "height": 518
        },
        "outputId": "3d9a2192-3857-4808-ddc8-03c8dfc279bf"
      },
      "id": "Z2XE_AclSpYh",
      "execution_count": 190,
      "outputs": [
        {
          "output_type": "display_data",
          "data": {
            "text/plain": [
              "<Figure size 1080x576 with 1 Axes>"
            ],
            "image/png": "[encoded data removed]"
          },
          "metadata": {}
        }
      ]
    },
    {
      "cell_type": "markdown",
      "source": [
        "Observations:\n",
        "\n",
        "    Most of victims had a Gun or a Knife at time of incident\n",
        "    An alarmingly high proportion of individuals shot by police were either Unarmed or Armed with a Toy Weapon\n"
      ],
      "metadata": {
        "id": "7LcYbWC_6Dup"
      },
      "id": "7LcYbWC_6Dup"
    },
    {
      "cell_type": "markdown",
      "source": [
        "### 3.7 Shootings and State"
      ],
      "metadata": {
        "id": "Jpy0t2R9-YK1"
      },
      "id": "Jpy0t2R9-YK1"
    },
    {
      "cell_type": "code",
      "source": [
        "#total number of states where fatal shootings happened\n",
        "data['state'].unique().size"
      ],
      "metadata": {
        "colab": {
          "base_uri": "https://localhost:8080/"
        },
        "id": "Kjpj60n4HH_z",
        "outputId": "538801a3-e68f-476c-a991-46911133da7b"
      },
      "id": "Kjpj60n4HH_z",
      "execution_count": 199,
      "outputs": [
        {
          "output_type": "execute_result",
          "data": {
            "text/plain": [
              "51"
            ]
          },
          "metadata": {},
          "execution_count": 199
        }
      ]
    },
    {
      "cell_type": "markdown",
      "source": [
        "Observation: Fatal shootings by police has happened in all 50 states of US and Washington DC. "
      ],
      "metadata": {
        "id": "LHC9JIhVHxHc"
      },
      "id": "LHC9JIhVHxHc"
    },
    {
      "cell_type": "code",
      "source": [
        "plt.figure(figsize=(18, 12))\n",
        "sb.countplot(y=\"state\", data=data,order=data.state.value_counts().index)\n",
        "plt.title('Police Killings By State')\n",
        "plt.show()"
      ],
      "metadata": {
        "colab": {
          "base_uri": "https://localhost:8080/",
          "height": 736
        },
        "id": "8hA4wl-T-Xno",
        "outputId": "944178b3-c636-4e88-c682-ae54a2c63343"
      },
      "id": "8hA4wl-T-Xno",
      "execution_count": 178,
      "outputs": [
        {
          "output_type": "display_data",
          "data": {
            "text/plain": [
              "<Figure size 1296x864 with 1 Axes>"
            ],
            "image/png": "[encoded data removed]"
          },
          "metadata": {}
        }
      ]
    },
    {
      "cell_type": "markdown",
      "source": [
        "Observation:\n",
        "\n",
        "    California is the state with the Highest Number of Killings followed by Texas, Florida, Arizona, and so on\n",
        "We can see that California has by far the most fatal shootings by the police"
      ],
      "metadata": {
        "id": "tHeqXRDn-15w"
      },
      "id": "tHeqXRDn-15w"
    },
    {
      "cell_type": "markdown",
      "source": [
        "### 3.7.1 Fatal Killings and cities"
      ],
      "metadata": {
        "id": "2vrOHnY5FNPI"
      },
      "id": "2vrOHnY5FNPI"
    },
    {
      "cell_type": "code",
      "source": [
        "#total number of cities where fatal shootings happened\n",
        "data['city'].unique().size"
      ],
      "metadata": {
        "colab": {
          "base_uri": "https://localhost:8080/"
        },
        "id": "zcJoD6f4GspI",
        "outputId": "1b9fbab0-725f-45b4-d005-3da31d31aa53"
      },
      "id": "zcJoD6f4GspI",
      "execution_count": 198,
      "outputs": [
        {
          "output_type": "execute_result",
          "data": {
            "text/plain": [
              "1159"
            ]
          },
          "metadata": {},
          "execution_count": 198
        }
      ]
    },
    {
      "cell_type": "markdown",
      "source": [
        "Observation: There are 1159 unique cities in this dataset where fatal shootings happened."
      ],
      "metadata": {
        "id": "2dfOVWWiG3j8"
      },
      "id": "2dfOVWWiG3j8"
    },
    {
      "cell_type": "code",
      "source": [
        "kills_by_city = data.groupby(['city'])['name'].count()\n",
        "kills_by_city = kills_by_city.sort_values(ascending=False)[:50]"
      ],
      "metadata": {
        "id": "XsBB77TYFiI9"
      },
      "id": "XsBB77TYFiI9",
      "execution_count": 196,
      "outputs": []
    },
    {
      "cell_type": "code",
      "source": [
        "fig, ax = plt.subplots(figsize=(18, 12))\n",
        "sb.barplot(x=kills_by_city, y=kills_by_city.index)\n",
        "plt.xticks(np.arange(0, 41, 2))\n",
        "plt.title('Shootings Numbers of first 50 Cities from 2015 to 2017');"
      ],
      "metadata": {
        "colab": {
          "base_uri": "https://localhost:8080/",
          "height": 736
        },
        "id": "V70ppjUoFSlq",
        "outputId": "f409eb55-f777-4485-df1b-9b42f8313d6a"
      },
      "id": "V70ppjUoFSlq",
      "execution_count": 197,
      "outputs": [
        {
          "output_type": "display_data",
          "data": {
            "text/plain": [
              "<Figure size 1296x864 with 1 Axes>"
            ],
            "image/png": "[encoded data removed]"
          },
          "metadata": {}
        }
      ]
    },
    {
      "cell_type": "markdown",
      "source": [
        "Observation: The city of Los Angeles is the first where fatal shootings frequently happen, whereas  Springfield is one of the less frequent"
      ],
      "metadata": {
        "id": "Dd3npodAF_Kn"
      },
      "id": "Dd3npodAF_Kn"
    },
    {
      "cell_type": "markdown",
      "source": [
        "### 3.8 Shooting Frequency Over Times"
      ],
      "metadata": {
        "id": "seR3Go6G_P7Y"
      },
      "id": "seR3Go6G_P7Y"
    },
    {
      "cell_type": "code",
      "source": [
        "# Convert date from object to datetime\n",
        "data.date = pd.to_datetime(data.date)\n",
        "plt.figure(figsize=(15,18))\n",
        "sb.countplot(y=data.date.dt.strftime('%Y %m %B'), order=sorted(data.date.dt.strftime('%Y %m %B').unique()))\n",
        "plt.title('Police Killings By Month since start of dataset')\n",
        "plt.show()"
      ],
      "metadata": {
        "colab": {
          "base_uri": "https://localhost:8080/",
          "height": 1000
        },
        "id": "hNjta1q9--D1",
        "outputId": "df3cdca3-5ddb-438c-da11-478806824131"
      },
      "id": "hNjta1q9--D1",
      "execution_count": 179,
      "outputs": [
        {
          "output_type": "display_data",
          "data": {
            "text/plain": [
              "<Figure size 1080x1296 with 1 Axes>"
            ],
            "image/png": "[encoded data removed]"
          },
          "metadata": {}
        }
      ]
    },
    {
      "cell_type": "markdown",
      "source": [
        "### 3.9 Mental Illness and Police Shooting\n",
        "Since we have the data, I would like to begin by exploring the data on mental ilness and shootings. I want to know where the mentally ill are shot most frequently"
      ],
      "metadata": {
        "id": "GYNSKaIb_zpZ"
      },
      "id": "GYNSKaIb_zpZ"
    },
    {
      "cell_type": "code",
      "source": [
        "# Grouping the data by state and if there are signs of mental ilness\n",
        "mental_ilness = data.groupby([\"state\", \"signs_of_mental_illness\"], as_index=False).index.count()\n",
        "mental_ilness.sort_values(by=[\"signs_of_mental_illness\", \"index\"], ascending=[False, False], inplace=True)\n",
        "mental_ilness = mental_ilness.rename(columns={\"index\": \"count\"})\n",
        "mental_ilness"
      ],
      "metadata": {
        "colab": {
          "base_uri": "https://localhost:8080/",
          "height": 424
        },
        "id": "vvXQGC9ux13v",
        "outputId": "5e2032c1-5d9a-433c-e4e9-8f4a4e58d195"
      },
      "id": "vvXQGC9ux13v",
      "execution_count": 181,
      "outputs": [
        {
          "output_type": "execute_result",
          "data": {
            "text/plain": [
              "   state  signs_of_mental_illness  count\n",
              "9     CA                     True     76\n",
              "84    TX                     True     45\n",
              "19    FL                     True     34\n",
              "7     AZ                     True     25\n",
              "92    WA                     True     19\n",
              "..   ...                      ...    ...\n",
              "16    DE                    False      4\n",
              "79    SD                    False      4\n",
              "56    ND                    False      3\n",
              "76    RI                    False      2\n",
              "89    VT                    False      2\n",
              "\n",
              "[99 rows x 3 columns]"
            ],
            "text/html": [
              "\n",
              "  <div id=\"df-005cba5f-df41-4eb2-b661-544fc6ac00f5\">\n",
              "    <div class=\"colab-df-container\">\n",
              "      <div>\n",
              "<style scoped>\n",
              "    .dataframe tbody tr th:only-of-type {\n",
              "        vertical-align: middle;\n",
              "    }\n",
              "\n",
              "    .dataframe tbody tr th {\n",
              "        vertical-align: top;\n",
              "    }\n",
              "\n",
              "    .dataframe thead th {\n",
              "        text-align: right;\n",
              "    }\n",
              "</style>\n",
              "<table border=\"1\" class=\"dataframe\">\n",
              "  <thead>\n",
              "    <tr style=\"text-align: right;\">\n",
              "      <th></th>\n",
              "      <th>state</th>\n",
              "      <th>signs_of_mental_illness</th>\n",
              "      <th>count</th>\n",
              "    </tr>\n",
              "  </thead>\n",
              "  <tbody>\n",
              "    <tr>\n",
              "      <th>9</th>\n",
              "      <td>CA</td>\n",
              "      <td>True</td>\n",
              "      <td>76</td>\n",
              "    </tr>\n",
              "    <tr>\n",
              "      <th>84</th>\n",
              "      <td>TX</td>\n",
              "      <td>True</td>\n",
              "      <td>45</td>\n",
              "    </tr>\n",
              "    <tr>\n",
              "      <th>19</th>\n",
              "      <td>FL</td>\n",
              "      <td>True</td>\n",
              "      <td>34</td>\n",
              "    </tr>\n",
              "    <tr>\n",
              "      <th>7</th>\n",
              "      <td>AZ</td>\n",
              "      <td>True</td>\n",
              "      <td>25</td>\n",
              "    </tr>\n",
              "    <tr>\n",
              "      <th>92</th>\n",
              "      <td>WA</td>\n",
              "      <td>True</td>\n",
              "      <td>19</td>\n",
              "    </tr>\n",
              "    <tr>\n",
              "      <th>...</th>\n",
              "      <td>...</td>\n",
              "      <td>...</td>\n",
              "      <td>...</td>\n",
              "    </tr>\n",
              "    <tr>\n",
              "      <th>16</th>\n",
              "      <td>DE</td>\n",
              "      <td>False</td>\n",
              "      <td>4</td>\n",
              "    </tr>\n",
              "    <tr>\n",
              "      <th>79</th>\n",
              "      <td>SD</td>\n",
              "      <td>False</td>\n",
              "      <td>4</td>\n",
              "    </tr>\n",
              "    <tr>\n",
              "      <th>56</th>\n",
              "      <td>ND</td>\n",
              "      <td>False</td>\n",
              "      <td>3</td>\n",
              "    </tr>\n",
              "    <tr>\n",
              "      <th>76</th>\n",
              "      <td>RI</td>\n",
              "      <td>False</td>\n",
              "      <td>2</td>\n",
              "    </tr>\n",
              "    <tr>\n",
              "      <th>89</th>\n",
              "      <td>VT</td>\n",
              "      <td>False</td>\n",
              "      <td>2</td>\n",
              "    </tr>\n",
              "  </tbody>\n",
              "</table>\n",
              "<p>99 rows × 3 columns</p>\n",
              "</div>\n",
              "      <button class=\"colab-df-convert\" onclick=\"convertToInteractive('df-005cba5f-df41-4eb2-b661-544fc6ac00f5')\"\n",
              "              title=\"Convert this dataframe to an interactive table.\"\n",
              "              style=\"display:none;\">\n",
              "        \n",
              "  <svg xmlns=\"http://www.w3.org/2000/svg\" height=\"24px\"viewBox=\"0 0 24 24\"\n",
              "       width=\"24px\">\n",
              "    <path d=\"M0 0h24v24H0V0z\" fill=\"none\"/>\n",
              "    <path d=\"M18.56 5.44l.94 2.06.94-2.06 2.06-.94-2.06-.94-.94-2.06-.94 2.06-2.06.94zm-11 1L8.5 8.5l.94-2.06 2.06-.94-2.06-.94L8.5 2.5l-.94 2.06-2.06.94zm10 10l.94 2.06.94-2.06 2.06-.94-2.06-.94-.94-2.06-.94 2.06-2.06.94z\"/><path d=\"M17.41 7.96l-1.37-1.37c-.4-.4-.92-.59-1.43-.59-.52 0-1.04.2-1.43.59L10.3 9.45l-7.72 7.72c-.78.78-.78 2.05 0 2.83L4 21.41c.39.39.9.59 1.41.59.51 0 1.02-.2 1.41-.59l7.78-7.78 2.81-2.81c.8-.78.8-2.07 0-2.86zM5.41 20L4 18.59l7.72-7.72 1.47 1.35L5.41 20z\"/>\n",
              "  </svg>\n",
              "      </button>\n",
              "      \n",
              "  <style>\n",
              "    .colab-df-container {\n",
              "      display:flex;\n",
              "      flex-wrap:wrap;\n",
              "      gap: 12px;\n",
              "    }\n",
              "\n",
              "    .colab-df-convert {\n",
              "      background-color: #E8F0FE;\n",
              "      border: none;\n",
              "      border-radius: 50%;\n",
              "      cursor: pointer;\n",
              "      display: none;\n",
              "      fill: #1967D2;\n",
              "      height: 32px;\n",
              "      padding: 0 0 0 0;\n",
              "      width: 32px;\n",
              "    }\n",
              "\n",
              "    .colab-df-convert:hover {\n",
              "      background-color: #E2EBFA;\n",
              "      box-shadow: 0px 1px 2px rgba(60, 64, 67, 0.3), 0px 1px 3px 1px rgba(60, 64, 67, 0.15);\n",
              "      fill: #174EA6;\n",
              "    }\n",
              "\n",
              "    [theme=dark] .colab-df-convert {\n",
              "      background-color: #3B4455;\n",
              "      fill: #D2E3FC;\n",
              "    }\n",
              "\n",
              "    [theme=dark] .colab-df-convert:hover {\n",
              "      background-color: #434B5C;\n",
              "      box-shadow: 0px 1px 3px 1px rgba(0, 0, 0, 0.15);\n",
              "      filter: drop-shadow(0px 1px 2px rgba(0, 0, 0, 0.3));\n",
              "      fill: #FFFFFF;\n",
              "    }\n",
              "  </style>\n",
              "\n",
              "      <script>\n",
              "        const buttonEl =\n",
              "          document.querySelector('#df-005cba5f-df41-4eb2-b661-544fc6ac00f5 button.colab-df-convert');\n",
              "        buttonEl.style.display =\n",
              "          google.colab.kernel.accessAllowed ? 'block' : 'none';\n",
              "\n",
              "        async function convertToInteractive(key) {\n",
              "          const element = document.querySelector('#df-005cba5f-df41-4eb2-b661-544fc6ac00f5');\n",
              "          const dataTable =\n",
              "            await google.colab.kernel.invokeFunction('convertToInteractive',\n",
              "                                                     [key], {});\n",
              "          if (!dataTable) return;\n",
              "\n",
              "          const docLinkHtml = 'Like what you see? Visit the ' +\n",
              "            '<a target=\"_blank\" href=https://colab.research.google.com/notebooks/data_table.ipynb>data table notebook</a>'\n",
              "            + ' to learn more about interactive tables.';\n",
              "          element.innerHTML = '';\n",
              "          dataTable['output_type'] = 'display_data';\n",
              "          await google.colab.output.renderOutput(dataTable, element);\n",
              "          const docLink = document.createElement('div');\n",
              "          docLink.innerHTML = docLinkHtml;\n",
              "          element.appendChild(docLink);\n",
              "        }\n",
              "      </script>\n",
              "    </div>\n",
              "  </div>\n",
              "  "
            ]
          },
          "metadata": {},
          "execution_count": 181
        }
      ]
    },
    {
      "cell_type": "code",
      "source": [
        "# Filter cases where signs of mental ilness were present\n",
        "mental_ill_victim = (\n",
        "    mental_ilness[mental_ilness[\"signs_of_mental_illness\"] == True]\n",
        "    .drop(\"signs_of_mental_illness\", axis=1)\n",
        "    .reset_index(drop=True)\n",
        ")\n",
        "mental_ill_victim"
      ],
      "metadata": {
        "colab": {
          "base_uri": "https://localhost:8080/",
          "height": 1000
        },
        "id": "CRCSPbr20wYQ",
        "outputId": "8d32b510-df16-4f97-d007-1ccf9955bb71"
      },
      "id": "CRCSPbr20wYQ",
      "execution_count": 182,
      "outputs": [
        {
          "output_type": "execute_result",
          "data": {
            "text/plain": [
              "   state  count\n",
              "0     CA     76\n",
              "1     TX     45\n",
              "2     FL     34\n",
              "3     AZ     25\n",
              "4     WA     19\n",
              "5     NC     16\n",
              "6     NY     16\n",
              "7     OK     14\n",
              "8     VA     14\n",
              "9     GA     12\n",
              "10    LA     12\n",
              "11    OH     12\n",
              "12    AL     11\n",
              "13    IL     11\n",
              "14    MN     11\n",
              "15    CO     10\n",
              "16    MD     10\n",
              "17    MI     10\n",
              "18    WI     10\n",
              "19    NM      9\n",
              "20    NV      9\n",
              "21    OR      9\n",
              "22    PA      9\n",
              "23    TN      9\n",
              "24    UT      9\n",
              "25    MA      8\n",
              "26    IN      7\n",
              "27    MO      7\n",
              "28    NJ      6\n",
              "29    NH      5\n",
              "30    SC      5\n",
              "31    KY      4\n",
              "32    AR      3\n",
              "33    KS      3\n",
              "34    NE      3\n",
              "35    SD      3\n",
              "36    AK      2\n",
              "37    CT      2\n",
              "38    DC      2\n",
              "39    IA      2\n",
              "40    ID      2\n",
              "41    WV      2\n",
              "42    WY      2\n",
              "43    DE      1\n",
              "44    HI      1\n",
              "45    ME      1\n",
              "46    MS      1\n",
              "47    MT      1\n",
              "48    VT      1"
            ],
            "text/html": [
              "\n",
              "  <div id=\"df-7645975c-06d3-4f90-a870-822641c0b873\">\n",
              "    <div class=\"colab-df-container\">\n",
              "      <div>\n",
              "<style scoped>\n",
              "    .dataframe tbody tr th:only-of-type {\n",
              "        vertical-align: middle;\n",
              "    }\n",
              "\n",
              "    .dataframe tbody tr th {\n",
              "        vertical-align: top;\n",
              "    }\n",
              "\n",
              "    .dataframe thead th {\n",
              "        text-align: right;\n",
              "    }\n",
              "</style>\n",
              "<table border=\"1\" class=\"dataframe\">\n",
              "  <thead>\n",
              "    <tr style=\"text-align: right;\">\n",
              "      <th></th>\n",
              "      <th>state</th>\n",
              "      <th>count</th>\n",
              "    </tr>\n",
              "  </thead>\n",
              "  <tbody>\n",
              "    <tr>\n",
              "      <th>0</th>\n",
              "      <td>CA</td>\n",
              "      <td>76</td>\n",
              "    </tr>\n",
              "    <tr>\n",
              "      <th>1</th>\n",
              "      <td>TX</td>\n",
              "      <td>45</td>\n",
              "    </tr>\n",
              "    <tr>\n",
              "      <th>2</th>\n",
              "      <td>FL</td>\n",
              "      <td>34</td>\n",
              "    </tr>\n",
              "    <tr>\n",
              "      <th>3</th>\n",
              "      <td>AZ</td>\n",
              "      <td>25</td>\n",
              "    </tr>\n",
              "    <tr>\n",
              "      <th>4</th>\n",
              "      <td>WA</td>\n",
              "      <td>19</td>\n",
              "    </tr>\n",
              "    <tr>\n",
              "      <th>5</th>\n",
              "      <td>NC</td>\n",
              "      <td>16</td>\n",
              "    </tr>\n",
              "    <tr>\n",
              "      <th>6</th>\n",
              "      <td>NY</td>\n",
              "      <td>16</td>\n",
              "    </tr>\n",
              "    <tr>\n",
              "      <th>7</th>\n",
              "      <td>OK</td>\n",
              "      <td>14</td>\n",
              "    </tr>\n",
              "    <tr>\n",
              "      <th>8</th>\n",
              "      <td>VA</td>\n",
              "      <td>14</td>\n",
              "    </tr>\n",
              "    <tr>\n",
              "      <th>9</th>\n",
              "      <td>GA</td>\n",
              "      <td>12</td>\n",
              "    </tr>\n",
              "    <tr>\n",
              "      <th>10</th>\n",
              "      <td>LA</td>\n",
              "      <td>12</td>\n",
              "    </tr>\n",
              "    <tr>\n",
              "      <th>11</th>\n",
              "      <td>OH</td>\n",
              "      <td>12</td>\n",
              "    </tr>\n",
              "    <tr>\n",
              "      <th>12</th>\n",
              "      <td>AL</td>\n",
              "      <td>11</td>\n",
              "    </tr>\n",
              "    <tr>\n",
              "      <th>13</th>\n",
              "      <td>IL</td>\n",
              "      <td>11</td>\n",
              "    </tr>\n",
              "    <tr>\n",
              "      <th>14</th>\n",
              "      <td>MN</td>\n",
              "      <td>11</td>\n",
              "    </tr>\n",
              "    <tr>\n",
              "      <th>15</th>\n",
              "      <td>CO</td>\n",
              "      <td>10</td>\n",
              "    </tr>\n",
              "    <tr>\n",
              "      <th>16</th>\n",
              "      <td>MD</td>\n",
              "      <td>10</td>\n",
              "    </tr>\n",
              "    <tr>\n",
              "      <th>17</th>\n",
              "      <td>MI</td>\n",
              "      <td>10</td>\n",
              "    </tr>\n",
              "    <tr>\n",
              "      <th>18</th>\n",
              "      <td>WI</td>\n",
              "      <td>10</td>\n",
              "    </tr>\n",
              "    <tr>\n",
              "      <th>19</th>\n",
              "      <td>NM</td>\n",
              "      <td>9</td>\n",
              "    </tr>\n",
              "    <tr>\n",
              "      <th>20</th>\n",
              "      <td>NV</td>\n",
              "      <td>9</td>\n",
              "    </tr>\n",
              "    <tr>\n",
              "      <th>21</th>\n",
              "      <td>OR</td>\n",
              "      <td>9</td>\n",
              "    </tr>\n",
              "    <tr>\n",
              "      <th>22</th>\n",
              "      <td>PA</td>\n",
              "      <td>9</td>\n",
              "    </tr>\n",
              "    <tr>\n",
              "      <th>23</th>\n",
              "      <td>TN</td>\n",
              "      <td>9</td>\n",
              "    </tr>\n",
              "    <tr>\n",
              "      <th>24</th>\n",
              "      <td>UT</td>\n",
              "      <td>9</td>\n",
              "    </tr>\n",
              "    <tr>\n",
              "      <th>25</th>\n",
              "      <td>MA</td>\n",
              "      <td>8</td>\n",
              "    </tr>\n",
              "    <tr>\n",
              "      <th>26</th>\n",
              "      <td>IN</td>\n",
              "      <td>7</td>\n",
              "    </tr>\n",
              "    <tr>\n",
              "      <th>27</th>\n",
              "      <td>MO</td>\n",
              "      <td>7</td>\n",
              "    </tr>\n",
              "    <tr>\n",
              "      <th>28</th>\n",
              "      <td>NJ</td>\n",
              "      <td>6</td>\n",
              "    </tr>\n",
              "    <tr>\n",
              "      <th>29</th>\n",
              "      <td>NH</td>\n",
              "      <td>5</td>\n",
              "    </tr>\n",
              "    <tr>\n",
              "      <th>30</th>\n",
              "      <td>SC</td>\n",
              "      <td>5</td>\n",
              "    </tr>\n",
              "    <tr>\n",
              "      <th>31</th>\n",
              "      <td>KY</td>\n",
              "      <td>4</td>\n",
              "    </tr>\n",
              "    <tr>\n",
              "      <th>32</th>\n",
              "      <td>AR</td>\n",
              "      <td>3</td>\n",
              "    </tr>\n",
              "    <tr>\n",
              "      <th>33</th>\n",
              "      <td>KS</td>\n",
              "      <td>3</td>\n",
              "    </tr>\n",
              "    <tr>\n",
              "      <th>34</th>\n",
              "      <td>NE</td>\n",
              "      <td>3</td>\n",
              "    </tr>\n",
              "    <tr>\n",
              "      <th>35</th>\n",
              "      <td>SD</td>\n",
              "      <td>3</td>\n",
              "    </tr>\n",
              "    <tr>\n",
              "      <th>36</th>\n",
              "      <td>AK</td>\n",
              "      <td>2</td>\n",
              "    </tr>\n",
              "    <tr>\n",
              "      <th>37</th>\n",
              "      <td>CT</td>\n",
              "      <td>2</td>\n",
              "    </tr>\n",
              "    <tr>\n",
              "      <th>38</th>\n",
              "      <td>DC</td>\n",
              "      <td>2</td>\n",
              "    </tr>\n",
              "    <tr>\n",
              "      <th>39</th>\n",
              "      <td>IA</td>\n",
              "      <td>2</td>\n",
              "    </tr>\n",
              "    <tr>\n",
              "      <th>40</th>\n",
              "      <td>ID</td>\n",
              "      <td>2</td>\n",
              "    </tr>\n",
              "    <tr>\n",
              "      <th>41</th>\n",
              "      <td>WV</td>\n",
              "      <td>2</td>\n",
              "    </tr>\n",
              "    <tr>\n",
              "      <th>42</th>\n",
              "      <td>WY</td>\n",
              "      <td>2</td>\n",
              "    </tr>\n",
              "    <tr>\n",
              "      <th>43</th>\n",
              "      <td>DE</td>\n",
              "      <td>1</td>\n",
              "    </tr>\n",
              "    <tr>\n",
              "      <th>44</th>\n",
              "      <td>HI</td>\n",
              "      <td>1</td>\n",
              "    </tr>\n",
              "    <tr>\n",
              "      <th>45</th>\n",
              "      <td>ME</td>\n",
              "      <td>1</td>\n",
              "    </tr>\n",
              "    <tr>\n",
              "      <th>46</th>\n",
              "      <td>MS</td>\n",
              "      <td>1</td>\n",
              "    </tr>\n",
              "    <tr>\n",
              "      <th>47</th>\n",
              "      <td>MT</td>\n",
              "      <td>1</td>\n",
              "    </tr>\n",
              "    <tr>\n",
              "      <th>48</th>\n",
              "      <td>VT</td>\n",
              "      <td>1</td>\n",
              "    </tr>\n",
              "  </tbody>\n",
              "</table>\n",
              "</div>\n",
              "      <button class=\"colab-df-convert\" onclick=\"convertToInteractive('df-7645975c-06d3-4f90-a870-822641c0b873')\"\n",
              "              title=\"Convert this dataframe to an interactive table.\"\n",
              "              style=\"display:none;\">\n",
              "        \n",
              "  <svg xmlns=\"http://www.w3.org/2000/svg\" height=\"24px\"viewBox=\"0 0 24 24\"\n",
              "       width=\"24px\">\n",
              "    <path d=\"M0 0h24v24H0V0z\" fill=\"none\"/>\n",
              "    <path d=\"M18.56 5.44l.94 2.06.94-2.06 2.06-.94-2.06-.94-.94-2.06-.94 2.06-2.06.94zm-11 1L8.5 8.5l.94-2.06 2.06-.94-2.06-.94L8.5 2.5l-.94 2.06-2.06.94zm10 10l.94 2.06.94-2.06 2.06-.94-2.06-.94-.94-2.06-.94 2.06-2.06.94z\"/><path d=\"M17.41 7.96l-1.37-1.37c-.4-.4-.92-.59-1.43-.59-.52 0-1.04.2-1.43.59L10.3 9.45l-7.72 7.72c-.78.78-.78 2.05 0 2.83L4 21.41c.39.39.9.59 1.41.59.51 0 1.02-.2 1.41-.59l7.78-7.78 2.81-2.81c.8-.78.8-2.07 0-2.86zM5.41 20L4 18.59l7.72-7.72 1.47 1.35L5.41 20z\"/>\n",
              "  </svg>\n",
              "      </button>\n",
              "      \n",
              "  <style>\n",
              "    .colab-df-container {\n",
              "      display:flex;\n",
              "      flex-wrap:wrap;\n",
              "      gap: 12px;\n",
              "    }\n",
              "\n",
              "    .colab-df-convert {\n",
              "      background-color: #E8F0FE;\n",
              "      border: none;\n",
              "      border-radius: 50%;\n",
              "      cursor: pointer;\n",
              "      display: none;\n",
              "      fill: #1967D2;\n",
              "      height: 32px;\n",
              "      padding: 0 0 0 0;\n",
              "      width: 32px;\n",
              "    }\n",
              "\n",
              "    .colab-df-convert:hover {\n",
              "      background-color: #E2EBFA;\n",
              "      box-shadow: 0px 1px 2px rgba(60, 64, 67, 0.3), 0px 1px 3px 1px rgba(60, 64, 67, 0.15);\n",
              "      fill: #174EA6;\n",
              "    }\n",
              "\n",
              "    [theme=dark] .colab-df-convert {\n",
              "      background-color: #3B4455;\n",
              "      fill: #D2E3FC;\n",
              "    }\n",
              "\n",
              "    [theme=dark] .colab-df-convert:hover {\n",
              "      background-color: #434B5C;\n",
              "      box-shadow: 0px 1px 3px 1px rgba(0, 0, 0, 0.15);\n",
              "      filter: drop-shadow(0px 1px 2px rgba(0, 0, 0, 0.3));\n",
              "      fill: #FFFFFF;\n",
              "    }\n",
              "  </style>\n",
              "\n",
              "      <script>\n",
              "        const buttonEl =\n",
              "          document.querySelector('#df-7645975c-06d3-4f90-a870-822641c0b873 button.colab-df-convert');\n",
              "        buttonEl.style.display =\n",
              "          google.colab.kernel.accessAllowed ? 'block' : 'none';\n",
              "\n",
              "        async function convertToInteractive(key) {\n",
              "          const element = document.querySelector('#df-7645975c-06d3-4f90-a870-822641c0b873');\n",
              "          const dataTable =\n",
              "            await google.colab.kernel.invokeFunction('convertToInteractive',\n",
              "                                                     [key], {});\n",
              "          if (!dataTable) return;\n",
              "\n",
              "          const docLinkHtml = 'Like what you see? Visit the ' +\n",
              "            '<a target=\"_blank\" href=https://colab.research.google.com/notebooks/data_table.ipynb>data table notebook</a>'\n",
              "            + ' to learn more about interactive tables.';\n",
              "          element.innerHTML = '';\n",
              "          dataTable['output_type'] = 'display_data';\n",
              "          await google.colab.output.renderOutput(dataTable, element);\n",
              "          const docLink = document.createElement('div');\n",
              "          docLink.innerHTML = docLinkHtml;\n",
              "          element.appendChild(docLink);\n",
              "        }\n",
              "      </script>\n",
              "    </div>\n",
              "  </div>\n",
              "  "
            ]
          },
          "metadata": {},
          "execution_count": 182
        }
      ]
    },
    {
      "cell_type": "markdown",
      "source": [
        "#### 3.9.1 Visualization of shootings where mental ilness present per states"
      ],
      "metadata": {
        "id": "haHS1Nrq1wZZ"
      },
      "id": "haHS1Nrq1wZZ"
    },
    {
      "cell_type": "code",
      "source": [
        "# Interactive map of the USA to visualise shootings where signs of mental illness were present\n",
        "fig = px.choropleth(\n",
        "    mental_ill_victim,\n",
        "    locations=\"state\",\n",
        "    color=\"count\",\n",
        "    hover_name=\"state\",\n",
        "    locationmode=\"USA-states\",\n",
        ")\n",
        "fig.update_layout(\n",
        "    title_text=\"Fatal shootings of people with signs of mental illness in each state\",\n",
        "    geo_scope=\"usa\",\n",
        ")\n",
        "fig.show()"
      ],
      "metadata": {
        "colab": {
          "base_uri": "https://localhost:8080/",
          "height": 542
        },
        "id": "KtFO4j4v1vvw",
        "outputId": "3dc063cf-7997-460f-9029-47c72d9a6d8f"
      },
      "id": "KtFO4j4v1vvw",
      "execution_count": 183,
      "outputs": [
        {
          "output_type": "display_data",
          "data": {
            "text/html": [
              "<html>\n",
              "<head><meta charset=\"utf-8\" /></head>\n",
              "<body>\n",
              "    <div>            <script src=\"https://cdnjs.cloudflare.com/ajax/libs/mathjax/2.7.5/MathJax.js?config=TeX-AMS-MML_SVG\"></script><script type=\"text/javascript\">if (window.MathJax) {MathJax.Hub.Config({SVG: {font: \"STIX-Web\"}});}</script>                <script type=\"text/javascript\">window.PlotlyConfig = {MathJaxConfig: 'local'};</script>\n",
              "        <script src=\"https://cdn.plot.ly/plotly-2.8.3.min.js\"></script>                <div id=\"503d90ad-1a62-4d1c-b469-4c6adc64da74\" class=\"plotly-graph-div\" style=\"height:525px; width:100%;\"></div>            <script type=\"text/javascript\">                                    window.PLOTLYENV=window.PLOTLYENV || {};                                    if (document.getElementById(\"503d90ad-1a62-4d1c-b469-4c6adc64da74\")) {                    Plotly.newPlot(                        \"503d90ad-1a62-4d1c-b469-4c6adc64da74\",                        [{\"coloraxis\":\"coloraxis\",\"geo\":\"geo\",\"hovertemplate\":\"<b>%{hovertext}</b><br><br>state=%{location}<br>count=%{z}<extra></extra>\",\"hovertext\":[\"CA\",\"TX\",\"FL\",\"AZ\",\"WA\",\"NC\",\"NY\",\"OK\",\"VA\",\"GA\",\"LA\",\"OH\",\"AL\",\"IL\",\"MN\",\"CO\",\"MD\",\"MI\",\"WI\",\"NM\",\"NV\",\"OR\",\"PA\",\"TN\",\"UT\",\"MA\",\"IN\",\"MO\",\"NJ\",\"NH\",\"SC\",\"KY\",\"AR\",\"KS\",\"NE\",\"SD\",\"AK\",\"CT\",\"DC\",\"IA\",\"ID\",\"WV\",\"WY\",\"DE\",\"HI\",\"ME\",\"MS\",\"MT\",\"VT\"],\"locationmode\":\"USA-states\",\"locations\":[\"CA\",\"TX\",\"FL\",\"AZ\",\"WA\",\"NC\",\"NY\",\"OK\",\"VA\",\"GA\",\"LA\",\"OH\",\"AL\",\"IL\",\"MN\",\"CO\",\"MD\",\"MI\",\"WI\",\"NM\",\"NV\",\"OR\",\"PA\",\"TN\",\"UT\",\"MA\",\"IN\",\"MO\",\"NJ\",\"NH\",\"SC\",\"KY\",\"AR\",\"KS\",\"NE\",\"SD\",\"AK\",\"CT\",\"DC\",\"IA\",\"ID\",\"WV\",\"WY\",\"DE\",\"HI\",\"ME\",\"MS\",\"MT\",\"VT\"],\"name\":\"\",\"z\":[76,45,34,25,19,16,16,14,14,12,12,12,11,11,11,10,10,10,10,9,9,9,9,9,9,8,7,7,6,5,5,4,3,3,3,3,2,2,2,2,2,2,2,1,1,1,1,1,1],\"type\":\"choropleth\"}],                        {\"template\":{\"data\":{\"bar\":[{\"error_x\":{\"color\":\"#2a3f5f\"},\"error_y\":{\"color\":\"#2a3f5f\"},\"marker\":{\"line\":{\"color\":\"#E5ECF6\",\"width\":0.5},\"pattern\":{\"fillmode\":\"overlay\",\"size\":10,\"solidity\":0.2}},\"type\":\"bar\"}],\"barpolar\":[{\"marker\":{\"line\":{\"color\":\"#E5ECF6\",\"width\":0.5},\"pattern\":{\"fillmode\":\"overlay\",\"size\":10,\"solidity\":0.2}},\"type\":\"barpolar\"}],\"carpet\":[{\"aaxis\":{\"endlinecolor\":\"#2a3f5f\",\"gridcolor\":\"white\",\"linecolor\":\"white\",\"minorgridcolor\":\"white\",\"startlinecolor\":\"#2a3f5f\"},\"baxis\":{\"endlinecolor\":\"#2a3f5f\",\"gridcolor\":\"white\",\"linecolor\":\"white\",\"minorgridcolor\":\"white\",\"startlinecolor\":\"#2a3f5f\"},\"type\":\"carpet\"}],\"choropleth\":[{\"colorbar\":{\"outlinewidth\":0,\"ticks\":\"\"},\"type\":\"choropleth\"}],\"contour\":[{\"colorbar\":{\"outlinewidth\":0,\"ticks\":\"\"},\"colorscale\":[[0.0,\"#0d0887\"],[0.1111111111111111,\"#46039f\"],[0.2222222222222222,\"#7201a8\"],[0.3333333333333333,\"#9c179e\"],[0.4444444444444444,\"#bd3786\"],[0.5555555555555556,\"#d8576b\"],[0.6666666666666666,\"#ed7953\"],[0.7777777777777778,\"#fb9f3a\"],[0.8888888888888888,\"#fdca26\"],[1.0,\"#f0f921\"]],\"type\":\"contour\"}],\"contourcarpet\":[{\"colorbar\":{\"outlinewidth\":0,\"ticks\":\"\"},\"type\":\"contourcarpet\"}],\"heatmap\":[{\"colorbar\":{\"outlinewidth\":0,\"ticks\":\"\"},\"colorscale\":[[0.0,\"#0d0887\"],[0.1111111111111111,\"#46039f\"],[0.2222222222222222,\"#7201a8\"],[0.3333333333333333,\"#9c179e\"],[0.4444444444444444,\"#bd3786\"],[0.5555555555555556,\"#d8576b\"],[0.6666666666666666,\"#ed7953\"],[0.7777777777777778,\"#fb9f3a\"],[0.8888888888888888,\"#fdca26\"],[1.0,\"#f0f921\"]],\"type\":\"heatmap\"}],\"heatmapgl\":[{\"colorbar\":{\"outlinewidth\":0,\"ticks\":\"\"},\"colorscale\":[[0.0,\"#0d0887\"],[0.1111111111111111,\"#46039f\"],[0.2222222222222222,\"#7201a8\"],[0.3333333333333333,\"#9c179e\"],[0.4444444444444444,\"#bd3786\"],[0.5555555555555556,\"#d8576b\"],[0.6666666666666666,\"#ed7953\"],[0.7777777777777778,\"#fb9f3a\"],[0.8888888888888888,\"#fdca26\"],[1.0,\"#f0f921\"]],\"type\":\"heatmapgl\"}],\"histogram\":[{\"marker\":{\"pattern\":{\"fillmode\":\"overlay\",\"size\":10,\"solidity\":0.2}},\"type\":\"histogram\"}],\"histogram2d\":[{\"colorbar\":{\"outlinewidth\":0,\"ticks\":\"\"},\"colorscale\":[[0.0,\"#0d0887\"],[0.1111111111111111,\"#46039f\"],[0.2222222222222222,\"#7201a8\"],[0.3333333333333333,\"#9c179e\"],[0.4444444444444444,\"#bd3786\"],[0.5555555555555556,\"#d8576b\"],[0.6666666666666666,\"#ed7953\"],[0.7777777777777778,\"#fb9f3a\"],[0.8888888888888888,\"#fdca26\"],[1.0,\"#f0f921\"]],\"type\":\"histogram2d\"}],\"histogram2dcontour\":[{\"colorbar\":{\"outlinewidth\":0,\"ticks\":\"\"},\"colorscale\":[[0.0,\"#0d0887\"],[0.1111111111111111,\"#46039f\"],[0.2222222222222222,\"#7201a8\"],[0.3333333333333333,\"#9c179e\"],[0.4444444444444444,\"#bd3786\"],[0.5555555555555556,\"#d8576b\"],[0.6666666666666666,\"#ed7953\"],[0.7777777777777778,\"#fb9f3a\"],[0.8888888888888888,\"#fdca26\"],[1.0,\"#f0f921\"]],\"type\":\"histogram2dcontour\"}],\"mesh3d\":[{\"colorbar\":{\"outlinewidth\":0,\"ticks\":\"\"},\"type\":\"mesh3d\"}],\"parcoords\":[{\"line\":{\"colorbar\":{\"outlinewidth\":0,\"ticks\":\"\"}},\"type\":\"parcoords\"}],\"pie\":[{\"automargin\":true,\"type\":\"pie\"}],\"scatter\":[{\"marker\":{\"colorbar\":{\"outlinewidth\":0,\"ticks\":\"\"}},\"type\":\"scatter\"}],\"scatter3d\":[{\"line\":{\"colorbar\":{\"outlinewidth\":0,\"ticks\":\"\"}},\"marker\":{\"colorbar\":{\"outlinewidth\":0,\"ticks\":\"\"}},\"type\":\"scatter3d\"}],\"scattercarpet\":[{\"marker\":{\"colorbar\":{\"outlinewidth\":0,\"ticks\":\"\"}},\"type\":\"scattercarpet\"}],\"scattergeo\":[{\"marker\":{\"colorbar\":{\"outlinewidth\":0,\"ticks\":\"\"}},\"type\":\"scattergeo\"}],\"scattergl\":[{\"marker\":{\"colorbar\":{\"outlinewidth\":0,\"ticks\":\"\"}},\"type\":\"scattergl\"}],\"scattermapbox\":[{\"marker\":{\"colorbar\":{\"outlinewidth\":0,\"ticks\":\"\"}},\"type\":\"scattermapbox\"}],\"scatterpolar\":[{\"marker\":{\"colorbar\":{\"outlinewidth\":0,\"ticks\":\"\"}},\"type\":\"scatterpolar\"}],\"scatterpolargl\":[{\"marker\":{\"colorbar\":{\"outlinewidth\":0,\"ticks\":\"\"}},\"type\":\"scatterpolargl\"}],\"scatterternary\":[{\"marker\":{\"colorbar\":{\"outlinewidth\":0,\"ticks\":\"\"}},\"type\":\"scatterternary\"}],\"surface\":[{\"colorbar\":{\"outlinewidth\":0,\"ticks\":\"\"},\"colorscale\":[[0.0,\"#0d0887\"],[0.1111111111111111,\"#46039f\"],[0.2222222222222222,\"#7201a8\"],[0.3333333333333333,\"#9c179e\"],[0.4444444444444444,\"#bd3786\"],[0.5555555555555556,\"#d8576b\"],[0.6666666666666666,\"#ed7953\"],[0.7777777777777778,\"#fb9f3a\"],[0.8888888888888888,\"#fdca26\"],[1.0,\"#f0f921\"]],\"type\":\"surface\"}],\"table\":[{\"cells\":{\"fill\":{\"color\":\"#EBF0F8\"},\"line\":{\"color\":\"white\"}},\"header\":{\"fill\":{\"color\":\"#C8D4E3\"},\"line\":{\"color\":\"white\"}},\"type\":\"table\"}]},\"layout\":{\"annotationdefaults\":{\"arrowcolor\":\"#2a3f5f\",\"arrowhead\":0,\"arrowwidth\":1},\"autotypenumbers\":\"strict\",\"coloraxis\":{\"colorbar\":{\"outlinewidth\":0,\"ticks\":\"\"}},\"colorscale\":{\"diverging\":[[0,\"#8e0152\"],[0.1,\"#c51b7d\"],[0.2,\"#de77ae\"],[0.3,\"#f1b6da\"],[0.4,\"#fde0ef\"],[0.5,\"#f7f7f7\"],[0.6,\"#e6f5d0\"],[0.7,\"#b8e186\"],[0.8,\"#7fbc41\"],[0.9,\"#4d9221\"],[1,\"#276419\"]],\"sequential\":[[0.0,\"#0d0887\"],[0.1111111111111111,\"#46039f\"],[0.2222222222222222,\"#7201a8\"],[0.3333333333333333,\"#9c179e\"],[0.4444444444444444,\"#bd3786\"],[0.5555555555555556,\"#d8576b\"],[0.6666666666666666,\"#ed7953\"],[0.7777777777777778,\"#fb9f3a\"],[0.8888888888888888,\"#fdca26\"],[1.0,\"#f0f921\"]],\"sequentialminus\":[[0.0,\"#0d0887\"],[0.1111111111111111,\"#46039f\"],[0.2222222222222222,\"#7201a8\"],[0.3333333333333333,\"#9c179e\"],[0.4444444444444444,\"#bd3786\"],[0.5555555555555556,\"#d8576b\"],[0.6666666666666666,\"#ed7953\"],[0.7777777777777778,\"#fb9f3a\"],[0.8888888888888888,\"#fdca26\"],[1.0,\"#f0f921\"]]},\"colorway\":[\"#636efa\",\"#EF553B\",\"#00cc96\",\"#ab63fa\",\"#FFA15A\",\"#19d3f3\",\"#FF6692\",\"#B6E880\",\"#FF97FF\",\"#FECB52\"],\"font\":{\"color\":\"#2a3f5f\"},\"geo\":{\"bgcolor\":\"white\",\"lakecolor\":\"white\",\"landcolor\":\"#E5ECF6\",\"showlakes\":true,\"showland\":true,\"subunitcolor\":\"white\"},\"hoverlabel\":{\"align\":\"left\"},\"hovermode\":\"closest\",\"mapbox\":{\"style\":\"light\"},\"paper_bgcolor\":\"white\",\"plot_bgcolor\":\"#E5ECF6\",\"polar\":{\"angularaxis\":{\"gridcolor\":\"white\",\"linecolor\":\"white\",\"ticks\":\"\"},\"bgcolor\":\"#E5ECF6\",\"radialaxis\":{\"gridcolor\":\"white\",\"linecolor\":\"white\",\"ticks\":\"\"}},\"scene\":{\"xaxis\":{\"backgroundcolor\":\"#E5ECF6\",\"gridcolor\":\"white\",\"gridwidth\":2,\"linecolor\":\"white\",\"showbackground\":true,\"ticks\":\"\",\"zerolinecolor\":\"white\"},\"yaxis\":{\"backgroundcolor\":\"#E5ECF6\",\"gridcolor\":\"white\",\"gridwidth\":2,\"linecolor\":\"white\",\"showbackground\":true,\"ticks\":\"\",\"zerolinecolor\":\"white\"},\"zaxis\":{\"backgroundcolor\":\"#E5ECF6\",\"gridcolor\":\"white\",\"gridwidth\":2,\"linecolor\":\"white\",\"showbackground\":true,\"ticks\":\"\",\"zerolinecolor\":\"white\"}},\"shapedefaults\":{\"line\":{\"color\":\"#2a3f5f\"}},\"ternary\":{\"aaxis\":{\"gridcolor\":\"white\",\"linecolor\":\"white\",\"ticks\":\"\"},\"baxis\":{\"gridcolor\":\"white\",\"linecolor\":\"white\",\"ticks\":\"\"},\"bgcolor\":\"#E5ECF6\",\"caxis\":{\"gridcolor\":\"white\",\"linecolor\":\"white\",\"ticks\":\"\"}},\"title\":{\"x\":0.05},\"xaxis\":{\"automargin\":true,\"gridcolor\":\"white\",\"linecolor\":\"white\",\"ticks\":\"\",\"title\":{\"standoff\":15},\"zerolinecolor\":\"white\",\"zerolinewidth\":2},\"yaxis\":{\"automargin\":true,\"gridcolor\":\"white\",\"linecolor\":\"white\",\"ticks\":\"\",\"title\":{\"standoff\":15},\"zerolinecolor\":\"white\",\"zerolinewidth\":2}}},\"geo\":{\"domain\":{\"x\":[0.0,1.0],\"y\":[0.0,1.0]},\"center\":{},\"scope\":\"usa\"},\"coloraxis\":{\"colorbar\":{\"title\":{\"text\":\"count\"}},\"colorscale\":[[0.0,\"#0d0887\"],[0.1111111111111111,\"#46039f\"],[0.2222222222222222,\"#7201a8\"],[0.3333333333333333,\"#9c179e\"],[0.4444444444444444,\"#bd3786\"],[0.5555555555555556,\"#d8576b\"],[0.6666666666666666,\"#ed7953\"],[0.7777777777777778,\"#fb9f3a\"],[0.8888888888888888,\"#fdca26\"],[1.0,\"#f0f921\"]]},\"legend\":{\"tracegroupgap\":0},\"margin\":{\"t\":60},\"title\":{\"text\":\"Fatal shootings of people with signs of mental illness in each state\"}},                        {\"responsive\": true}                    ).then(function(){\n",
              "                            \n",
              "var gd = document.getElementById('503d90ad-1a62-4d1c-b469-4c6adc64da74');\n",
              "var x = new MutationObserver(function (mutations, observer) {{\n",
              "        var display = window.getComputedStyle(gd).display;\n",
              "        if (!display || display === 'none') {{\n",
              "            console.log([gd, 'removed!']);\n",
              "            Plotly.purge(gd);\n",
              "            observer.disconnect();\n",
              "        }}\n",
              "}});\n",
              "\n",
              "// Listen for the removal of the full notebook cells\n",
              "var notebookContainer = gd.closest('#notebook-container');\n",
              "if (notebookContainer) {{\n",
              "    x.observe(notebookContainer, {childList: true});\n",
              "}}\n",
              "\n",
              "// Listen for the clearing of the current output cell\n",
              "var outputEl = gd.closest('.output');\n",
              "if (outputEl) {{\n",
              "    x.observe(outputEl, {childList: true});\n",
              "}}\n",
              "\n",
              "                        })                };                            </script>        </div>\n",
              "</body>\n",
              "</html>"
            ]
          },
          "metadata": {}
        }
      ]
    },
    {
      "cell_type": "markdown",
      "source": [
        "#### 3.9.2 Comparision of fatal shootings where mental ilness present and not present  per states"
      ],
      "metadata": {
        "id": "WskR6c8muMqg"
      },
      "id": "WskR6c8muMqg"
    },
    {
      "cell_type": "code",
      "source": [
        "# Plotting the data\n",
        "fig, ax = plt.subplots(figsize=(15, 8))\n",
        "sb.stripplot(\n",
        "    ax=ax, data=mental_ilness, x=\"state\", y=\"count\", hue=\"signs_of_mental_illness\"\n",
        ").legend(\n",
        "    loc=\"center left\",\n",
        "    bbox_to_anchor=(1.25, 0.5),\n",
        "    ncol=1,\n",
        "    title=\"Signs of mental ilness\",\n",
        ")\n",
        "plt.xticks(rotation=90)\n",
        "ax.xaxis.grid(True)\n",
        "plt.ylabel(\"Fatal shootings\")\n",
        "plt.xlabel(\"State\")\n",
        "plt.title(\"Fatal shootings by state and signs of mental ilness\")\n",
        "plt.show()"
      ],
      "metadata": {
        "colab": {
          "base_uri": "https://localhost:8080/",
          "height": 527
        },
        "id": "EgcJ1_nsFHl0",
        "outputId": "03f80ad0-1e09-42cf-fc06-a7632bf7334f"
      },
      "id": "EgcJ1_nsFHl0",
      "execution_count": 184,
      "outputs": [
        {
          "output_type": "display_data",
          "data": {
            "text/plain": [
              "<Figure size 1080x576 with 1 Axes>"
            ],
            "image/png": "[encoded data removed]"
          },
          "metadata": {}
        }
      ]
    },
    {
      "cell_type": "markdown",
      "source": [
        "### 3.10 Fatal Killings and Year"
      ],
      "metadata": {
        "id": "AsFFnidPDA1U"
      },
      "id": "AsFFnidPDA1U"
    },
    {
      "cell_type": "code",
      "source": [
        "base_color = sb.color_palette()[0]\n",
        "sb.countplot(data = data, x = 'year', color = base_color)\n",
        "plt.title('Police killings per year');"
      ],
      "metadata": {
        "colab": {
          "base_uri": "https://localhost:8080/",
          "height": 301
        },
        "id": "kktRWJyPDIaO",
        "outputId": "fd84a468-af17-42bf-dd29-d7c8496d2f50"
      },
      "id": "kktRWJyPDIaO",
      "execution_count": 195,
      "outputs": [
        {
          "output_type": "display_data",
          "data": {
            "text/plain": [
              "<Figure size 432x288 with 1 Axes>"
            ],
            "image/png": "[encoded data removed]"
          },
          "metadata": {}
        }
      ]
    },
    {
      "cell_type": "markdown",
      "source": [
        "Observation: \n",
        "we can see that almost fatal shootings for year 2015 and 2016 are the same. The reason why 2017 plot is low compared to other year's is because, the dataset is not complete and we are only accounting for 2 months of 2017. "
      ],
      "metadata": {
        "id": "oXRtrdkqEJmT"
      },
      "id": "oXRtrdkqEJmT"
    },
    {
      "cell_type": "markdown",
      "source": [
        "## Conclusion\n",
        "\n",
        "\n",
        "In conclusion, by taking a thorough look through the race column it can be seen that there is a consistent trend going on. In all of the sections we looked at the rate was almost twice as high for the black population. If the numbers were closer it could maybe be interpreted that it is just random chance differences, but when all of the rates are consistently that high for the black population then questions need to start being asked.\n",
        "\n",
        "\n",
        "Findings:\n",
        "- the most frequent manner of death is by shooting;\n",
        "- the male gender is way more frequent respect the female one;\n",
        "- the absence of sign of mental illness is three times higher respect its presence;\n",
        "- the undetermined threat level count seems negligible;\n",
        "- the most person killed did not flee;\n",
        "- the absence of body camera is more frequent respect its presence.\n",
        "\n"
      ],
      "metadata": {
        "id": "KRpmWFwuBhSn"
      },
      "id": "KRpmWFwuBhSn"
    }
  ],
  "metadata": {
    "kernelspec": {
      "display_name": "Python 3.9.12 ('base')",
      "language": "python",
      "name": "python3"
    },
    "language_info": {
      "codemirror_mode": {
        "name": "ipython",
        "version": 3
      },
      "file_extension": ".py",
      "mimetype": "text/x-python",
      "name": "python",
      "nbconvert_exporter": "python",
      "pygments_lexer": "ipython3",
      "version": "3.9.12"
    },
    "vscode": {
      "interpreter": {
        "hash": "d311ac0eefa0339e513cfbabf645ecf659e31af9bed0459a01b016c73834fb8a"
      }
    },
    "colab": {
      "provenance": [],
      "collapsed_sections": [
        "NNtXLio7wh-H",
        "KpnqqkEnUKVl",
        "6CdN5Lf-UfW_",
        "XEskQXtXWwfb",
        "hTJcYGESo4i-",
        "bZhLf7v5voxC",
        "D_Jr4upBwqO3",
        "LhBQDmv7YKC8",
        "TBr3MfclAu1k",
        "UjEHUSgkCC7K",
        "Jpy0t2R9-YK1",
        "seR3Go6G_P7Y",
        "GYNSKaIb_zpZ"
      ],
      "toc_visible": true,
      "include_colab_link": true
    }
  },
  "nbformat": 4,
  "nbformat_minor": 5
}