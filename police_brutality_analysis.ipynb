{
  "cells": [
    {
      "cell_type": "markdown",
      "metadata": {
        "id": "view-in-github",
        "colab_type": "text"
      },
      "source": [
        "<a href=\"https://colab.research.google.com/github/ibsa21/Police-brutality-DS-ML/blob/main/police_brutality_analysis.ipynb\" target=\"_parent\"><img src=\"https://colab.research.google.com/assets/colab-badge.svg\" alt=\"Open In Colab\"/></a>"
      ]
    },
    {
      "cell_type": "markdown",
      "source": [
        "# Fatal Police Shootings in USA\n"
      ],
      "metadata": {
        "id": "q1fuh265f51_"
      },
      "id": "q1fuh265f51_"
    },
    {
      "cell_type": "markdown",
      "source": [
        "## 1. Introduction\n",
        "This project will take a look at killings that took place at the hands of police officers in the United States from the beginning of 2015 to into February 2017. The main goal here is to explore the data."
      ],
      "metadata": {
        "id": "NNtXLio7wh-H"
      },
      "id": "NNtXLio7wh-H"
    },
    {
      "cell_type": "markdown",
      "source": [
        "### 1.1 About the dataset\n",
        "The Washington Post is compiling a database of every fatal shooting in the United States by a police officer in the line of duty since January 1, 2015. <br> In 2015, The Post began tracking more than a dozen details about each killing — including the race of the deceased, the circumstances of the shooting, whether the person was armed and whether the victim was experiencing a mental-health crisis — by culling local news reports, law enforcement websites and social media and by monitoring independent databases such as Killed by Police and Fatal Encounters.\n"
      ],
      "metadata": {
        "id": "1kmh-3-EwuSr"
      },
      "id": "1kmh-3-EwuSr"
    },
    {
      "cell_type": "markdown",
      "source": [
        "\n",
        "### 1.2 context\n",
        "The analsis performed and insights extracted from this dataset is totally for learning purpose and should not be used as source of information."
      ],
      "metadata": {
        "id": "JXwnzE9RwyrA"
      },
      "id": "JXwnzE9RwyrA"
    },
    {
      "cell_type": "markdown",
      "source": [
        "### 1.3 content"
      ],
      "metadata": {
        "id": "BxpzYmlow1Q4"
      },
      "id": "BxpzYmlow1Q4"
    },
    {
      "cell_type": "markdown",
      "source": [
        "The dataset contains the following attributes:\n",
        "\n",
        "    id - Unique Identifier\n",
        "    name - Name of the Victim\n",
        "    date - Date of the Shootout\n",
        "    manner of death - Manner of Death i.e., Shot or Shot & Tasered\n",
        "    armed - Arm\n",
        "    age - Age of the Victim\n",
        "    gender - Gender\n",
        "    race - Race of the Victim\n",
        "    city - City in which the Shootout happened\n",
        "    state - State in which the Shootout happened\n"
      ],
      "metadata": {
        "id": "EohoNoEqHwhj"
      },
      "id": "EohoNoEqHwhj"
    },
    {
      "cell_type": "markdown",
      "source": [
        "## 2. Imports and Data Cleaning\n"
      ],
      "metadata": {
        "id": "KpnqqkEnUKVl"
      },
      "id": "KpnqqkEnUKVl"
    },
    {
      "cell_type": "markdown",
      "source": [
        "### 2.1 Importing required modules"
      ],
      "metadata": {
        "id": "4JNzvETdxBJC"
      },
      "id": "4JNzvETdxBJC"
    },
    {
      "cell_type": "code",
      "execution_count": 159,
      "id": "451a508c",
      "metadata": {
        "id": "451a508c"
      },
      "outputs": [],
      "source": [
        "#import libraries\n",
        "import pandas as pd\n",
        "import numpy as np\n",
        "import matplotlib.pyplot as plt\n",
        "import plotly.express as px\n",
        "import seaborn as sb\n",
        "import warnings\n",
        "from scipy.stats import poisson \n",
        "from typing import List, Dict\n",
        "from wordcloud import WordCloud"
      ]
    },
    {
      "cell_type": "code",
      "source": [
        "#settings\n",
        "%matplotlib inline\n",
        "sb.set_theme(style=\"whitegrid\")\n",
        "sb.set()\n",
        "warnings.filterwarnings('ignore')"
      ],
      "metadata": {
        "id": "eVq4KgqKwAOY"
      },
      "id": "eVq4KgqKwAOY",
      "execution_count": 8,
      "outputs": []
    },
    {
      "cell_type": "markdown",
      "source": [
        "### 2.2 Loading the database "
      ],
      "metadata": {
        "id": "6CdN5Lf-UfW_"
      },
      "id": "6CdN5Lf-UfW_"
    },
    {
      "cell_type": "code",
      "execution_count": 9,
      "id": "834f76ce",
      "metadata": {
        "id": "834f76ce"
      },
      "outputs": [],
      "source": [
        "def load_data(pd:pd.DataFrame, fileURL:str)->pd.DataFrame:\n",
        "  '''Loads data'''\n",
        "  return pd.read_csv(fileURL)"
      ]
    },
    {
      "cell_type": "code",
      "execution_count": 10,
      "id": "398c76c4",
      "metadata": {
        "id": "398c76c4"
      },
      "outputs": [],
      "source": [
        "data = load_data(pd, 'database.csv')"
      ]
    },
    {
      "cell_type": "code",
      "execution_count": 11,
      "id": "f23cebd7",
      "metadata": {
        "id": "f23cebd7",
        "colab": {
          "base_uri": "https://localhost:8080/",
          "height": 206
        },
        "outputId": "17b31cec-1b43-46c0-fd33-ef9ca1055f6a"
      },
      "outputs": [
        {
          "output_type": "execute_result",
          "data": {
            "text/plain": [
              "   id                name        date   manner_of_death       armed   age  \\\n",
              "0   3          Tim Elliot  2015-01-02              shot         gun  53.0   \n",
              "1   4    Lewis Lee Lembke  2015-01-02              shot         gun  47.0   \n",
              "2   5  John Paul Quintero  2015-01-03  shot and Tasered     unarmed  23.0   \n",
              "3   8     Matthew Hoffman  2015-01-04              shot  toy weapon  32.0   \n",
              "4   9   Michael Rodriguez  2015-01-04              shot    nail gun  39.0   \n",
              "\n",
              "  gender race           city state  signs_of_mental_illness threat_level  \\\n",
              "0      M    A        Shelton    WA                     True       attack   \n",
              "1      M    W          Aloha    OR                    False       attack   \n",
              "2      M    H        Wichita    KS                    False        other   \n",
              "3      M    W  San Francisco    CA                     True       attack   \n",
              "4      M    H          Evans    CO                    False       attack   \n",
              "\n",
              "          flee  body_camera  \n",
              "0  Not fleeing        False  \n",
              "1  Not fleeing        False  \n",
              "2  Not fleeing        False  \n",
              "3  Not fleeing        False  \n",
              "4  Not fleeing        False  "
            ],
            "text/html": [
              "\n",
              "  <div id=\"df-529bafee-2ec9-4038-8c6c-b6f50562d3c0\">\n",
              "    <div class=\"colab-df-container\">\n",
              "      <div>\n",
              "<style scoped>\n",
              "    .dataframe tbody tr th:only-of-type {\n",
              "        vertical-align: middle;\n",
              "    }\n",
              "\n",
              "    .dataframe tbody tr th {\n",
              "        vertical-align: top;\n",
              "    }\n",
              "\n",
              "    .dataframe thead th {\n",
              "        text-align: right;\n",
              "    }\n",
              "</style>\n",
              "<table border=\"1\" class=\"dataframe\">\n",
              "  <thead>\n",
              "    <tr style=\"text-align: right;\">\n",
              "      <th></th>\n",
              "      <th>id</th>\n",
              "      <th>name</th>\n",
              "      <th>date</th>\n",
              "      <th>manner_of_death</th>\n",
              "      <th>armed</th>\n",
              "      <th>age</th>\n",
              "      <th>gender</th>\n",
              "      <th>race</th>\n",
              "      <th>city</th>\n",
              "      <th>state</th>\n",
              "      <th>signs_of_mental_illness</th>\n",
              "      <th>threat_level</th>\n",
              "      <th>flee</th>\n",
              "      <th>body_camera</th>\n",
              "    </tr>\n",
              "  </thead>\n",
              "  <tbody>\n",
              "    <tr>\n",
              "      <th>0</th>\n",
              "      <td>3</td>\n",
              "      <td>Tim Elliot</td>\n",
              "      <td>2015-01-02</td>\n",
              "      <td>shot</td>\n",
              "      <td>gun</td>\n",
              "      <td>53.0</td>\n",
              "      <td>M</td>\n",
              "      <td>A</td>\n",
              "      <td>Shelton</td>\n",
              "      <td>WA</td>\n",
              "      <td>True</td>\n",
              "      <td>attack</td>\n",
              "      <td>Not fleeing</td>\n",
              "      <td>False</td>\n",
              "    </tr>\n",
              "    <tr>\n",
              "      <th>1</th>\n",
              "      <td>4</td>\n",
              "      <td>Lewis Lee Lembke</td>\n",
              "      <td>2015-01-02</td>\n",
              "      <td>shot</td>\n",
              "      <td>gun</td>\n",
              "      <td>47.0</td>\n",
              "      <td>M</td>\n",
              "      <td>W</td>\n",
              "      <td>Aloha</td>\n",
              "      <td>OR</td>\n",
              "      <td>False</td>\n",
              "      <td>attack</td>\n",
              "      <td>Not fleeing</td>\n",
              "      <td>False</td>\n",
              "    </tr>\n",
              "    <tr>\n",
              "      <th>2</th>\n",
              "      <td>5</td>\n",
              "      <td>John Paul Quintero</td>\n",
              "      <td>2015-01-03</td>\n",
              "      <td>shot and Tasered</td>\n",
              "      <td>unarmed</td>\n",
              "      <td>23.0</td>\n",
              "      <td>M</td>\n",
              "      <td>H</td>\n",
              "      <td>Wichita</td>\n",
              "      <td>KS</td>\n",
              "      <td>False</td>\n",
              "      <td>other</td>\n",
              "      <td>Not fleeing</td>\n",
              "      <td>False</td>\n",
              "    </tr>\n",
              "    <tr>\n",
              "      <th>3</th>\n",
              "      <td>8</td>\n",
              "      <td>Matthew Hoffman</td>\n",
              "      <td>2015-01-04</td>\n",
              "      <td>shot</td>\n",
              "      <td>toy weapon</td>\n",
              "      <td>32.0</td>\n",
              "      <td>M</td>\n",
              "      <td>W</td>\n",
              "      <td>San Francisco</td>\n",
              "      <td>CA</td>\n",
              "      <td>True</td>\n",
              "      <td>attack</td>\n",
              "      <td>Not fleeing</td>\n",
              "      <td>False</td>\n",
              "    </tr>\n",
              "    <tr>\n",
              "      <th>4</th>\n",
              "      <td>9</td>\n",
              "      <td>Michael Rodriguez</td>\n",
              "      <td>2015-01-04</td>\n",
              "      <td>shot</td>\n",
              "      <td>nail gun</td>\n",
              "      <td>39.0</td>\n",
              "      <td>M</td>\n",
              "      <td>H</td>\n",
              "      <td>Evans</td>\n",
              "      <td>CO</td>\n",
              "      <td>False</td>\n",
              "      <td>attack</td>\n",
              "      <td>Not fleeing</td>\n",
              "      <td>False</td>\n",
              "    </tr>\n",
              "  </tbody>\n",
              "</table>\n",
              "</div>\n",
              "      <button class=\"colab-df-convert\" onclick=\"convertToInteractive('df-529bafee-2ec9-4038-8c6c-b6f50562d3c0')\"\n",
              "              title=\"Convert this dataframe to an interactive table.\"\n",
              "              style=\"display:none;\">\n",
              "        \n",
              "  <svg xmlns=\"http://www.w3.org/2000/svg\" height=\"24px\"viewBox=\"0 0 24 24\"\n",
              "       width=\"24px\">\n",
              "    <path d=\"M0 0h24v24H0V0z\" fill=\"none\"/>\n",
              "    <path d=\"M18.56 5.44l.94 2.06.94-2.06 2.06-.94-2.06-.94-.94-2.06-.94 2.06-2.06.94zm-11 1L8.5 8.5l.94-2.06 2.06-.94-2.06-.94L8.5 2.5l-.94 2.06-2.06.94zm10 10l.94 2.06.94-2.06 2.06-.94-2.06-.94-.94-2.06-.94 2.06-2.06.94z\"/><path d=\"M17.41 7.96l-1.37-1.37c-.4-.4-.92-.59-1.43-.59-.52 0-1.04.2-1.43.59L10.3 9.45l-7.72 7.72c-.78.78-.78 2.05 0 2.83L4 21.41c.39.39.9.59 1.41.59.51 0 1.02-.2 1.41-.59l7.78-7.78 2.81-2.81c.8-.78.8-2.07 0-2.86zM5.41 20L4 18.59l7.72-7.72 1.47 1.35L5.41 20z\"/>\n",
              "  </svg>\n",
              "      </button>\n",
              "      \n",
              "  <style>\n",
              "    .colab-df-container {\n",
              "      display:flex;\n",
              "      flex-wrap:wrap;\n",
              "      gap: 12px;\n",
              "    }\n",
              "\n",
              "    .colab-df-convert {\n",
              "      background-color: #E8F0FE;\n",
              "      border: none;\n",
              "      border-radius: 50%;\n",
              "      cursor: pointer;\n",
              "      display: none;\n",
              "      fill: #1967D2;\n",
              "      height: 32px;\n",
              "      padding: 0 0 0 0;\n",
              "      width: 32px;\n",
              "    }\n",
              "\n",
              "    .colab-df-convert:hover {\n",
              "      background-color: #E2EBFA;\n",
              "      box-shadow: 0px 1px 2px rgba(60, 64, 67, 0.3), 0px 1px 3px 1px rgba(60, 64, 67, 0.15);\n",
              "      fill: #174EA6;\n",
              "    }\n",
              "\n",
              "    [theme=dark] .colab-df-convert {\n",
              "      background-color: #3B4455;\n",
              "      fill: #D2E3FC;\n",
              "    }\n",
              "\n",
              "    [theme=dark] .colab-df-convert:hover {\n",
              "      background-color: #434B5C;\n",
              "      box-shadow: 0px 1px 3px 1px rgba(0, 0, 0, 0.15);\n",
              "      filter: drop-shadow(0px 1px 2px rgba(0, 0, 0, 0.3));\n",
              "      fill: #FFFFFF;\n",
              "    }\n",
              "  </style>\n",
              "\n",
              "      <script>\n",
              "        const buttonEl =\n",
              "          document.querySelector('#df-529bafee-2ec9-4038-8c6c-b6f50562d3c0 button.colab-df-convert');\n",
              "        buttonEl.style.display =\n",
              "          google.colab.kernel.accessAllowed ? 'block' : 'none';\n",
              "\n",
              "        async function convertToInteractive(key) {\n",
              "          const element = document.querySelector('#df-529bafee-2ec9-4038-8c6c-b6f50562d3c0');\n",
              "          const dataTable =\n",
              "            await google.colab.kernel.invokeFunction('convertToInteractive',\n",
              "                                                     [key], {});\n",
              "          if (!dataTable) return;\n",
              "\n",
              "          const docLinkHtml = 'Like what you see? Visit the ' +\n",
              "            '<a target=\"_blank\" href=https://colab.research.google.com/notebooks/data_table.ipynb>data table notebook</a>'\n",
              "            + ' to learn more about interactive tables.';\n",
              "          element.innerHTML = '';\n",
              "          dataTable['output_type'] = 'display_data';\n",
              "          await google.colab.output.renderOutput(dataTable, element);\n",
              "          const docLink = document.createElement('div');\n",
              "          docLink.innerHTML = docLinkHtml;\n",
              "          element.appendChild(docLink);\n",
              "        }\n",
              "      </script>\n",
              "    </div>\n",
              "  </div>\n",
              "  "
            ]
          },
          "metadata": {},
          "execution_count": 11
        }
      ],
      "source": [
        "data.head()"
      ]
    },
    {
      "cell_type": "markdown",
      "source": [
        "### 2.3 Data Cleaning"
      ],
      "metadata": {
        "id": "_2Gt96z5wW2Q"
      },
      "id": "_2Gt96z5wW2Q"
    },
    {
      "cell_type": "code",
      "source": [
        "#replacing race abbrevation with real name\n",
        "data = data.replace(\n",
        "    {\n",
        "        \"race\": {\n",
        "            \"W\": \"White\",\n",
        "            \"B\": \"Black\",\n",
        "            \"A\": \"Asian\",\n",
        "            \"H\": \"Hispanic\",\n",
        "            \"O\": \"Other\",\n",
        "            \"N\": \"Native\",\n",
        "        }\n",
        "    }\n",
        ")"
      ],
      "metadata": {
        "id": "pdFHiuVNwawW"
      },
      "id": "pdFHiuVNwawW",
      "execution_count": 12,
      "outputs": []
    },
    {
      "cell_type": "markdown",
      "source": [
        "#### 2.3.1 Handling Missing Data\n",
        "Let's see if the dataset contains missing data using `DataFrame.info()` method "
      ],
      "metadata": {
        "id": "het5qtQcU4L2"
      },
      "id": "het5qtQcU4L2"
    },
    {
      "cell_type": "code",
      "source": [
        "data.info()"
      ],
      "metadata": {
        "colab": {
          "base_uri": "https://localhost:8080/"
        },
        "id": "F7fH99wVpf8n",
        "outputId": "f4503a7f-60ed-4a03-8997-b9eebff5b136"
      },
      "id": "F7fH99wVpf8n",
      "execution_count": 13,
      "outputs": [
        {
          "output_type": "stream",
          "name": "stdout",
          "text": [
            "<class 'pandas.core.frame.DataFrame'>\n",
            "RangeIndex: 2142 entries, 0 to 2141\n",
            "Data columns (total 14 columns):\n",
            " #   Column                   Non-Null Count  Dtype  \n",
            "---  ------                   --------------  -----  \n",
            " 0   id                       2142 non-null   int64  \n",
            " 1   name                     2123 non-null   object \n",
            " 2   date                     2142 non-null   object \n",
            " 3   manner_of_death          2142 non-null   object \n",
            " 4   armed                    2136 non-null   object \n",
            " 5   age                      2099 non-null   float64\n",
            " 6   gender                   2141 non-null   object \n",
            " 7   race                     2039 non-null   object \n",
            " 8   city                     2142 non-null   object \n",
            " 9   state                    2142 non-null   object \n",
            " 10  signs_of_mental_illness  2142 non-null   bool   \n",
            " 11  threat_level             2142 non-null   object \n",
            " 12  flee                     2106 non-null   object \n",
            " 13  body_camera              2142 non-null   bool   \n",
            "dtypes: bool(2), float64(1), int64(1), object(10)\n",
            "memory usage: 205.1+ KB\n"
          ]
        }
      ]
    },
    {
      "cell_type": "markdown",
      "source": [
        "The above output shows there's small amount of missing data in our dataset. This could affect our interpretation of the analysis, we should work through missing data by dropping them from the dataset."
      ],
      "metadata": {
        "id": "w0Ljg1myrSU7"
      },
      "id": "w0Ljg1myrSU7"
    },
    {
      "cell_type": "code",
      "source": [
        "missing_data_counts = data.isnull().sum()\n",
        "missing_data_counts"
      ],
      "metadata": {
        "colab": {
          "base_uri": "https://localhost:8080/"
        },
        "id": "wXk1umHYeQ69",
        "outputId": "b6a0ceb6-7a8a-48a6-e09e-c1c022f5cded"
      },
      "id": "wXk1umHYeQ69",
      "execution_count": 14,
      "outputs": [
        {
          "output_type": "execute_result",
          "data": {
            "text/plain": [
              "id                           0\n",
              "name                        19\n",
              "date                         0\n",
              "manner_of_death              0\n",
              "armed                        6\n",
              "age                         43\n",
              "gender                       1\n",
              "race                       103\n",
              "city                         0\n",
              "state                        0\n",
              "signs_of_mental_illness      0\n",
              "threat_level                 0\n",
              "flee                        36\n",
              "body_camera                  0\n",
              "dtype: int64"
            ]
          },
          "metadata": {},
          "execution_count": 14
        }
      ]
    },
    {
      "cell_type": "markdown",
      "source": [
        "\n",
        "\n",
        "The race column is the column with most data missing. In this case it's better to take out columns with missing data. These columns are, \"race\" \"armed\", \"age\", and \"flee\".\n"
      ],
      "metadata": {
        "id": "ngvL10fDe0Rl"
      },
      "id": "ngvL10fDe0Rl"
    },
    {
      "cell_type": "code",
      "source": [
        "data = data.dropna(subset=['race', 'armed', 'age', 'flee']).reset_index()\n",
        "data.info()"
      ],
      "metadata": {
        "colab": {
          "base_uri": "https://localhost:8080/"
        },
        "id": "G8kHmDjhfO9X",
        "outputId": "58bd0842-12f5-4eea-fdf3-6881648d2f64"
      },
      "id": "G8kHmDjhfO9X",
      "execution_count": 15,
      "outputs": [
        {
          "output_type": "stream",
          "name": "stdout",
          "text": [
            "<class 'pandas.core.frame.DataFrame'>\n",
            "RangeIndex: 1986 entries, 0 to 1985\n",
            "Data columns (total 15 columns):\n",
            " #   Column                   Non-Null Count  Dtype  \n",
            "---  ------                   --------------  -----  \n",
            " 0   index                    1986 non-null   int64  \n",
            " 1   id                       1986 non-null   int64  \n",
            " 2   name                     1986 non-null   object \n",
            " 3   date                     1986 non-null   object \n",
            " 4   manner_of_death          1986 non-null   object \n",
            " 5   armed                    1986 non-null   object \n",
            " 6   age                      1986 non-null   float64\n",
            " 7   gender                   1986 non-null   object \n",
            " 8   race                     1986 non-null   object \n",
            " 9   city                     1986 non-null   object \n",
            " 10  state                    1986 non-null   object \n",
            " 11  signs_of_mental_illness  1986 non-null   bool   \n",
            " 12  threat_level             1986 non-null   object \n",
            " 13  flee                     1986 non-null   object \n",
            " 14  body_camera              1986 non-null   bool   \n",
            "dtypes: bool(2), float64(1), int64(2), object(10)\n",
            "memory usage: 205.7+ KB\n"
          ]
        }
      ]
    },
    {
      "cell_type": "markdown",
      "source": [
        "The post cleaning dataset contains 1986 observations of 15 features."
      ],
      "metadata": {
        "id": "6CP4Hptyfii7"
      },
      "id": "6CP4Hptyfii7"
    },
    {
      "cell_type": "markdown",
      "source": [
        "#### 2.3.2 Parsing Date Column"
      ],
      "metadata": {
        "id": "wR83wHA8WWjT"
      },
      "id": "wR83wHA8WWjT"
    },
    {
      "cell_type": "code",
      "source": [
        "data[\"date\"] = pd.to_datetime(data[\"date\"])\n",
        "data['year'] = pd.DatetimeIndex(data['date']).year"
      ],
      "metadata": {
        "id": "u9C960xdxOhL"
      },
      "id": "u9C960xdxOhL",
      "execution_count": 16,
      "outputs": []
    },
    {
      "cell_type": "code",
      "source": [
        "#date\n",
        "earliest_date = data['date'].min()\n",
        "latest_date = data['date'].max()\n",
        "print(f'This dataset is recorded between {earliest_date} and {latest_date}.')"
      ],
      "metadata": {
        "colab": {
          "base_uri": "https://localhost:8080/"
        },
        "id": "Y98ubV2kxd3E",
        "outputId": "a00d43e3-e074-4f9b-beed-ca2438ef0572"
      },
      "id": "Y98ubV2kxd3E",
      "execution_count": 17,
      "outputs": [
        {
          "output_type": "stream",
          "name": "stdout",
          "text": [
            "This dataset is recorded between 2015-01-02 00:00:00 and 2017-02-28 00:00:00.\n"
          ]
        }
      ]
    },
    {
      "cell_type": "markdown",
      "source": [
        "## 3. Explaratory Data Analysis and Data Visualization"
      ],
      "metadata": {
        "id": "XEskQXtXWwfb"
      },
      "id": "XEskQXtXWwfb"
    },
    {
      "cell_type": "markdown",
      "source": [
        "### 3.1 Correlation of Features"
      ],
      "metadata": {
        "id": "v7rR-TvTroVQ"
      },
      "id": "v7rR-TvTroVQ"
    },
    {
      "cell_type": "code",
      "source": [
        "df = data.loc[:, ~data.columns.isin(['index', 'id'])]\n",
        "shooting_correlation = df.iloc[2:].corr()"
      ],
      "metadata": {
        "id": "rtBOFkp0qAUA"
      },
      "id": "rtBOFkp0qAUA",
      "execution_count": 18,
      "outputs": []
    },
    {
      "cell_type": "code",
      "source": [
        "fig, ax = plt.subplots(figsize=(8,8))\n",
        "mask = np.triu(shooting_correlation)\n",
        "sb.heatmap(shooting_correlation, annot=True, square=True);"
      ],
      "metadata": {
        "colab": {
          "base_uri": "https://localhost:8080/",
          "height": 54
        },
        "id": "-586T3jWpLtG",
        "outputId": "4eab0b83-d5d9-40c1-b74c-3447caa8549b"
      },
      "id": "-586T3jWpLtG",
      "execution_count": 19,
      "outputs": [
        {
          "output_type": "display_data",
          "data": {
            "text/plain": [
              "<Figure size 576x576 with 2 Axes>"
            ],
            "image/png": "[encoded data removed]"
          },
          "metadata": {}
        }
      ]
    },
    {
      "cell_type": "markdown",
      "source": [
        "<i>Observation:</i> <br>\n",
        "- Upon easy correlation analysis, the features in this dataset do not seem to have any correlation whether it's positively or negatively correlated. <br>\n",
        "\n",
        "<i>Suggestion:</i> <br>\n",
        "- Further analysis needs to be done, to see the relation between these  features"
      ],
      "metadata": {
        "id": "dISmiyOcr_rx"
      },
      "id": "dISmiyOcr_rx"
    },
    {
      "cell_type": "markdown",
      "source": [
        "### 3.2 Distribution of Ages"
      ],
      "metadata": {
        "id": "hTJcYGESo4i-"
      },
      "id": "hTJcYGESo4i-"
    },
    {
      "cell_type": "code",
      "source": [
        "data['age'].describe().round()"
      ],
      "metadata": {
        "colab": {
          "base_uri": "https://localhost:8080/"
        },
        "id": "3dckXPN0sqGD",
        "outputId": "253f2a99-1132-4a86-9f63-78561e08bad7"
      },
      "id": "3dckXPN0sqGD",
      "execution_count": 20,
      "outputs": [
        {
          "output_type": "execute_result",
          "data": {
            "text/plain": [
              "count    1986.0\n",
              "mean       36.0\n",
              "std        13.0\n",
              "min         6.0\n",
              "25%        26.0\n",
              "50%        34.0\n",
              "75%        45.0\n",
              "max        83.0\n",
              "Name: age, dtype: float64"
            ]
          },
          "metadata": {},
          "execution_count": 20
        }
      ]
    },
    {
      "cell_type": "markdown",
      "source": [
        "<i>Observation</i>:<br>\n",
        "- 95% of killings are aged 11-63"
      ],
      "metadata": {
        "id": "N7BUDF-Qtl7_"
      },
      "id": "N7BUDF-Qtl7_"
    },
    {
      "cell_type": "code",
      "source": [
        "fig = plt.figure(figsize=(10,6))\n",
        "sb.distplot(data['age'],bins=30)\n",
        "plt.title('Distribution of age of individuals shot by police')\n",
        "plt.show()"
      ],
      "metadata": {
        "colab": {
          "base_uri": "https://localhost:8080/",
          "height": 410
        },
        "id": "nIhEbs5psMd6",
        "outputId": "acc89938-0215-43ad-dd79-e37dcba0822d"
      },
      "id": "nIhEbs5psMd6",
      "execution_count": 21,
      "outputs": [
        {
          "output_type": "display_data",
          "data": {
            "text/plain": [
              "<Figure size 720x432 with 1 Axes>"
            ],
            "image/png": "[encoded data removed]"
          },
          "metadata": {}
        }
      ]
    },
    {
      "cell_type": "code",
      "source": [
        "data.query('age <20').shape"
      ],
      "metadata": {
        "colab": {
          "base_uri": "https://localhost:8080/"
        },
        "id": "hapK9wLTy-eK",
        "outputId": "f65f0ffa-2316-4a88-dcda-a527120c4ad6"
      },
      "id": "hapK9wLTy-eK",
      "execution_count": 22,
      "outputs": [
        {
          "output_type": "execute_result",
          "data": {
            "text/plain": [
              "(118, 16)"
            ]
          },
          "metadata": {},
          "execution_count": 22
        }
      ]
    },
    {
      "cell_type": "markdown",
      "source": [
        "<i>Observation</i>:<br>\n",
        "- Most of the individuals shot and killed by police were between the ages of 20 and 40, with very few older than 80 or younger than 16. \n",
        "Though there are 118 children under the age of 20 that were killed by police.\n"
      ],
      "metadata": {
        "id": "WYEqa6z76wmO"
      },
      "id": "WYEqa6z76wmO"
    },
    {
      "cell_type": "markdown",
      "source": [
        "#### 3.2.1 Analysis of Race Vs Age"
      ],
      "metadata": {
        "id": "6aYoPGqEqW4s"
      },
      "id": "6aYoPGqEqW4s"
    },
    {
      "cell_type": "code",
      "source": [
        "race_and_age = data.groupby('race')\n",
        "sb.boxplot(x='race', y='age', data=data)\n",
        "\n",
        "plt.xlabel(\"Race\")\n",
        "plt.ylabel(\"Age\")\n",
        "plt.title(\"Killings Based on Age Separated by Race\")\n",
        "plt.show()"
      ],
      "metadata": {
        "colab": {
          "base_uri": "https://localhost:8080/",
          "height": 301
        },
        "id": "SPVQg_bbvPYA",
        "outputId": "7ab5a037-649c-4cc4-c02d-e9a5f711841e"
      },
      "id": "SPVQg_bbvPYA",
      "execution_count": 23,
      "outputs": [
        {
          "output_type": "display_data",
          "data": {
            "text/plain": [
              "<Figure size 432x288 with 1 Axes>"
            ],
            "image/png": "[encoded data removed]"
          },
          "metadata": {}
        }
      ]
    },
    {
      "cell_type": "markdown",
      "source": [
        "<i>Observation:</i><br>\n",
        "- From the above visualization we can see the mean age for each race. Mean age for most of the races are in there 30's and all of them being in the arly 30's, except of the white population that had there mean centered around late 30's.\n",
        "- From the graph it looks like the race with the most range of killings is the White population who looks to have the min and max values of our dataset. \n",
        "- The Asian, Hispanic and Black population look very close together. The Native American population seems to have the least amount of range having the people killed by police being between late teens and late 40's."
      ],
      "metadata": {
        "id": "J7Kaa5VlwECw"
      },
      "id": "J7Kaa5VlwECw"
    },
    {
      "cell_type": "markdown",
      "source": [
        "#### 3.2.3 Comparision of youngsters(<30) and adults(>=30) killing between each race"
      ],
      "metadata": {
        "id": "V-tahBag38xA"
      },
      "id": "V-tahBag38xA"
    },
    {
      "cell_type": "code",
      "source": [
        "def makeQuery(df:pd.DataFrame, feature:str, condition:str)->pd.DataFrame:\n",
        "    '''Returns result of sorted DataFrame based on certain features'''\n",
        "\n",
        "    query_string = feature + condition\n",
        "    return df.query(query_string)"
      ],
      "metadata": {
        "id": "Th66viE84O9G"
      },
      "id": "Th66viE84O9G",
      "execution_count": 24,
      "outputs": []
    },
    {
      "cell_type": "code",
      "source": [
        "feature1 = 'race'\n",
        "feature2 = 'age'\n",
        "df1 = makeQuery(data, feature2, '>=30')[[feature1,feature2]]\n",
        "df2 = makeQuery(data, feature2, '<30')[[feature1, feature2]]"
      ],
      "metadata": {
        "id": "Q2PmyA384aHU"
      },
      "id": "Q2PmyA384aHU",
      "execution_count": 25,
      "outputs": []
    },
    {
      "cell_type": "code",
      "source": [
        "a = df1.groupby(feature1)[feature1].count()\n",
        "b = df2.groupby(feature1)[feature1].count()\n",
        "\n",
        "f, ax = plt.subplots(figsize=(8, 8))\n",
        "sb.set_color_codes(\"pastel\")\n",
        "sb.barplot(y=a, x = a.index,label=\"Age >= 30\", color=\"b\")\n",
        "sb.set_color_codes(\"muted\")\n",
        "sb.barplot(y=b, x=b.index, label=\"Age < 30\", color=\"b\")\n",
        "ax.legend(ncol=2, loc=\"upper left\", frameon=True)\n",
        "ax.set(ylabel=\"\", xlabel=\"Number of Students enrolled\")\n",
        "sb.despine(left=True, bottom=True)"
      ],
      "metadata": {
        "colab": {
          "base_uri": "https://localhost:8080/",
          "height": 502
        },
        "id": "w-G0GjwL41uy",
        "outputId": "86a0da2e-dc72-4373-8160-2edc5fbba7cf"
      },
      "id": "w-G0GjwL41uy",
      "execution_count": 26,
      "outputs": [
        {
          "output_type": "display_data",
          "data": {
            "text/plain": [
              "<Figure size 576x576 with 1 Axes>"
            ],
            "image/png": "[encoded data removed]"
          },
          "metadata": {}
        }
      ]
    },
    {
      "cell_type": "markdown",
      "source": [
        "<i>Observation</i>:<br>\n",
        "- Most of the Victims from Black and Native Population are younger than 30's\n",
        "- For Asian, Hispanic, and White population most of the victims are older than 30"
      ],
      "metadata": {
        "id": "2RJUzTQ2CWN1"
      },
      "id": "2RJUzTQ2CWN1"
    },
    {
      "cell_type": "markdown",
      "source": [
        "### 3.3 Number of Shootings by weapon carried"
      ],
      "metadata": {
        "id": "5e8YSaO7vC4a"
      },
      "id": "5e8YSaO7vC4a"
    },
    {
      "cell_type": "code",
      "source": [
        "#selecting top 10 used weapons\n",
        "weapons = data['armed'].value_counts()\n",
        "weapons = weapons[:10]"
      ],
      "metadata": {
        "id": "DbxpZyfpviYG"
      },
      "id": "DbxpZyfpviYG",
      "execution_count": 27,
      "outputs": []
    },
    {
      "cell_type": "code",
      "source": [
        "#making the plot\n",
        "fig, ax = plt.subplots(figsize=(10, 5))\n",
        "sb.barplot(weapons.index, weapons)\n",
        "plt.ylabel('count')\n",
        "plt.title('Number of Shootings by Weapon Carried')\n",
        "plt.xticks(rotation=45);"
      ],
      "metadata": {
        "id": "Z2XE_AclSpYh",
        "colab": {
          "base_uri": "https://localhost:8080/",
          "height": 404
        },
        "outputId": "35c16c31-ac9b-4350-ff20-ce695e793014"
      },
      "id": "Z2XE_AclSpYh",
      "execution_count": 28,
      "outputs": [
        {
          "output_type": "display_data",
          "data": {
            "text/plain": [
              "<Figure size 720x360 with 1 Axes>"
            ],
            "image/png": "[encoded data removed]"
          },
          "metadata": {}
        }
      ]
    },
    {
      "cell_type": "markdown",
      "source": [
        "<i>Observations</i>:<br>\n",
        "- Most of victims had a Gun or a Knife at time of incident. \n",
        "- An alarmingly high proportion of individuals shot by police were either Unarmed or Armed with a Toy Weapon\n"
      ],
      "metadata": {
        "id": "7LcYbWC_6Dup"
      },
      "id": "7LcYbWC_6Dup"
    },
    {
      "cell_type": "markdown",
      "source": [
        "### 3.4 Race and Death (Overview of Deaths by Race)\n",
        "This section focuses on the rate at which each race is being killed by police. Comparing rate of death of each race is more important than just counting how many people have been killed from each race. This way we are able to weigh our information by comparing deaths by population."
      ],
      "metadata": {
        "id": "bZhLf7v5voxC"
      },
      "id": "bZhLf7v5voxC"
    },
    {
      "cell_type": "markdown",
      "source": [
        "#### 3.4.1 Visualizing percentage's of peoples killed from different race in span of 2 years"
      ],
      "metadata": {
        "id": "cYPsGSwTo_lc"
      },
      "id": "cYPsGSwTo_lc"
    },
    {
      "cell_type": "code",
      "source": [
        "def makePlot(plot_type:str, data:pd.DataFrame, \\\n",
        "                    feature:str, title:str = '', label:str = '', label2:str = '')->None:\n",
        "    ax = None\n",
        "    plt.figure(figsize=(6,5))\n",
        "    if plot_type == 'boxplot':\n",
        "        plt.boxplot(data =data , x = feature);\n",
        "    else:\n",
        "        ax = sb.countplot(data = data, x = feature)\n",
        "    plt.xlabel(label2)\n",
        "    plt.ylabel(label)\n",
        "    plt.title(title)\n",
        "    \n",
        "    if ax is not None:\n",
        "        for p in ax.patches:\n",
        "            percentage = '{:.1f}%'.format(100 * p.get_height()/len(data))\n",
        "            x = p.get_x() + p.get_width() - 0.5\n",
        "            y = p.get_height() + 0.1\n",
        "            ax.annotate(percentage, (x, y))\n",
        "    plt.show()"
      ],
      "metadata": {
        "id": "HnuntzCpuiFw"
      },
      "id": "HnuntzCpuiFw",
      "execution_count": 29,
      "outputs": []
    },
    {
      "cell_type": "code",
      "source": [
        "ylabel = 'Count'\n",
        "xlabel = 'Race'\n",
        "title = 'Counts of death'\n",
        "makePlot('seaborn', data, 'race',title, ylabel, xlabel)"
      ],
      "metadata": {
        "colab": {
          "base_uri": "https://localhost:8080/",
          "height": 355
        },
        "id": "O3XVryhavbH2",
        "outputId": "c638b47c-2aa8-43a6-dee6-7c4abda7f4f6"
      },
      "id": "O3XVryhavbH2",
      "execution_count": 30,
      "outputs": [
        {
          "output_type": "display_data",
          "data": {
            "text/plain": [
              "<Figure size 432x360 with 1 Axes>"
            ],
            "image/png": "[encoded data removed]"
          },
          "metadata": {}
        }
      ]
    },
    {
      "cell_type": "markdown",
      "source": [
        "<i>Observation</i>:<br>\n",
        "- Whites, Blacks, and Hispanics are the three highest race deathrates in this dataset. The population in the US is more than 317 million people (the population density - 29 people per 1 km2). According to the ethnic composition of the US population is represented by: white (63%); Hispanics (16.7%); African Americans (12.3%); Asians (4.8%); other nationalities (3.2%). The above simple analysis could suggest discrimination, so we should use proportion to get unbiased result.\n",
        "- In order to get unbiased result, I'll take information from Statista that will give me the population of each race in the United States for the year 2016. The link will be inserted below: https://www.statista.com/statistics/183489/population-of-the-us-by-ethnicity-since-2000/"
      ],
      "metadata": {
        "id": "0dptdTDxkFKX"
      },
      "id": "0dptdTDxkFKX"
    },
    {
      "cell_type": "markdown",
      "source": [
        "Since the racial composition of the United States is not equal, we will  need to work with proportions. <br> The following numbers are taken from the above website\n",
        "\n",
        "    White : 248,410,000\n",
        "    Black : 42,970,000\n",
        "    Hispanic : 60,570,000\n",
        "    Asian : 18,280,000\n",
        "    Native American : 4,050,000"
      ],
      "metadata": {
        "id": "QOdQvbjgJWUg"
      },
      "id": "QOdQvbjgJWUg"
    },
    {
      "cell_type": "code",
      "source": [
        "demographics = [248410000, 42970000, 60570000, 18280000, 846000, 4050000]\n",
        "population = pd.Series(demographics, index = ['White', 'Black', 'Hispanic', 'Asian', 'Other', 'Native'])\n",
        "race_death = data.race.value_counts()"
      ],
      "metadata": {
        "id": "2kVkIAUq5vrR"
      },
      "id": "2kVkIAUq5vrR",
      "execution_count": 31,
      "outputs": []
    },
    {
      "cell_type": "code",
      "source": [
        "proportion = pd.DataFrame(data = { race: [race_death[race]/population[race]] for race in population.index})\n",
        "proportion"
      ],
      "metadata": {
        "colab": {
          "base_uri": "https://localhost:8080/",
          "height": 81
        },
        "id": "rK4nmxhDO4Yj",
        "outputId": "176ef00f-7ea4-4624-d3de-dc4c534e2a04"
      },
      "id": "rK4nmxhDO4Yj",
      "execution_count": 32,
      "outputs": [
        {
          "output_type": "execute_result",
          "data": {
            "text/plain": [
              "      White     Black  Hispanic     Asian     Other    Native\n",
              "0  0.000004  0.000012  0.000006  0.000002  0.000033  0.000006"
            ],
            "text/html": [
              "\n",
              "  <div id=\"df-e65e7753-5fdc-4a22-9b1d-4327fb10ba64\">\n",
              "    <div class=\"colab-df-container\">\n",
              "      <div>\n",
              "<style scoped>\n",
              "    .dataframe tbody tr th:only-of-type {\n",
              "        vertical-align: middle;\n",
              "    }\n",
              "\n",
              "    .dataframe tbody tr th {\n",
              "        vertical-align: top;\n",
              "    }\n",
              "\n",
              "    .dataframe thead th {\n",
              "        text-align: right;\n",
              "    }\n",
              "</style>\n",
              "<table border=\"1\" class=\"dataframe\">\n",
              "  <thead>\n",
              "    <tr style=\"text-align: right;\">\n",
              "      <th></th>\n",
              "      <th>White</th>\n",
              "      <th>Black</th>\n",
              "      <th>Hispanic</th>\n",
              "      <th>Asian</th>\n",
              "      <th>Other</th>\n",
              "      <th>Native</th>\n",
              "    </tr>\n",
              "  </thead>\n",
              "  <tbody>\n",
              "    <tr>\n",
              "      <th>0</th>\n",
              "      <td>0.000004</td>\n",
              "      <td>0.000012</td>\n",
              "      <td>0.000006</td>\n",
              "      <td>0.000002</td>\n",
              "      <td>0.000033</td>\n",
              "      <td>0.000006</td>\n",
              "    </tr>\n",
              "  </tbody>\n",
              "</table>\n",
              "</div>\n",
              "      <button class=\"colab-df-convert\" onclick=\"convertToInteractive('df-e65e7753-5fdc-4a22-9b1d-4327fb10ba64')\"\n",
              "              title=\"Convert this dataframe to an interactive table.\"\n",
              "              style=\"display:none;\">\n",
              "        \n",
              "  <svg xmlns=\"http://www.w3.org/2000/svg\" height=\"24px\"viewBox=\"0 0 24 24\"\n",
              "       width=\"24px\">\n",
              "    <path d=\"M0 0h24v24H0V0z\" fill=\"none\"/>\n",
              "    <path d=\"M18.56 5.44l.94 2.06.94-2.06 2.06-.94-2.06-.94-.94-2.06-.94 2.06-2.06.94zm-11 1L8.5 8.5l.94-2.06 2.06-.94-2.06-.94L8.5 2.5l-.94 2.06-2.06.94zm10 10l.94 2.06.94-2.06 2.06-.94-2.06-.94-.94-2.06-.94 2.06-2.06.94z\"/><path d=\"M17.41 7.96l-1.37-1.37c-.4-.4-.92-.59-1.43-.59-.52 0-1.04.2-1.43.59L10.3 9.45l-7.72 7.72c-.78.78-.78 2.05 0 2.83L4 21.41c.39.39.9.59 1.41.59.51 0 1.02-.2 1.41-.59l7.78-7.78 2.81-2.81c.8-.78.8-2.07 0-2.86zM5.41 20L4 18.59l7.72-7.72 1.47 1.35L5.41 20z\"/>\n",
              "  </svg>\n",
              "      </button>\n",
              "      \n",
              "  <style>\n",
              "    .colab-df-container {\n",
              "      display:flex;\n",
              "      flex-wrap:wrap;\n",
              "      gap: 12px;\n",
              "    }\n",
              "\n",
              "    .colab-df-convert {\n",
              "      background-color: #E8F0FE;\n",
              "      border: none;\n",
              "      border-radius: 50%;\n",
              "      cursor: pointer;\n",
              "      display: none;\n",
              "      fill: #1967D2;\n",
              "      height: 32px;\n",
              "      padding: 0 0 0 0;\n",
              "      width: 32px;\n",
              "    }\n",
              "\n",
              "    .colab-df-convert:hover {\n",
              "      background-color: #E2EBFA;\n",
              "      box-shadow: 0px 1px 2px rgba(60, 64, 67, 0.3), 0px 1px 3px 1px rgba(60, 64, 67, 0.15);\n",
              "      fill: #174EA6;\n",
              "    }\n",
              "\n",
              "    [theme=dark] .colab-df-convert {\n",
              "      background-color: #3B4455;\n",
              "      fill: #D2E3FC;\n",
              "    }\n",
              "\n",
              "    [theme=dark] .colab-df-convert:hover {\n",
              "      background-color: #434B5C;\n",
              "      box-shadow: 0px 1px 3px 1px rgba(0, 0, 0, 0.15);\n",
              "      filter: drop-shadow(0px 1px 2px rgba(0, 0, 0, 0.3));\n",
              "      fill: #FFFFFF;\n",
              "    }\n",
              "  </style>\n",
              "\n",
              "      <script>\n",
              "        const buttonEl =\n",
              "          document.querySelector('#df-e65e7753-5fdc-4a22-9b1d-4327fb10ba64 button.colab-df-convert');\n",
              "        buttonEl.style.display =\n",
              "          google.colab.kernel.accessAllowed ? 'block' : 'none';\n",
              "\n",
              "        async function convertToInteractive(key) {\n",
              "          const element = document.querySelector('#df-e65e7753-5fdc-4a22-9b1d-4327fb10ba64');\n",
              "          const dataTable =\n",
              "            await google.colab.kernel.invokeFunction('convertToInteractive',\n",
              "                                                     [key], {});\n",
              "          if (!dataTable) return;\n",
              "\n",
              "          const docLinkHtml = 'Like what you see? Visit the ' +\n",
              "            '<a target=\"_blank\" href=https://colab.research.google.com/notebooks/data_table.ipynb>data table notebook</a>'\n",
              "            + ' to learn more about interactive tables.';\n",
              "          element.innerHTML = '';\n",
              "          dataTable['output_type'] = 'display_data';\n",
              "          await google.colab.output.renderOutput(dataTable, element);\n",
              "          const docLink = document.createElement('div');\n",
              "          docLink.innerHTML = docLinkHtml;\n",
              "          element.appendChild(docLink);\n",
              "        }\n",
              "      </script>\n",
              "    </div>\n",
              "  </div>\n",
              "  "
            ]
          },
          "metadata": {},
          "execution_count": 32
        }
      ]
    },
    {
      "cell_type": "code",
      "source": [
        "s = pd.Series({ race: race_death[race]/population[race] for race in population.index}, name = 'race_killing_rate')\n",
        "s.plot()\n",
        "plt.show()"
      ],
      "metadata": {
        "colab": {
          "base_uri": "https://localhost:8080/",
          "height": 279
        },
        "id": "FlDMuG3FRn2w",
        "outputId": "699cdbd6-8f7f-4d4b-fbca-9906ebb83769"
      },
      "id": "FlDMuG3FRn2w",
      "execution_count": 33,
      "outputs": [
        {
          "output_type": "display_data",
          "data": {
            "text/plain": [
              "<Figure size 432x288 with 1 Axes>"
            ],
            "image/png": "[encoded data removed]"
          },
          "metadata": {}
        }
      ]
    },
    {
      "cell_type": "markdown",
      "source": [
        "<i>Observation</i><br>\n",
        "- The rate at which the Black population is being killed is 3 times higher than the White population, and 2 times higher than Native and Hispanic population. Asia population has the lowest rate of killings."
      ],
      "metadata": {
        "id": "xbQsef7_QokE"
      },
      "id": "xbQsef7_QokE"
    },
    {
      "cell_type": "markdown",
      "source": [
        "### 3.5 Unarmed Killings By Race"
      ],
      "metadata": {
        "id": "D_Jr4upBwqO3"
      },
      "id": "D_Jr4upBwqO3"
    },
    {
      "cell_type": "code",
      "source": [
        "# Grouping the data by race and if they were armed or not\n",
        "df_armed = data\n",
        "df_armed[\"armed\"] = data[\"armed\"] != \"unarmed\"\n",
        "\n",
        "race_armed = df_armed.groupby([\"race\", \"armed\"], as_index=False).index.count()\n",
        "race_armed.sort_values(by=[\"armed\", \"index\"], ascending=[False, False], inplace=True)\n",
        "race_armed = race_armed.rename(columns={\"index\": \"count\"})\n",
        "race_armed"
      ],
      "metadata": {
        "colab": {
          "base_uri": "https://localhost:8080/",
          "height": 458
        },
        "id": "0oy38SkXwtkv",
        "outputId": "5f7bc943-4c96-45c5-96bf-375e60375a3e"
      },
      "id": "0oy38SkXwtkv",
      "execution_count": 34,
      "outputs": [
        {
          "output_type": "execute_result",
          "data": {
            "text/plain": [
              "        race  armed  count\n",
              "10     White   True    962\n",
              "2      Black   True    467\n",
              "4   Hispanic   True    326\n",
              "0      Asian   True     32\n",
              "6     Native   True     24\n",
              "8      Other   True     24\n",
              "9      White  False     60\n",
              "1      Black  False     56\n",
              "3   Hispanic  False     29\n",
              "7      Other  False      4\n",
              "5     Native  False      2"
            ],
            "text/html": [
              "\n",
              "  <div id=\"df-4fa41dc0-8500-4f6f-8442-00125db084b1\">\n",
              "    <div class=\"colab-df-container\">\n",
              "      <div>\n",
              "<style scoped>\n",
              "    .dataframe tbody tr th:only-of-type {\n",
              "        vertical-align: middle;\n",
              "    }\n",
              "\n",
              "    .dataframe tbody tr th {\n",
              "        vertical-align: top;\n",
              "    }\n",
              "\n",
              "    .dataframe thead th {\n",
              "        text-align: right;\n",
              "    }\n",
              "</style>\n",
              "<table border=\"1\" class=\"dataframe\">\n",
              "  <thead>\n",
              "    <tr style=\"text-align: right;\">\n",
              "      <th></th>\n",
              "      <th>race</th>\n",
              "      <th>armed</th>\n",
              "      <th>count</th>\n",
              "    </tr>\n",
              "  </thead>\n",
              "  <tbody>\n",
              "    <tr>\n",
              "      <th>10</th>\n",
              "      <td>White</td>\n",
              "      <td>True</td>\n",
              "      <td>962</td>\n",
              "    </tr>\n",
              "    <tr>\n",
              "      <th>2</th>\n",
              "      <td>Black</td>\n",
              "      <td>True</td>\n",
              "      <td>467</td>\n",
              "    </tr>\n",
              "    <tr>\n",
              "      <th>4</th>\n",
              "      <td>Hispanic</td>\n",
              "      <td>True</td>\n",
              "      <td>326</td>\n",
              "    </tr>\n",
              "    <tr>\n",
              "      <th>0</th>\n",
              "      <td>Asian</td>\n",
              "      <td>True</td>\n",
              "      <td>32</td>\n",
              "    </tr>\n",
              "    <tr>\n",
              "      <th>6</th>\n",
              "      <td>Native</td>\n",
              "      <td>True</td>\n",
              "      <td>24</td>\n",
              "    </tr>\n",
              "    <tr>\n",
              "      <th>8</th>\n",
              "      <td>Other</td>\n",
              "      <td>True</td>\n",
              "      <td>24</td>\n",
              "    </tr>\n",
              "    <tr>\n",
              "      <th>9</th>\n",
              "      <td>White</td>\n",
              "      <td>False</td>\n",
              "      <td>60</td>\n",
              "    </tr>\n",
              "    <tr>\n",
              "      <th>1</th>\n",
              "      <td>Black</td>\n",
              "      <td>False</td>\n",
              "      <td>56</td>\n",
              "    </tr>\n",
              "    <tr>\n",
              "      <th>3</th>\n",
              "      <td>Hispanic</td>\n",
              "      <td>False</td>\n",
              "      <td>29</td>\n",
              "    </tr>\n",
              "    <tr>\n",
              "      <th>7</th>\n",
              "      <td>Other</td>\n",
              "      <td>False</td>\n",
              "      <td>4</td>\n",
              "    </tr>\n",
              "    <tr>\n",
              "      <th>5</th>\n",
              "      <td>Native</td>\n",
              "      <td>False</td>\n",
              "      <td>2</td>\n",
              "    </tr>\n",
              "  </tbody>\n",
              "</table>\n",
              "</div>\n",
              "      <button class=\"colab-df-convert\" onclick=\"convertToInteractive('df-4fa41dc0-8500-4f6f-8442-00125db084b1')\"\n",
              "              title=\"Convert this dataframe to an interactive table.\"\n",
              "              style=\"display:none;\">\n",
              "        \n",
              "  <svg xmlns=\"http://www.w3.org/2000/svg\" height=\"24px\"viewBox=\"0 0 24 24\"\n",
              "       width=\"24px\">\n",
              "    <path d=\"M0 0h24v24H0V0z\" fill=\"none\"/>\n",
              "    <path d=\"M18.56 5.44l.94 2.06.94-2.06 2.06-.94-2.06-.94-.94-2.06-.94 2.06-2.06.94zm-11 1L8.5 8.5l.94-2.06 2.06-.94-2.06-.94L8.5 2.5l-.94 2.06-2.06.94zm10 10l.94 2.06.94-2.06 2.06-.94-2.06-.94-.94-2.06-.94 2.06-2.06.94z\"/><path d=\"M17.41 7.96l-1.37-1.37c-.4-.4-.92-.59-1.43-.59-.52 0-1.04.2-1.43.59L10.3 9.45l-7.72 7.72c-.78.78-.78 2.05 0 2.83L4 21.41c.39.39.9.59 1.41.59.51 0 1.02-.2 1.41-.59l7.78-7.78 2.81-2.81c.8-.78.8-2.07 0-2.86zM5.41 20L4 18.59l7.72-7.72 1.47 1.35L5.41 20z\"/>\n",
              "  </svg>\n",
              "      </button>\n",
              "      \n",
              "  <style>\n",
              "    .colab-df-container {\n",
              "      display:flex;\n",
              "      flex-wrap:wrap;\n",
              "      gap: 12px;\n",
              "    }\n",
              "\n",
              "    .colab-df-convert {\n",
              "      background-color: #E8F0FE;\n",
              "      border: none;\n",
              "      border-radius: 50%;\n",
              "      cursor: pointer;\n",
              "      display: none;\n",
              "      fill: #1967D2;\n",
              "      height: 32px;\n",
              "      padding: 0 0 0 0;\n",
              "      width: 32px;\n",
              "    }\n",
              "\n",
              "    .colab-df-convert:hover {\n",
              "      background-color: #E2EBFA;\n",
              "      box-shadow: 0px 1px 2px rgba(60, 64, 67, 0.3), 0px 1px 3px 1px rgba(60, 64, 67, 0.15);\n",
              "      fill: #174EA6;\n",
              "    }\n",
              "\n",
              "    [theme=dark] .colab-df-convert {\n",
              "      background-color: #3B4455;\n",
              "      fill: #D2E3FC;\n",
              "    }\n",
              "\n",
              "    [theme=dark] .colab-df-convert:hover {\n",
              "      background-color: #434B5C;\n",
              "      box-shadow: 0px 1px 3px 1px rgba(0, 0, 0, 0.15);\n",
              "      filter: drop-shadow(0px 1px 2px rgba(0, 0, 0, 0.3));\n",
              "      fill: #FFFFFF;\n",
              "    }\n",
              "  </style>\n",
              "\n",
              "      <script>\n",
              "        const buttonEl =\n",
              "          document.querySelector('#df-4fa41dc0-8500-4f6f-8442-00125db084b1 button.colab-df-convert');\n",
              "        buttonEl.style.display =\n",
              "          google.colab.kernel.accessAllowed ? 'block' : 'none';\n",
              "\n",
              "        async function convertToInteractive(key) {\n",
              "          const element = document.querySelector('#df-4fa41dc0-8500-4f6f-8442-00125db084b1');\n",
              "          const dataTable =\n",
              "            await google.colab.kernel.invokeFunction('convertToInteractive',\n",
              "                                                     [key], {});\n",
              "          if (!dataTable) return;\n",
              "\n",
              "          const docLinkHtml = 'Like what you see? Visit the ' +\n",
              "            '<a target=\"_blank\" href=https://colab.research.google.com/notebooks/data_table.ipynb>data table notebook</a>'\n",
              "            + ' to learn more about interactive tables.';\n",
              "          element.innerHTML = '';\n",
              "          dataTable['output_type'] = 'display_data';\n",
              "          await google.colab.output.renderOutput(dataTable, element);\n",
              "          const docLink = document.createElement('div');\n",
              "          docLink.innerHTML = docLinkHtml;\n",
              "          element.appendChild(docLink);\n",
              "        }\n",
              "      </script>\n",
              "    </div>\n",
              "  </div>\n",
              "  "
            ]
          },
          "metadata": {},
          "execution_count": 34
        }
      ]
    },
    {
      "cell_type": "code",
      "source": [
        "# Calculating the proportion of armed and unarmed police shootings\n",
        "armed_race_proportion = (\n",
        "    race_armed.pivot(\"race\", \"armed\", \"count\")\n",
        "    .apply(lambda x: x / x.sum(), axis=1)\n",
        "    .sort_values(by=True)\n",
        "    .dropna()\n",
        ")\n",
        "armed_race_proportion"
      ],
      "metadata": {
        "colab": {
          "base_uri": "https://localhost:8080/",
          "height": 302
        },
        "id": "QTl_pPYMJgQw",
        "outputId": "6f291d26-62c4-4c16-a8dc-e94656e06959"
      },
      "id": "QTl_pPYMJgQw",
      "execution_count": 35,
      "outputs": [
        {
          "output_type": "execute_result",
          "data": {
            "text/plain": [
              "armed        False      True\n",
              "race                        \n",
              "Other     0.142857  0.857143\n",
              "Black     0.107075  0.892925\n",
              "Hispanic  0.081690  0.918310\n",
              "Native    0.076923  0.923077\n",
              "White     0.058708  0.941292"
            ],
            "text/html": [
              "\n",
              "  <div id=\"df-0eb890cb-4386-48b9-b8d7-4e0e06e16562\">\n",
              "    <div class=\"colab-df-container\">\n",
              "      <div>\n",
              "<style scoped>\n",
              "    .dataframe tbody tr th:only-of-type {\n",
              "        vertical-align: middle;\n",
              "    }\n",
              "\n",
              "    .dataframe tbody tr th {\n",
              "        vertical-align: top;\n",
              "    }\n",
              "\n",
              "    .dataframe thead th {\n",
              "        text-align: right;\n",
              "    }\n",
              "</style>\n",
              "<table border=\"1\" class=\"dataframe\">\n",
              "  <thead>\n",
              "    <tr style=\"text-align: right;\">\n",
              "      <th>armed</th>\n",
              "      <th>False</th>\n",
              "      <th>True</th>\n",
              "    </tr>\n",
              "    <tr>\n",
              "      <th>race</th>\n",
              "      <th></th>\n",
              "      <th></th>\n",
              "    </tr>\n",
              "  </thead>\n",
              "  <tbody>\n",
              "    <tr>\n",
              "      <th>Other</th>\n",
              "      <td>0.142857</td>\n",
              "      <td>0.857143</td>\n",
              "    </tr>\n",
              "    <tr>\n",
              "      <th>Black</th>\n",
              "      <td>0.107075</td>\n",
              "      <td>0.892925</td>\n",
              "    </tr>\n",
              "    <tr>\n",
              "      <th>Hispanic</th>\n",
              "      <td>0.081690</td>\n",
              "      <td>0.918310</td>\n",
              "    </tr>\n",
              "    <tr>\n",
              "      <th>Native</th>\n",
              "      <td>0.076923</td>\n",
              "      <td>0.923077</td>\n",
              "    </tr>\n",
              "    <tr>\n",
              "      <th>White</th>\n",
              "      <td>0.058708</td>\n",
              "      <td>0.941292</td>\n",
              "    </tr>\n",
              "  </tbody>\n",
              "</table>\n",
              "</div>\n",
              "      <button class=\"colab-df-convert\" onclick=\"convertToInteractive('df-0eb890cb-4386-48b9-b8d7-4e0e06e16562')\"\n",
              "              title=\"Convert this dataframe to an interactive table.\"\n",
              "              style=\"display:none;\">\n",
              "        \n",
              "  <svg xmlns=\"http://www.w3.org/2000/svg\" height=\"24px\"viewBox=\"0 0 24 24\"\n",
              "       width=\"24px\">\n",
              "    <path d=\"M0 0h24v24H0V0z\" fill=\"none\"/>\n",
              "    <path d=\"M18.56 5.44l.94 2.06.94-2.06 2.06-.94-2.06-.94-.94-2.06-.94 2.06-2.06.94zm-11 1L8.5 8.5l.94-2.06 2.06-.94-2.06-.94L8.5 2.5l-.94 2.06-2.06.94zm10 10l.94 2.06.94-2.06 2.06-.94-2.06-.94-.94-2.06-.94 2.06-2.06.94z\"/><path d=\"M17.41 7.96l-1.37-1.37c-.4-.4-.92-.59-1.43-.59-.52 0-1.04.2-1.43.59L10.3 9.45l-7.72 7.72c-.78.78-.78 2.05 0 2.83L4 21.41c.39.39.9.59 1.41.59.51 0 1.02-.2 1.41-.59l7.78-7.78 2.81-2.81c.8-.78.8-2.07 0-2.86zM5.41 20L4 18.59l7.72-7.72 1.47 1.35L5.41 20z\"/>\n",
              "  </svg>\n",
              "      </button>\n",
              "      \n",
              "  <style>\n",
              "    .colab-df-container {\n",
              "      display:flex;\n",
              "      flex-wrap:wrap;\n",
              "      gap: 12px;\n",
              "    }\n",
              "\n",
              "    .colab-df-convert {\n",
              "      background-color: #E8F0FE;\n",
              "      border: none;\n",
              "      border-radius: 50%;\n",
              "      cursor: pointer;\n",
              "      display: none;\n",
              "      fill: #1967D2;\n",
              "      height: 32px;\n",
              "      padding: 0 0 0 0;\n",
              "      width: 32px;\n",
              "    }\n",
              "\n",
              "    .colab-df-convert:hover {\n",
              "      background-color: #E2EBFA;\n",
              "      box-shadow: 0px 1px 2px rgba(60, 64, 67, 0.3), 0px 1px 3px 1px rgba(60, 64, 67, 0.15);\n",
              "      fill: #174EA6;\n",
              "    }\n",
              "\n",
              "    [theme=dark] .colab-df-convert {\n",
              "      background-color: #3B4455;\n",
              "      fill: #D2E3FC;\n",
              "    }\n",
              "\n",
              "    [theme=dark] .colab-df-convert:hover {\n",
              "      background-color: #434B5C;\n",
              "      box-shadow: 0px 1px 3px 1px rgba(0, 0, 0, 0.15);\n",
              "      filter: drop-shadow(0px 1px 2px rgba(0, 0, 0, 0.3));\n",
              "      fill: #FFFFFF;\n",
              "    }\n",
              "  </style>\n",
              "\n",
              "      <script>\n",
              "        const buttonEl =\n",
              "          document.querySelector('#df-0eb890cb-4386-48b9-b8d7-4e0e06e16562 button.colab-df-convert');\n",
              "        buttonEl.style.display =\n",
              "          google.colab.kernel.accessAllowed ? 'block' : 'none';\n",
              "\n",
              "        async function convertToInteractive(key) {\n",
              "          const element = document.querySelector('#df-0eb890cb-4386-48b9-b8d7-4e0e06e16562');\n",
              "          const dataTable =\n",
              "            await google.colab.kernel.invokeFunction('convertToInteractive',\n",
              "                                                     [key], {});\n",
              "          if (!dataTable) return;\n",
              "\n",
              "          const docLinkHtml = 'Like what you see? Visit the ' +\n",
              "            '<a target=\"_blank\" href=https://colab.research.google.com/notebooks/data_table.ipynb>data table notebook</a>'\n",
              "            + ' to learn more about interactive tables.';\n",
              "          element.innerHTML = '';\n",
              "          dataTable['output_type'] = 'display_data';\n",
              "          await google.colab.output.renderOutput(dataTable, element);\n",
              "          const docLink = document.createElement('div');\n",
              "          docLink.innerHTML = docLinkHtml;\n",
              "          element.appendChild(docLink);\n",
              "        }\n",
              "      </script>\n",
              "    </div>\n",
              "  </div>\n",
              "  "
            ]
          },
          "metadata": {},
          "execution_count": 35
        }
      ]
    },
    {
      "cell_type": "markdown",
      "source": [
        "<i>Observation:</i> <br>\n",
        "- The biggest proportion of armed victims are white, but let us plot the results, to have a better understanding of the scale"
      ],
      "metadata": {
        "id": "x_grjMaiKBVz"
      },
      "id": "x_grjMaiKBVz"
    },
    {
      "cell_type": "code",
      "source": [
        "# Plotting the results\n",
        "fig, ax = plt.subplots(figsize=(10, 7))\n",
        "armed_race_proportion[False].plot(kind=\"barh\", stacked=True, ax=ax) \\\n",
        ".legend(loc=\"center left\", bbox_to_anchor=(1.25, 0.5), ncol=1, title=\"Armed\")\n",
        "\n",
        "plt.xticks(np.arange(0, np.max(armed_race_proportion[False]) + 0.01, 0.01))\n",
        "\n",
        "for i in ax.patches:\n",
        "    ax.text(\n",
        "        i.get_width() + 0.005,\n",
        "        i.get_y() + 0.25,\n",
        "        str(round((i.get_width() * 100), 2)) + \"%\",\n",
        "        fontsize=11,\n",
        "    )\n",
        "    \n",
        "ax.invert_yaxis()\n",
        "plt.title(\"Pencentage of unarmed shot by police\")\n",
        "plt.show()"
      ],
      "metadata": {
        "colab": {
          "base_uri": "https://localhost:8080/",
          "height": 54
        },
        "id": "PcmmIypiKCSt",
        "outputId": "4f4de6a7-2c8f-4ecb-e927-2ee347156ed4"
      },
      "id": "PcmmIypiKCSt",
      "execution_count": 36,
      "outputs": [
        {
          "output_type": "display_data",
          "data": {
            "text/plain": [
              "<Figure size 720x504 with 1 Axes>"
            ],
            "image/png": "[encoded data removed]"
          },
          "metadata": {}
        }
      ]
    },
    {
      "cell_type": "markdown",
      "source": [
        "<i>Observation:</i> <br>\n",
        "- The graph shows that only about 6% of white people were shot unarmed, while the rate for black people is almost double at about 11%. "
      ],
      "metadata": {
        "id": "zEUzzefnK128"
      },
      "id": "zEUzzefnK128"
    },
    {
      "cell_type": "markdown",
      "source": [
        "### 3.6 Gender and Death"
      ],
      "metadata": {
        "id": "LhBQDmv7YKC8"
      },
      "id": "LhBQDmv7YKC8"
    },
    {
      "cell_type": "markdown",
      "source": [
        "#### 3.6.1 Percentage of Men and Women killed fatally by police "
      ],
      "metadata": {
        "id": "GTZt14AT0noN"
      },
      "id": "GTZt14AT0noN"
    },
    {
      "cell_type": "code",
      "source": [
        "male_victim = data[data['gender']=='M'].shape[0]\n",
        "female_victim = data[data['gender']=='F'].shape[0]\n",
        "print(f'Number of Male Victim :  {male_victim}')\n",
        "print(f'Number of Female Victim: {female_victim}')"
      ],
      "metadata": {
        "colab": {
          "base_uri": "https://localhost:8080/"
        },
        "id": "RT65-5Qi2u-c",
        "outputId": "6321e3f1-de32-4e22-a346-464408f374d3"
      },
      "id": "RT65-5Qi2u-c",
      "execution_count": 37,
      "outputs": [
        {
          "output_type": "stream",
          "name": "stdout",
          "text": [
            "Number of Male Victim :  1902\n",
            "Number of Female Victim: 84\n"
          ]
        }
      ]
    },
    {
      "cell_type": "code",
      "source": [
        "#relationship between death and gender\n",
        "explode = (0.1, 0)\n",
        "fig = plt.figure(figsize = (10,5))\n",
        "palette_color = ['steelblue', 'pink'] \n",
        "plt.pie([male_victim, female_victim], explode = explode, labels=[\"Male\", \"Female\"], colors = palette_color, autopct='%.0f%%')\n",
        "plt.show()"
      ],
      "metadata": {
        "colab": {
          "base_uri": "https://localhost:8080/",
          "height": 303
        },
        "id": "JMGzmko1YJWz",
        "outputId": "32529f1f-1f75-4142-9cbc-bc56b285d957"
      },
      "id": "JMGzmko1YJWz",
      "execution_count": 38,
      "outputs": [
        {
          "output_type": "display_data",
          "data": {
            "text/plain": [
              "<Figure size 720x360 with 1 Axes>"
            ],
            "image/png": "[encoded data removed]"
          },
          "metadata": {}
        }
      ]
    },
    {
      "cell_type": "markdown",
      "source": [
        "<i>Observation:</i> <br>\n",
        "- The analysis shows that out of 1902 peoples that were killed fatally by police between in span of 2 year 95.8% of them were males compared to 4.2% of females.\n"
      ],
      "metadata": {
        "id": "9lstPXUDapTH"
      },
      "id": "9lstPXUDapTH"
    },
    {
      "cell_type": "markdown",
      "source": [
        "#### 3.6.2 Gender and Threat Level"
      ],
      "metadata": {
        "id": "4RIV3C-2Af1O"
      },
      "id": "4RIV3C-2Af1O"
    },
    {
      "cell_type": "code",
      "source": [
        "fig = plt.figure(figsize=(8,5))\n",
        "sb.countplot(x='gender', data=data, hue='threat_level')\n",
        "plt.show()"
      ],
      "metadata": {
        "colab": {
          "base_uri": "https://localhost:8080/",
          "height": 339
        },
        "id": "qJs1oGAoAXmA",
        "outputId": "dc6a390d-cbcc-40e0-95b5-87f774b847a5"
      },
      "id": "qJs1oGAoAXmA",
      "execution_count": 39,
      "outputs": [
        {
          "output_type": "display_data",
          "data": {
            "text/plain": [
              "<Figure size 576x360 with 1 Axes>"
            ],
            "image/png": "[encoded data removed]"
          },
          "metadata": {}
        }
      ]
    },
    {
      "cell_type": "markdown",
      "source": [
        "### 3.7 Fleeing and Killings "
      ],
      "metadata": {
        "id": "TBr3MfclAu1k"
      },
      "id": "TBr3MfclAu1k"
    },
    {
      "cell_type": "markdown",
      "source": [
        "#### 3.7.1 Percentage of methods used to victims to flee out of the scene"
      ],
      "metadata": {
        "id": "iVAleLt95mtX"
      },
      "id": "iVAleLt95mtX"
    },
    {
      "cell_type": "code",
      "source": [
        "# relationship between types of fleeing and death\n",
        "ylabel = 'Count'\n",
        "xlabel = 'Fleeing'\n",
        "title = 'Counts of death'\n",
        "makePlot('seaborn', data, 'flee',title, ylabel, xlabel)"
      ],
      "metadata": {
        "colab": {
          "base_uri": "https://localhost:8080/",
          "height": 355
        },
        "id": "JgXC6DYb6AHj",
        "outputId": "bb9e2ee3-e9c1-4c5d-a03c-9fb7c0b9bbae"
      },
      "id": "JgXC6DYb6AHj",
      "execution_count": 40,
      "outputs": [
        {
          "output_type": "display_data",
          "data": {
            "text/plain": [
              "<Figure size 432x360 with 1 Axes>"
            ],
            "image/png": "[encoded data removed]"
          },
          "metadata": {}
        }
      ]
    },
    {
      "cell_type": "markdown",
      "source": [
        "<i>Observation:<i><br>\n",
        "- From above we can see that there are four different classifications in the 'flee' category. These are Not fleeing, Car, Foot, and Other.\n",
        "- We can see that the Not fleeing classification occurred 1358 times which makes up for 68% of the dataset.\n",
        "- Only 17% of people tried to flee by car and 13% tried to flee by foot"
      ],
      "metadata": {
        "id": "xPuHNvVj6yYY"
      },
      "id": "xPuHNvVj6yYY"
    },
    {
      "cell_type": "markdown",
      "source": [
        "### 3.8 Threat Level and Police Shootings"
      ],
      "metadata": {
        "id": "UjEHUSgkCC7K"
      },
      "id": "UjEHUSgkCC7K"
    },
    {
      "cell_type": "markdown",
      "source": [
        "#### 3.8.1 Percentage of Threat levels"
      ],
      "metadata": {
        "id": "36HM3xClsPj6"
      },
      "id": "36HM3xClsPj6"
    },
    {
      "cell_type": "code",
      "source": [
        "#relationship between certification and course counts\n",
        "ylabel = 'Count'\n",
        "xlabel = 'Types of Threat Level'\n",
        "title = 'Counts of Threat Level'\n",
        "makePlot('seaborn', data, 'threat_level',title, ylabel, xlabel)"
      ],
      "metadata": {
        "colab": {
          "base_uri": "https://localhost:8080/",
          "height": 355
        },
        "id": "S_BouQ1gur8r",
        "outputId": "9efc8f77-6876-43f7-bda9-b0f8be17e875"
      },
      "id": "S_BouQ1gur8r",
      "execution_count": 41,
      "outputs": [
        {
          "output_type": "display_data",
          "data": {
            "text/plain": [
              "<Figure size 432x360 with 1 Axes>"
            ],
            "image/png": "[encoded data removed]"
          },
          "metadata": {}
        }
      ]
    },
    {
      "cell_type": "markdown",
      "source": [
        "<i>Observation:</i> <br> \n",
        "- Approximately 65% were labeled 'attack,' 29% 'other', 5% 'undetermined'"
      ],
      "metadata": {
        "id": "2WdilrfwvTgA"
      },
      "id": "2WdilrfwvTgA"
    },
    {
      "cell_type": "markdown",
      "source": [
        "#### 3.8.2 Threat Level and Races"
      ],
      "metadata": {
        "id": "Ls3xfw5hsa4b"
      },
      "id": "Ls3xfw5hsa4b"
    },
    {
      "cell_type": "code",
      "source": [
        "fig = plt.figure(figsize=(10,6))\n",
        "sb.countplot(x='race', data=data, hue='threat_level')\n",
        "plt.show()"
      ],
      "metadata": {
        "colab": {
          "base_uri": "https://localhost:8080/",
          "height": 394
        },
        "id": "ovnTqd3uCGqW",
        "outputId": "6eaefa17-2bfb-4694-dfd9-c9da6ac3a3d8"
      },
      "id": "ovnTqd3uCGqW",
      "execution_count": 42,
      "outputs": [
        {
          "output_type": "display_data",
          "data": {
            "text/plain": [
              "<Figure size 720x432 with 1 Axes>"
            ],
            "image/png": "[encoded data removed]"
          },
          "metadata": {}
        }
      ]
    },
    {
      "cell_type": "markdown",
      "source": [
        "#### 3.8.3 Threat Levels and Body Camera"
      ],
      "metadata": {
        "id": "mWpVjEQ4Cq4V"
      },
      "id": "mWpVjEQ4Cq4V"
    },
    {
      "cell_type": "code",
      "source": [
        "fig = plt.figure(figsize=(10,6))\n",
        "sb.countplot(x='body_camera', data=data, hue='threat_level')\n",
        "plt.show()"
      ],
      "metadata": {
        "colab": {
          "base_uri": "https://localhost:8080/",
          "height": 394
        },
        "id": "uG3CRLbACy-S",
        "outputId": "b3a325e6-04a0-4739-c1ad-cee6ce8902e1"
      },
      "id": "uG3CRLbACy-S",
      "execution_count": 43,
      "outputs": [
        {
          "output_type": "display_data",
          "data": {
            "text/plain": [
              "<Figure size 720x432 with 1 Axes>"
            ],
            "image/png": "[encoded data removed]"
          },
          "metadata": {}
        }
      ]
    },
    {
      "cell_type": "code",
      "source": [
        "#number of attacks when camera is present\n",
        "attack_camera_present = data[(data['body_camera']==True) & (data['threat_level']=='attack')].shape[0]\n",
        "total_camera_present = data[(data['body_camera']==True)].shape[0]\n",
        "\n",
        "attack_no_camera = data[(data['body_camera']==False) & (data['threat_level']=='attack')].shape[0]\n",
        "total_camera_absent = data[(data['body_camera']==False)].shape[0]\n",
        "\n",
        "print('Total Number of times when there was a camera:', total_camera_present)\n",
        "print('Number of attacks when there is a camera:', attack_camera_present)\n",
        "print('Percentage of attack when there is a camera:', round(attack_camera_present/total_camera_present, 4) * 100)\n",
        "print('Total number of times when there was no camera:', total_camera_absent)\n",
        "print('Number of attacks when there is no camera:', attack_no_camera)\n",
        "print('Percentage of attack when there is no camera:', round(attack_no_camera/total_camera_absent, 4) * 100)\n",
        "print('Attacks, Camera present vs not present:', round(attack_camera_present/(attack_camera_present+attack_no_camera),2)*100)"
      ],
      "metadata": {
        "colab": {
          "base_uri": "https://localhost:8080/"
        },
        "id": "xT8zsz96Dd_B",
        "outputId": "4ff203d5-cd77-4b49-a977-a1fc187a6919"
      },
      "id": "xT8zsz96Dd_B",
      "execution_count": 44,
      "outputs": [
        {
          "output_type": "stream",
          "name": "stdout",
          "text": [
            "Total Number of times when there was a camera: 221\n",
            "Number of attacks when there is a camera: 121\n",
            "Percentage of attack when there is a camera: 54.75\n",
            "Total number of times when there was no camera: 1765\n",
            "Number of attacks when there is no camera: 1179\n",
            "Percentage of attack when there is no camera: 66.8\n",
            "Attacks, Camera present vs not present: 9.0\n"
          ]
        }
      ]
    },
    {
      "cell_type": "markdown",
      "source": [
        "<i>Observation:</i> <br>\n",
        "- There seems to be a problem with body camera footage when there is an 'attack' level threat, or really when there is a killing in general.\n",
        "- However, the proportion of 'attack' threat levels that were not recorded make up 65% of deaths, while the proportion of recorded deaths that were labeled 'attack' threat level was closer to 60%. This could be a policy issue."
      ],
      "metadata": {
        "id": "dPQLj4lwH2lV"
      },
      "id": "dPQLj4lwH2lV"
    },
    {
      "cell_type": "markdown",
      "source": [
        "### 3.9 Comparision of shootings between states and cities"
      ],
      "metadata": {
        "id": "Jpy0t2R9-YK1"
      },
      "id": "Jpy0t2R9-YK1"
    },
    {
      "cell_type": "code",
      "source": [
        "#total number of states where fatal shootings happened\n",
        "data['state'].unique().size"
      ],
      "metadata": {
        "colab": {
          "base_uri": "https://localhost:8080/"
        },
        "id": "Kjpj60n4HH_z",
        "outputId": "b40a566f-75ad-4da1-da2c-b876447e54f8"
      },
      "id": "Kjpj60n4HH_z",
      "execution_count": 45,
      "outputs": [
        {
          "output_type": "execute_result",
          "data": {
            "text/plain": [
              "51"
            ]
          },
          "metadata": {},
          "execution_count": 45
        }
      ]
    },
    {
      "cell_type": "markdown",
      "source": [
        "<i>Observation:</i> <br> \n",
        "- Fatal shootings by police has happened in all 50 states of US and Washington DC. "
      ],
      "metadata": {
        "id": "LHC9JIhVHxHc"
      },
      "id": "LHC9JIhVHxHc"
    },
    {
      "cell_type": "code",
      "source": [
        "plt.figure(figsize=(18, 12))\n",
        "sb.countplot(y=\"state\", data=data,order=data.state.value_counts().index, color = base_color)\n",
        "plt.title('Police Killings By State')\n",
        "plt.show()"
      ],
      "metadata": {
        "colab": {
          "base_uri": "https://localhost:8080/",
          "height": 736
        },
        "id": "8hA4wl-T-Xno",
        "outputId": "07d78c33-e4be-4f17-8d4e-cefcef0134f1"
      },
      "id": "8hA4wl-T-Xno",
      "execution_count": 65,
      "outputs": [
        {
          "output_type": "display_data",
          "data": {
            "text/plain": [
              "<Figure size 1296x864 with 1 Axes>"
            ],
            "image/png": "[encoded data removed]"
          },
          "metadata": {}
        }
      ]
    },
    {
      "cell_type": "markdown",
      "source": [
        "<i>Observation:</i> <br>\n",
        "- California is the state with the Highest Number of Killings followed by Texas, Florida, Arizona, and so on\n",
        "We can see that California has by far the most fatal shootings by the police"
      ],
      "metadata": {
        "id": "tHeqXRDn-15w"
      },
      "id": "tHeqXRDn-15w"
    },
    {
      "cell_type": "markdown",
      "source": [
        "### States Population Size"
      ],
      "metadata": {
        "id": "9AXPA_pZSc5Y"
      },
      "id": "9AXPA_pZSc5Y"
    },
    {
      "cell_type": "code",
      "source": [
        "# https://www.census.gov/data/datasets/2017/demo/popest/state-total.html\n",
        "state_population ={\n",
        "        'AL': 4874747,\n",
        "        'AK': 739795,\n",
        "        'AZ': 7016270,\n",
        "        'AR': 3004279,\n",
        "        'CA': 39536653,\n",
        "        'CO': 5607154,\n",
        "        'CT': 3588184,\n",
        "        'DE': 961939,\n",
        "        'DC': 693972,\n",
        "        'FL': 20984400,\n",
        "        'GA': 10429379,\n",
        "        'HI': 1427538,\n",
        "        'ID': 1716943,\n",
        "        'IL': 12802023,\n",
        "        'IN': 6666818,\n",
        "        'IA': 3145711,\n",
        "        'KS': 2913123,\n",
        "        'KY': 4454189,\n",
        "        'LA': 4684333,\n",
        "        'ME': 1335907,\n",
        "        'MD': 6052177,\n",
        "        'MA': 6859819,\n",
        "        'MI': 9962311,\n",
        "        'MN': 5576606,\n",
        "        'MS': 2984100,\n",
        "        'MO': 6113532,\n",
        "        'MT': 1050493,\n",
        "        'NE': 1920076,\n",
        "        'NV': 2998039,\n",
        "        'NH': 1342795,\n",
        "        'NJ': 9005644,\n",
        "        'NM': 2088070,\n",
        "        'NY': 19849399,\n",
        "        'NC': 10273419,\n",
        "        'ND': 755393,\n",
        "        'OH': 11658609,\n",
        "        'OK': 3930864,\n",
        "        'OR': 4142776,\n",
        "        'PA': 12805537,\n",
        "        'RI': 1059639,\n",
        "        'SC': 5024369,\n",
        "        'SD': 869666,\n",
        "        'TN': 6715984,\n",
        "        'TX': 28304596,\n",
        "        'UT': 3101833,\n",
        "        'VT': 623657,\n",
        "        'VA': 8470020,\n",
        "        'WA': 7405743,\n",
        "        'WV': 1815857,\n",
        "        'WI': 5795483,\n",
        "        'WY': 579315\n",
        "      }"
      ],
      "metadata": {
        "id": "gT-MlTMgSgcT"
      },
      "id": "gT-MlTMgSgcT",
      "execution_count": 69,
      "outputs": []
    },
    {
      "cell_type": "markdown",
      "source": [
        "### Actual Police Killing vs Population Distribution by State"
      ],
      "metadata": {
        "id": "CEFUNW-YUQ30"
      },
      "id": "CEFUNW-YUQ30"
    },
    {
      "cell_type": "code",
      "source": [
        "state_population_s = pd.Series(state_population)\n",
        "death_by_state = data.state.value_counts()\n",
        "proportion_by_state  = pd.DataFrame(data = { state: [death_by_state[state]/state_population_s[state]] for state in state_population_s.index})\n",
        "proportion_by_state = proportion_by_state.transpose()\n",
        "proportion_by_state.reset_index(inplace=True)\n",
        "proportion_by_state.columns = ['state', 'rate_death']\n",
        "proportion_by_state"
      ],
      "metadata": {
        "id": "GyLjIuraTb-x"
      },
      "id": "GyLjIuraTb-x",
      "execution_count": 132,
      "outputs": []
    },
    {
      "cell_type": "code",
      "source": [
        "plt.figure(figsize=(18, 12))\n",
        "sb.barplot(\n",
        "           data=proportion_by_state, x=\"state\", y=\"rate_death\", \n",
        "           order = proportion_by_state.sort_values('rate_death').state, color = base_color\n",
        "           )\n",
        "plt.title('Rate of Death Per State')\n",
        "plt.show()"
      ],
      "metadata": {
        "colab": {
          "base_uri": "https://localhost:8080/",
          "height": 736
        },
        "id": "LjBy_4UYWd8w",
        "outputId": "98ee512f-a97d-4bc8-dc5d-b7a8db7e75dc"
      },
      "id": "LjBy_4UYWd8w",
      "execution_count": 130,
      "outputs": [
        {
          "output_type": "display_data",
          "data": {
            "text/plain": [
              "<Figure size 1296x864 with 1 Axes>"
            ],
            "image/png": "[encoded data removed]"
          },
          "metadata": {}
        }
      ]
    },
    {
      "cell_type": "markdown",
      "source": [
        "<i>Observation</i><br>\n",
        "- The rate of death per population size is highest at state of New Mexico, followeb by Arkansas and Washington DC.\n",
        "- The rate of death per population size is loweest at state of Connecticut."
      ],
      "metadata": {
        "id": "dPaoMnQFkfsB"
      },
      "id": "dPaoMnQFkfsB"
    },
    {
      "cell_type": "markdown",
      "source": [
        "#### 3.9.1 Fatal Killings and cities"
      ],
      "metadata": {
        "id": "2vrOHnY5FNPI"
      },
      "id": "2vrOHnY5FNPI"
    },
    {
      "cell_type": "code",
      "source": [
        "#total number of cities where fatal shootings happened\n",
        "data['city'].unique().size"
      ],
      "metadata": {
        "colab": {
          "base_uri": "https://localhost:8080/"
        },
        "id": "zcJoD6f4GspI",
        "outputId": "d166d8a3-6dfa-4d51-c58c-3a82063c65c7"
      },
      "id": "zcJoD6f4GspI",
      "execution_count": 47,
      "outputs": [
        {
          "output_type": "execute_result",
          "data": {
            "text/plain": [
              "1159"
            ]
          },
          "metadata": {},
          "execution_count": 47
        }
      ]
    },
    {
      "cell_type": "markdown",
      "source": [
        "<i>Observation:</i> <br>\n",
        "- There are 1159 unique cities in this dataset where fatal shootings happened."
      ],
      "metadata": {
        "id": "2dfOVWWiG3j8"
      },
      "id": "2dfOVWWiG3j8"
    },
    {
      "cell_type": "code",
      "source": [
        "kills_by_city = data.groupby(['city'])['name'].count()\n",
        "kills_by_city = kills_by_city.sort_values(ascending=False)[:50]"
      ],
      "metadata": {
        "id": "XsBB77TYFiI9"
      },
      "id": "XsBB77TYFiI9",
      "execution_count": 48,
      "outputs": []
    },
    {
      "cell_type": "code",
      "source": [
        "fig, ax = plt.subplots(figsize=(18, 12))\n",
        "sb.barplot(x=kills_by_city, y=kills_by_city.index, color = base_color)\n",
        "plt.xticks(np.arange(0, 41, 2))\n",
        "plt.title('Shootings Numbers of first 50 Cities from 2015 to 2017');"
      ],
      "metadata": {
        "colab": {
          "base_uri": "https://localhost:8080/",
          "height": 736
        },
        "id": "V70ppjUoFSlq",
        "outputId": "4c574b8f-9a6d-4017-a0b6-7b28b3af4eb6"
      },
      "id": "V70ppjUoFSlq",
      "execution_count": 66,
      "outputs": [
        {
          "output_type": "display_data",
          "data": {
            "text/plain": [
              "<Figure size 1296x864 with 1 Axes>"
            ],
            "image/png": "[encoded data removed]"
          },
          "metadata": {}
        }
      ]
    },
    {
      "cell_type": "markdown",
      "source": [
        "<i>Observation:</i> <br> \n",
        "- The city of Los Angeles is the first where fatal shootings frequently happen, whereas  Springfield is one of the less frequent"
      ],
      "metadata": {
        "id": "Dd3npodAF_Kn"
      },
      "id": "Dd3npodAF_Kn"
    },
    {
      "cell_type": "markdown",
      "source": [
        "### 3.10 Shooting Frequency Over Times"
      ],
      "metadata": {
        "id": "seR3Go6G_P7Y"
      },
      "id": "seR3Go6G_P7Y"
    },
    {
      "cell_type": "code",
      "source": [
        "# Convert date from object to datetime\n",
        "data.date = pd.to_datetime(data.date)\n",
        "plt.figure(figsize=(15,18))\n",
        "sb.countplot(y=data.date.dt.strftime('%Y %m %B'), order=sorted(data.date.dt.strftime('%Y %m %B').unique()), color = base_color)\n",
        "plt.title('Police Killings By Month since start of dataset')\n",
        "plt.show()"
      ],
      "metadata": {
        "colab": {
          "base_uri": "https://localhost:8080/",
          "height": 1000
        },
        "id": "T5HplvJF2ybp",
        "outputId": "1e855e51-796b-4fdb-eba0-4567d39b32b3"
      },
      "id": "T5HplvJF2ybp",
      "execution_count": 63,
      "outputs": [
        {
          "output_type": "display_data",
          "data": {
            "text/plain": [
              "<Figure size 1080x1296 with 1 Axes>"
            ],
            "image/png": "[encoded data removed]"
          },
          "metadata": {}
        }
      ]
    },
    {
      "cell_type": "markdown",
      "source": [
        "#### 3.10.2 Fatal Killings and Year"
      ],
      "metadata": {
        "id": "AsFFnidPDA1U"
      },
      "id": "AsFFnidPDA1U"
    },
    {
      "cell_type": "code",
      "source": [
        "base_color = sb.color_palette()[0]\n",
        "sb.countplot(data = data, x = 'year', color = base_color)\n",
        "plt.title('Police killings per year');"
      ],
      "metadata": {
        "colab": {
          "base_uri": "https://localhost:8080/",
          "height": 301
        },
        "id": "kktRWJyPDIaO",
        "outputId": "d70ab2f8-3485-4cb4-e69a-967ff74e7050"
      },
      "id": "kktRWJyPDIaO",
      "execution_count": 51,
      "outputs": [
        {
          "output_type": "display_data",
          "data": {
            "text/plain": [
              "<Figure size 432x288 with 1 Axes>"
            ],
            "image/png": "[encoded data removed]"
          },
          "metadata": {}
        }
      ]
    },
    {
      "cell_type": "markdown",
      "source": [
        "<i>Observation:</i> <br>\n",
        "- we can see that almost fatal shootings for year 2015 and 2016 are the same. \n",
        "- The reason why 2017 plot is low compared to other year's is because, the dataset is not complete and we are only accounting for 2 months of 2017. "
      ],
      "metadata": {
        "id": "oXRtrdkqEJmT"
      },
      "id": "oXRtrdkqEJmT"
    },
    {
      "cell_type": "markdown",
      "source": [
        "### 3.11 Mental Illness and Police Shooting\n",
        "Since we have the data, I would like to begin by exploring the data on mental ilness and shootings. I want to know where the mentally ill are shot most frequently"
      ],
      "metadata": {
        "id": "GYNSKaIb_zpZ"
      },
      "id": "GYNSKaIb_zpZ"
    },
    {
      "cell_type": "code",
      "source": [
        "# Grouping the data by state and if there are signs of mental ilness\n",
        "mental_ilness = data.groupby([\"state\", \"signs_of_mental_illness\"], as_index=False).index.count()\n",
        "mental_ilness.sort_values(by=[\"signs_of_mental_illness\", \"index\"], ascending=[False, False], inplace=True)\n",
        "mental_ilness = mental_ilness.rename(columns={\"index\": \"count\"})\n",
        "mental_ilness"
      ],
      "metadata": {
        "colab": {
          "base_uri": "https://localhost:8080/",
          "height": 424
        },
        "id": "vvXQGC9ux13v",
        "outputId": "f7f368c8-2924-44e4-dc92-cbfef1ed4a65"
      },
      "id": "vvXQGC9ux13v",
      "execution_count": 52,
      "outputs": [
        {
          "output_type": "execute_result",
          "data": {
            "text/plain": [
              "   state  signs_of_mental_illness  count\n",
              "9     CA                     True     76\n",
              "84    TX                     True     45\n",
              "19    FL                     True     34\n",
              "7     AZ                     True     25\n",
              "92    WA                     True     19\n",
              "..   ...                      ...    ...\n",
              "16    DE                    False      4\n",
              "79    SD                    False      4\n",
              "56    ND                    False      3\n",
              "76    RI                    False      2\n",
              "89    VT                    False      2\n",
              "\n",
              "[99 rows x 3 columns]"
            ],
            "text/html": [
              "\n",
              "  <div id=\"df-5803b377-0582-432f-9f28-23de43bd1e57\">\n",
              "    <div class=\"colab-df-container\">\n",
              "      <div>\n",
              "<style scoped>\n",
              "    .dataframe tbody tr th:only-of-type {\n",
              "        vertical-align: middle;\n",
              "    }\n",
              "\n",
              "    .dataframe tbody tr th {\n",
              "        vertical-align: top;\n",
              "    }\n",
              "\n",
              "    .dataframe thead th {\n",
              "        text-align: right;\n",
              "    }\n",
              "</style>\n",
              "<table border=\"1\" class=\"dataframe\">\n",
              "  <thead>\n",
              "    <tr style=\"text-align: right;\">\n",
              "      <th></th>\n",
              "      <th>state</th>\n",
              "      <th>signs_of_mental_illness</th>\n",
              "      <th>count</th>\n",
              "    </tr>\n",
              "  </thead>\n",
              "  <tbody>\n",
              "    <tr>\n",
              "      <th>9</th>\n",
              "      <td>CA</td>\n",
              "      <td>True</td>\n",
              "      <td>76</td>\n",
              "    </tr>\n",
              "    <tr>\n",
              "      <th>84</th>\n",
              "      <td>TX</td>\n",
              "      <td>True</td>\n",
              "      <td>45</td>\n",
              "    </tr>\n",
              "    <tr>\n",
              "      <th>19</th>\n",
              "      <td>FL</td>\n",
              "      <td>True</td>\n",
              "      <td>34</td>\n",
              "    </tr>\n",
              "    <tr>\n",
              "      <th>7</th>\n",
              "      <td>AZ</td>\n",
              "      <td>True</td>\n",
              "      <td>25</td>\n",
              "    </tr>\n",
              "    <tr>\n",
              "      <th>92</th>\n",
              "      <td>WA</td>\n",
              "      <td>True</td>\n",
              "      <td>19</td>\n",
              "    </tr>\n",
              "    <tr>\n",
              "      <th>...</th>\n",
              "      <td>...</td>\n",
              "      <td>...</td>\n",
              "      <td>...</td>\n",
              "    </tr>\n",
              "    <tr>\n",
              "      <th>16</th>\n",
              "      <td>DE</td>\n",
              "      <td>False</td>\n",
              "      <td>4</td>\n",
              "    </tr>\n",
              "    <tr>\n",
              "      <th>79</th>\n",
              "      <td>SD</td>\n",
              "      <td>False</td>\n",
              "      <td>4</td>\n",
              "    </tr>\n",
              "    <tr>\n",
              "      <th>56</th>\n",
              "      <td>ND</td>\n",
              "      <td>False</td>\n",
              "      <td>3</td>\n",
              "    </tr>\n",
              "    <tr>\n",
              "      <th>76</th>\n",
              "      <td>RI</td>\n",
              "      <td>False</td>\n",
              "      <td>2</td>\n",
              "    </tr>\n",
              "    <tr>\n",
              "      <th>89</th>\n",
              "      <td>VT</td>\n",
              "      <td>False</td>\n",
              "      <td>2</td>\n",
              "    </tr>\n",
              "  </tbody>\n",
              "</table>\n",
              "<p>99 rows × 3 columns</p>\n",
              "</div>\n",
              "      <button class=\"colab-df-convert\" onclick=\"convertToInteractive('df-5803b377-0582-432f-9f28-23de43bd1e57')\"\n",
              "              title=\"Convert this dataframe to an interactive table.\"\n",
              "              style=\"display:none;\">\n",
              "        \n",
              "  <svg xmlns=\"http://www.w3.org/2000/svg\" height=\"24px\"viewBox=\"0 0 24 24\"\n",
              "       width=\"24px\">\n",
              "    <path d=\"M0 0h24v24H0V0z\" fill=\"none\"/>\n",
              "    <path d=\"M18.56 5.44l.94 2.06.94-2.06 2.06-.94-2.06-.94-.94-2.06-.94 2.06-2.06.94zm-11 1L8.5 8.5l.94-2.06 2.06-.94-2.06-.94L8.5 2.5l-.94 2.06-2.06.94zm10 10l.94 2.06.94-2.06 2.06-.94-2.06-.94-.94-2.06-.94 2.06-2.06.94z\"/><path d=\"M17.41 7.96l-1.37-1.37c-.4-.4-.92-.59-1.43-.59-.52 0-1.04.2-1.43.59L10.3 9.45l-7.72 7.72c-.78.78-.78 2.05 0 2.83L4 21.41c.39.39.9.59 1.41.59.51 0 1.02-.2 1.41-.59l7.78-7.78 2.81-2.81c.8-.78.8-2.07 0-2.86zM5.41 20L4 18.59l7.72-7.72 1.47 1.35L5.41 20z\"/>\n",
              "  </svg>\n",
              "      </button>\n",
              "      \n",
              "  <style>\n",
              "    .colab-df-container {\n",
              "      display:flex;\n",
              "      flex-wrap:wrap;\n",
              "      gap: 12px;\n",
              "    }\n",
              "\n",
              "    .colab-df-convert {\n",
              "      background-color: #E8F0FE;\n",
              "      border: none;\n",
              "      border-radius: 50%;\n",
              "      cursor: pointer;\n",
              "      display: none;\n",
              "      fill: #1967D2;\n",
              "      height: 32px;\n",
              "      padding: 0 0 0 0;\n",
              "      width: 32px;\n",
              "    }\n",
              "\n",
              "    .colab-df-convert:hover {\n",
              "      background-color: #E2EBFA;\n",
              "      box-shadow: 0px 1px 2px rgba(60, 64, 67, 0.3), 0px 1px 3px 1px rgba(60, 64, 67, 0.15);\n",
              "      fill: #174EA6;\n",
              "    }\n",
              "\n",
              "    [theme=dark] .colab-df-convert {\n",
              "      background-color: #3B4455;\n",
              "      fill: #D2E3FC;\n",
              "    }\n",
              "\n",
              "    [theme=dark] .colab-df-convert:hover {\n",
              "      background-color: #434B5C;\n",
              "      box-shadow: 0px 1px 3px 1px rgba(0, 0, 0, 0.15);\n",
              "      filter: drop-shadow(0px 1px 2px rgba(0, 0, 0, 0.3));\n",
              "      fill: #FFFFFF;\n",
              "    }\n",
              "  </style>\n",
              "\n",
              "      <script>\n",
              "        const buttonEl =\n",
              "          document.querySelector('#df-5803b377-0582-432f-9f28-23de43bd1e57 button.colab-df-convert');\n",
              "        buttonEl.style.display =\n",
              "          google.colab.kernel.accessAllowed ? 'block' : 'none';\n",
              "\n",
              "        async function convertToInteractive(key) {\n",
              "          const element = document.querySelector('#df-5803b377-0582-432f-9f28-23de43bd1e57');\n",
              "          const dataTable =\n",
              "            await google.colab.kernel.invokeFunction('convertToInteractive',\n",
              "                                                     [key], {});\n",
              "          if (!dataTable) return;\n",
              "\n",
              "          const docLinkHtml = 'Like what you see? Visit the ' +\n",
              "            '<a target=\"_blank\" href=https://colab.research.google.com/notebooks/data_table.ipynb>data table notebook</a>'\n",
              "            + ' to learn more about interactive tables.';\n",
              "          element.innerHTML = '';\n",
              "          dataTable['output_type'] = 'display_data';\n",
              "          await google.colab.output.renderOutput(dataTable, element);\n",
              "          const docLink = document.createElement('div');\n",
              "          docLink.innerHTML = docLinkHtml;\n",
              "          element.appendChild(docLink);\n",
              "        }\n",
              "      </script>\n",
              "    </div>\n",
              "  </div>\n",
              "  "
            ]
          },
          "metadata": {},
          "execution_count": 52
        }
      ]
    },
    {
      "cell_type": "code",
      "source": [
        "# Filter cases where signs of mental ilness were present\n",
        "mental_ill_victim = (\n",
        "    mental_ilness[mental_ilness[\"signs_of_mental_illness\"] == True]\n",
        "    .drop(\"signs_of_mental_illness\", axis=1)\n",
        "    .reset_index(drop=True)\n",
        ")\n",
        "mental_ill_victim"
      ],
      "metadata": {
        "colab": {
          "base_uri": "https://localhost:8080/",
          "height": 1000
        },
        "id": "CRCSPbr20wYQ",
        "outputId": "e688f43e-d034-4ee3-b45c-cf3ced6a7c5e"
      },
      "id": "CRCSPbr20wYQ",
      "execution_count": 53,
      "outputs": [
        {
          "output_type": "execute_result",
          "data": {
            "text/plain": [
              "   state  count\n",
              "0     CA     76\n",
              "1     TX     45\n",
              "2     FL     34\n",
              "3     AZ     25\n",
              "4     WA     19\n",
              "5     NC     16\n",
              "6     NY     16\n",
              "7     OK     14\n",
              "8     VA     14\n",
              "9     GA     12\n",
              "10    LA     12\n",
              "11    OH     12\n",
              "12    AL     11\n",
              "13    IL     11\n",
              "14    MN     11\n",
              "15    CO     10\n",
              "16    MD     10\n",
              "17    MI     10\n",
              "18    WI     10\n",
              "19    NM      9\n",
              "20    NV      9\n",
              "21    OR      9\n",
              "22    PA      9\n",
              "23    TN      9\n",
              "24    UT      9\n",
              "25    MA      8\n",
              "26    IN      7\n",
              "27    MO      7\n",
              "28    NJ      6\n",
              "29    NH      5\n",
              "30    SC      5\n",
              "31    KY      4\n",
              "32    AR      3\n",
              "33    KS      3\n",
              "34    NE      3\n",
              "35    SD      3\n",
              "36    AK      2\n",
              "37    CT      2\n",
              "38    DC      2\n",
              "39    IA      2\n",
              "40    ID      2\n",
              "41    WV      2\n",
              "42    WY      2\n",
              "43    DE      1\n",
              "44    HI      1\n",
              "45    ME      1\n",
              "46    MS      1\n",
              "47    MT      1\n",
              "48    VT      1"
            ],
            "text/html": [
              "\n",
              "  <div id=\"df-a7702578-aae4-4358-adf1-dfe77ba69490\">\n",
              "    <div class=\"colab-df-container\">\n",
              "      <div>\n",
              "<style scoped>\n",
              "    .dataframe tbody tr th:only-of-type {\n",
              "        vertical-align: middle;\n",
              "    }\n",
              "\n",
              "    .dataframe tbody tr th {\n",
              "        vertical-align: top;\n",
              "    }\n",
              "\n",
              "    .dataframe thead th {\n",
              "        text-align: right;\n",
              "    }\n",
              "</style>\n",
              "<table border=\"1\" class=\"dataframe\">\n",
              "  <thead>\n",
              "    <tr style=\"text-align: right;\">\n",
              "      <th></th>\n",
              "      <th>state</th>\n",
              "      <th>count</th>\n",
              "    </tr>\n",
              "  </thead>\n",
              "  <tbody>\n",
              "    <tr>\n",
              "      <th>0</th>\n",
              "      <td>CA</td>\n",
              "      <td>76</td>\n",
              "    </tr>\n",
              "    <tr>\n",
              "      <th>1</th>\n",
              "      <td>TX</td>\n",
              "      <td>45</td>\n",
              "    </tr>\n",
              "    <tr>\n",
              "      <th>2</th>\n",
              "      <td>FL</td>\n",
              "      <td>34</td>\n",
              "    </tr>\n",
              "    <tr>\n",
              "      <th>3</th>\n",
              "      <td>AZ</td>\n",
              "      <td>25</td>\n",
              "    </tr>\n",
              "    <tr>\n",
              "      <th>4</th>\n",
              "      <td>WA</td>\n",
              "      <td>19</td>\n",
              "    </tr>\n",
              "    <tr>\n",
              "      <th>5</th>\n",
              "      <td>NC</td>\n",
              "      <td>16</td>\n",
              "    </tr>\n",
              "    <tr>\n",
              "      <th>6</th>\n",
              "      <td>NY</td>\n",
              "      <td>16</td>\n",
              "    </tr>\n",
              "    <tr>\n",
              "      <th>7</th>\n",
              "      <td>OK</td>\n",
              "      <td>14</td>\n",
              "    </tr>\n",
              "    <tr>\n",
              "      <th>8</th>\n",
              "      <td>VA</td>\n",
              "      <td>14</td>\n",
              "    </tr>\n",
              "    <tr>\n",
              "      <th>9</th>\n",
              "      <td>GA</td>\n",
              "      <td>12</td>\n",
              "    </tr>\n",
              "    <tr>\n",
              "      <th>10</th>\n",
              "      <td>LA</td>\n",
              "      <td>12</td>\n",
              "    </tr>\n",
              "    <tr>\n",
              "      <th>11</th>\n",
              "      <td>OH</td>\n",
              "      <td>12</td>\n",
              "    </tr>\n",
              "    <tr>\n",
              "      <th>12</th>\n",
              "      <td>AL</td>\n",
              "      <td>11</td>\n",
              "    </tr>\n",
              "    <tr>\n",
              "      <th>13</th>\n",
              "      <td>IL</td>\n",
              "      <td>11</td>\n",
              "    </tr>\n",
              "    <tr>\n",
              "      <th>14</th>\n",
              "      <td>MN</td>\n",
              "      <td>11</td>\n",
              "    </tr>\n",
              "    <tr>\n",
              "      <th>15</th>\n",
              "      <td>CO</td>\n",
              "      <td>10</td>\n",
              "    </tr>\n",
              "    <tr>\n",
              "      <th>16</th>\n",
              "      <td>MD</td>\n",
              "      <td>10</td>\n",
              "    </tr>\n",
              "    <tr>\n",
              "      <th>17</th>\n",
              "      <td>MI</td>\n",
              "      <td>10</td>\n",
              "    </tr>\n",
              "    <tr>\n",
              "      <th>18</th>\n",
              "      <td>WI</td>\n",
              "      <td>10</td>\n",
              "    </tr>\n",
              "    <tr>\n",
              "      <th>19</th>\n",
              "      <td>NM</td>\n",
              "      <td>9</td>\n",
              "    </tr>\n",
              "    <tr>\n",
              "      <th>20</th>\n",
              "      <td>NV</td>\n",
              "      <td>9</td>\n",
              "    </tr>\n",
              "    <tr>\n",
              "      <th>21</th>\n",
              "      <td>OR</td>\n",
              "      <td>9</td>\n",
              "    </tr>\n",
              "    <tr>\n",
              "      <th>22</th>\n",
              "      <td>PA</td>\n",
              "      <td>9</td>\n",
              "    </tr>\n",
              "    <tr>\n",
              "      <th>23</th>\n",
              "      <td>TN</td>\n",
              "      <td>9</td>\n",
              "    </tr>\n",
              "    <tr>\n",
              "      <th>24</th>\n",
              "      <td>UT</td>\n",
              "      <td>9</td>\n",
              "    </tr>\n",
              "    <tr>\n",
              "      <th>25</th>\n",
              "      <td>MA</td>\n",
              "      <td>8</td>\n",
              "    </tr>\n",
              "    <tr>\n",
              "      <th>26</th>\n",
              "      <td>IN</td>\n",
              "      <td>7</td>\n",
              "    </tr>\n",
              "    <tr>\n",
              "      <th>27</th>\n",
              "      <td>MO</td>\n",
              "      <td>7</td>\n",
              "    </tr>\n",
              "    <tr>\n",
              "      <th>28</th>\n",
              "      <td>NJ</td>\n",
              "      <td>6</td>\n",
              "    </tr>\n",
              "    <tr>\n",
              "      <th>29</th>\n",
              "      <td>NH</td>\n",
              "      <td>5</td>\n",
              "    </tr>\n",
              "    <tr>\n",
              "      <th>30</th>\n",
              "      <td>SC</td>\n",
              "      <td>5</td>\n",
              "    </tr>\n",
              "    <tr>\n",
              "      <th>31</th>\n",
              "      <td>KY</td>\n",
              "      <td>4</td>\n",
              "    </tr>\n",
              "    <tr>\n",
              "      <th>32</th>\n",
              "      <td>AR</td>\n",
              "      <td>3</td>\n",
              "    </tr>\n",
              "    <tr>\n",
              "      <th>33</th>\n",
              "      <td>KS</td>\n",
              "      <td>3</td>\n",
              "    </tr>\n",
              "    <tr>\n",
              "      <th>34</th>\n",
              "      <td>NE</td>\n",
              "      <td>3</td>\n",
              "    </tr>\n",
              "    <tr>\n",
              "      <th>35</th>\n",
              "      <td>SD</td>\n",
              "      <td>3</td>\n",
              "    </tr>\n",
              "    <tr>\n",
              "      <th>36</th>\n",
              "      <td>AK</td>\n",
              "      <td>2</td>\n",
              "    </tr>\n",
              "    <tr>\n",
              "      <th>37</th>\n",
              "      <td>CT</td>\n",
              "      <td>2</td>\n",
              "    </tr>\n",
              "    <tr>\n",
              "      <th>38</th>\n",
              "      <td>DC</td>\n",
              "      <td>2</td>\n",
              "    </tr>\n",
              "    <tr>\n",
              "      <th>39</th>\n",
              "      <td>IA</td>\n",
              "      <td>2</td>\n",
              "    </tr>\n",
              "    <tr>\n",
              "      <th>40</th>\n",
              "      <td>ID</td>\n",
              "      <td>2</td>\n",
              "    </tr>\n",
              "    <tr>\n",
              "      <th>41</th>\n",
              "      <td>WV</td>\n",
              "      <td>2</td>\n",
              "    </tr>\n",
              "    <tr>\n",
              "      <th>42</th>\n",
              "      <td>WY</td>\n",
              "      <td>2</td>\n",
              "    </tr>\n",
              "    <tr>\n",
              "      <th>43</th>\n",
              "      <td>DE</td>\n",
              "      <td>1</td>\n",
              "    </tr>\n",
              "    <tr>\n",
              "      <th>44</th>\n",
              "      <td>HI</td>\n",
              "      <td>1</td>\n",
              "    </tr>\n",
              "    <tr>\n",
              "      <th>45</th>\n",
              "      <td>ME</td>\n",
              "      <td>1</td>\n",
              "    </tr>\n",
              "    <tr>\n",
              "      <th>46</th>\n",
              "      <td>MS</td>\n",
              "      <td>1</td>\n",
              "    </tr>\n",
              "    <tr>\n",
              "      <th>47</th>\n",
              "      <td>MT</td>\n",
              "      <td>1</td>\n",
              "    </tr>\n",
              "    <tr>\n",
              "      <th>48</th>\n",
              "      <td>VT</td>\n",
              "      <td>1</td>\n",
              "    </tr>\n",
              "  </tbody>\n",
              "</table>\n",
              "</div>\n",
              "      <button class=\"colab-df-convert\" onclick=\"convertToInteractive('df-a7702578-aae4-4358-adf1-dfe77ba69490')\"\n",
              "              title=\"Convert this dataframe to an interactive table.\"\n",
              "              style=\"display:none;\">\n",
              "        \n",
              "  <svg xmlns=\"http://www.w3.org/2000/svg\" height=\"24px\"viewBox=\"0 0 24 24\"\n",
              "       width=\"24px\">\n",
              "    <path d=\"M0 0h24v24H0V0z\" fill=\"none\"/>\n",
              "    <path d=\"M18.56 5.44l.94 2.06.94-2.06 2.06-.94-2.06-.94-.94-2.06-.94 2.06-2.06.94zm-11 1L8.5 8.5l.94-2.06 2.06-.94-2.06-.94L8.5 2.5l-.94 2.06-2.06.94zm10 10l.94 2.06.94-2.06 2.06-.94-2.06-.94-.94-2.06-.94 2.06-2.06.94z\"/><path d=\"M17.41 7.96l-1.37-1.37c-.4-.4-.92-.59-1.43-.59-.52 0-1.04.2-1.43.59L10.3 9.45l-7.72 7.72c-.78.78-.78 2.05 0 2.83L4 21.41c.39.39.9.59 1.41.59.51 0 1.02-.2 1.41-.59l7.78-7.78 2.81-2.81c.8-.78.8-2.07 0-2.86zM5.41 20L4 18.59l7.72-7.72 1.47 1.35L5.41 20z\"/>\n",
              "  </svg>\n",
              "      </button>\n",
              "      \n",
              "  <style>\n",
              "    .colab-df-container {\n",
              "      display:flex;\n",
              "      flex-wrap:wrap;\n",
              "      gap: 12px;\n",
              "    }\n",
              "\n",
              "    .colab-df-convert {\n",
              "      background-color: #E8F0FE;\n",
              "      border: none;\n",
              "      border-radius: 50%;\n",
              "      cursor: pointer;\n",
              "      display: none;\n",
              "      fill: #1967D2;\n",
              "      height: 32px;\n",
              "      padding: 0 0 0 0;\n",
              "      width: 32px;\n",
              "    }\n",
              "\n",
              "    .colab-df-convert:hover {\n",
              "      background-color: #E2EBFA;\n",
              "      box-shadow: 0px 1px 2px rgba(60, 64, 67, 0.3), 0px 1px 3px 1px rgba(60, 64, 67, 0.15);\n",
              "      fill: #174EA6;\n",
              "    }\n",
              "\n",
              "    [theme=dark] .colab-df-convert {\n",
              "      background-color: #3B4455;\n",
              "      fill: #D2E3FC;\n",
              "    }\n",
              "\n",
              "    [theme=dark] .colab-df-convert:hover {\n",
              "      background-color: #434B5C;\n",
              "      box-shadow: 0px 1px 3px 1px rgba(0, 0, 0, 0.15);\n",
              "      filter: drop-shadow(0px 1px 2px rgba(0, 0, 0, 0.3));\n",
              "      fill: #FFFFFF;\n",
              "    }\n",
              "  </style>\n",
              "\n",
              "      <script>\n",
              "        const buttonEl =\n",
              "          document.querySelector('#df-a7702578-aae4-4358-adf1-dfe77ba69490 button.colab-df-convert');\n",
              "        buttonEl.style.display =\n",
              "          google.colab.kernel.accessAllowed ? 'block' : 'none';\n",
              "\n",
              "        async function convertToInteractive(key) {\n",
              "          const element = document.querySelector('#df-a7702578-aae4-4358-adf1-dfe77ba69490');\n",
              "          const dataTable =\n",
              "            await google.colab.kernel.invokeFunction('convertToInteractive',\n",
              "                                                     [key], {});\n",
              "          if (!dataTable) return;\n",
              "\n",
              "          const docLinkHtml = 'Like what you see? Visit the ' +\n",
              "            '<a target=\"_blank\" href=https://colab.research.google.com/notebooks/data_table.ipynb>data table notebook</a>'\n",
              "            + ' to learn more about interactive tables.';\n",
              "          element.innerHTML = '';\n",
              "          dataTable['output_type'] = 'display_data';\n",
              "          await google.colab.output.renderOutput(dataTable, element);\n",
              "          const docLink = document.createElement('div');\n",
              "          docLink.innerHTML = docLinkHtml;\n",
              "          element.appendChild(docLink);\n",
              "        }\n",
              "      </script>\n",
              "    </div>\n",
              "  </div>\n",
              "  "
            ]
          },
          "metadata": {},
          "execution_count": 53
        }
      ]
    },
    {
      "cell_type": "markdown",
      "source": [
        "#### 3.11.1 Visualization of shootings where mental ilness present per states"
      ],
      "metadata": {
        "id": "haHS1Nrq1wZZ"
      },
      "id": "haHS1Nrq1wZZ"
    },
    {
      "cell_type": "code",
      "source": [
        "# Interactive map of the USA to visualise shootings where signs of mental illness were present\n",
        "fig = px.choropleth(\n",
        "    mental_ill_victim,\n",
        "    locations=\"state\",\n",
        "    color=\"count\",\n",
        "    hover_name=\"state\",\n",
        "    locationmode=\"USA-states\",\n",
        ")\n",
        "fig.update_layout(\n",
        "    title_text=\"Fatal shootings of people with signs of mental illness in each state\",\n",
        "    geo_scope=\"usa\",\n",
        ")\n",
        "fig.show()"
      ],
      "metadata": {
        "colab": {
          "base_uri": "https://localhost:8080/",
          "height": 562
        },
        "id": "KtFO4j4v1vvw",
        "outputId": "cd67e975-6496-44d9-e8d2-54e2cba13923"
      },
      "id": "KtFO4j4v1vvw",
      "execution_count": 54,
      "outputs": [
        {
          "output_type": "display_data",
          "data": {
            "text/html": [
              "<html>\n",
              "<head><meta charset=\"utf-8\" /></head>\n",
              "<body>\n",
              "    <div>            <script src=\"https://cdnjs.cloudflare.com/ajax/libs/mathjax/2.7.5/MathJax.js?config=TeX-AMS-MML_SVG\"></script><script type=\"text/javascript\">if (window.MathJax) {MathJax.Hub.Config({SVG: {font: \"STIX-Web\"}});}</script>                <script type=\"text/javascript\">window.PlotlyConfig = {MathJaxConfig: 'local'};</script>\n",
              "        <script src=\"https://cdn.plot.ly/plotly-2.8.3.min.js\"></script>                <div id=\"f7d13258-d4ad-4089-b0e4-3a4760d08d8d\" class=\"plotly-graph-div\" style=\"height:525px; width:100%;\"></div>            <script type=\"text/javascript\">                                    window.PLOTLYENV=window.PLOTLYENV || {};                                    if (document.getElementById(\"f7d13258-d4ad-4089-b0e4-3a4760d08d8d\")) {                    Plotly.newPlot(                        \"f7d13258-d4ad-4089-b0e4-3a4760d08d8d\",                        [{\"coloraxis\":\"coloraxis\",\"geo\":\"geo\",\"hovertemplate\":\"<b>%{hovertext}</b><br><br>state=%{location}<br>count=%{z}<extra></extra>\",\"hovertext\":[\"CA\",\"TX\",\"FL\",\"AZ\",\"WA\",\"NC\",\"NY\",\"OK\",\"VA\",\"GA\",\"LA\",\"OH\",\"AL\",\"IL\",\"MN\",\"CO\",\"MD\",\"MI\",\"WI\",\"NM\",\"NV\",\"OR\",\"PA\",\"TN\",\"UT\",\"MA\",\"IN\",\"MO\",\"NJ\",\"NH\",\"SC\",\"KY\",\"AR\",\"KS\",\"NE\",\"SD\",\"AK\",\"CT\",\"DC\",\"IA\",\"ID\",\"WV\",\"WY\",\"DE\",\"HI\",\"ME\",\"MS\",\"MT\",\"VT\"],\"locationmode\":\"USA-states\",\"locations\":[\"CA\",\"TX\",\"FL\",\"AZ\",\"WA\",\"NC\",\"NY\",\"OK\",\"VA\",\"GA\",\"LA\",\"OH\",\"AL\",\"IL\",\"MN\",\"CO\",\"MD\",\"MI\",\"WI\",\"NM\",\"NV\",\"OR\",\"PA\",\"TN\",\"UT\",\"MA\",\"IN\",\"MO\",\"NJ\",\"NH\",\"SC\",\"KY\",\"AR\",\"KS\",\"NE\",\"SD\",\"AK\",\"CT\",\"DC\",\"IA\",\"ID\",\"WV\",\"WY\",\"DE\",\"HI\",\"ME\",\"MS\",\"MT\",\"VT\"],\"name\":\"\",\"z\":[76,45,34,25,19,16,16,14,14,12,12,12,11,11,11,10,10,10,10,9,9,9,9,9,9,8,7,7,6,5,5,4,3,3,3,3,2,2,2,2,2,2,2,1,1,1,1,1,1],\"type\":\"choropleth\"}],                        {\"template\":{\"data\":{\"bar\":[{\"error_x\":{\"color\":\"#2a3f5f\"},\"error_y\":{\"color\":\"#2a3f5f\"},\"marker\":{\"line\":{\"color\":\"#E5ECF6\",\"width\":0.5},\"pattern\":{\"fillmode\":\"overlay\",\"size\":10,\"solidity\":0.2}},\"type\":\"bar\"}],\"barpolar\":[{\"marker\":{\"line\":{\"color\":\"#E5ECF6\",\"width\":0.5},\"pattern\":{\"fillmode\":\"overlay\",\"size\":10,\"solidity\":0.2}},\"type\":\"barpolar\"}],\"carpet\":[{\"aaxis\":{\"endlinecolor\":\"#2a3f5f\",\"gridcolor\":\"white\",\"linecolor\":\"white\",\"minorgridcolor\":\"white\",\"startlinecolor\":\"#2a3f5f\"},\"baxis\":{\"endlinecolor\":\"#2a3f5f\",\"gridcolor\":\"white\",\"linecolor\":\"white\",\"minorgridcolor\":\"white\",\"startlinecolor\":\"#2a3f5f\"},\"type\":\"carpet\"}],\"choropleth\":[{\"colorbar\":{\"outlinewidth\":0,\"ticks\":\"\"},\"type\":\"choropleth\"}],\"contour\":[{\"colorbar\":{\"outlinewidth\":0,\"ticks\":\"\"},\"colorscale\":[[0.0,\"#0d0887\"],[0.1111111111111111,\"#46039f\"],[0.2222222222222222,\"#7201a8\"],[0.3333333333333333,\"#9c179e\"],[0.4444444444444444,\"#bd3786\"],[0.5555555555555556,\"#d8576b\"],[0.6666666666666666,\"#ed7953\"],[0.7777777777777778,\"#fb9f3a\"],[0.8888888888888888,\"#fdca26\"],[1.0,\"#f0f921\"]],\"type\":\"contour\"}],\"contourcarpet\":[{\"colorbar\":{\"outlinewidth\":0,\"ticks\":\"\"},\"type\":\"contourcarpet\"}],\"heatmap\":[{\"colorbar\":{\"outlinewidth\":0,\"ticks\":\"\"},\"colorscale\":[[0.0,\"#0d0887\"],[0.1111111111111111,\"#46039f\"],[0.2222222222222222,\"#7201a8\"],[0.3333333333333333,\"#9c179e\"],[0.4444444444444444,\"#bd3786\"],[0.5555555555555556,\"#d8576b\"],[0.6666666666666666,\"#ed7953\"],[0.7777777777777778,\"#fb9f3a\"],[0.8888888888888888,\"#fdca26\"],[1.0,\"#f0f921\"]],\"type\":\"heatmap\"}],\"heatmapgl\":[{\"colorbar\":{\"outlinewidth\":0,\"ticks\":\"\"},\"colorscale\":[[0.0,\"#0d0887\"],[0.1111111111111111,\"#46039f\"],[0.2222222222222222,\"#7201a8\"],[0.3333333333333333,\"#9c179e\"],[0.4444444444444444,\"#bd3786\"],[0.5555555555555556,\"#d8576b\"],[0.6666666666666666,\"#ed7953\"],[0.7777777777777778,\"#fb9f3a\"],[0.8888888888888888,\"#fdca26\"],[1.0,\"#f0f921\"]],\"type\":\"heatmapgl\"}],\"histogram\":[{\"marker\":{\"pattern\":{\"fillmode\":\"overlay\",\"size\":10,\"solidity\":0.2}},\"type\":\"histogram\"}],\"histogram2d\":[{\"colorbar\":{\"outlinewidth\":0,\"ticks\":\"\"},\"colorscale\":[[0.0,\"#0d0887\"],[0.1111111111111111,\"#46039f\"],[0.2222222222222222,\"#7201a8\"],[0.3333333333333333,\"#9c179e\"],[0.4444444444444444,\"#bd3786\"],[0.5555555555555556,\"#d8576b\"],[0.6666666666666666,\"#ed7953\"],[0.7777777777777778,\"#fb9f3a\"],[0.8888888888888888,\"#fdca26\"],[1.0,\"#f0f921\"]],\"type\":\"histogram2d\"}],\"histogram2dcontour\":[{\"colorbar\":{\"outlinewidth\":0,\"ticks\":\"\"},\"colorscale\":[[0.0,\"#0d0887\"],[0.1111111111111111,\"#46039f\"],[0.2222222222222222,\"#7201a8\"],[0.3333333333333333,\"#9c179e\"],[0.4444444444444444,\"#bd3786\"],[0.5555555555555556,\"#d8576b\"],[0.6666666666666666,\"#ed7953\"],[0.7777777777777778,\"#fb9f3a\"],[0.8888888888888888,\"#fdca26\"],[1.0,\"#f0f921\"]],\"type\":\"histogram2dcontour\"}],\"mesh3d\":[{\"colorbar\":{\"outlinewidth\":0,\"ticks\":\"\"},\"type\":\"mesh3d\"}],\"parcoords\":[{\"line\":{\"colorbar\":{\"outlinewidth\":0,\"ticks\":\"\"}},\"type\":\"parcoords\"}],\"pie\":[{\"automargin\":true,\"type\":\"pie\"}],\"scatter\":[{\"marker\":{\"colorbar\":{\"outlinewidth\":0,\"ticks\":\"\"}},\"type\":\"scatter\"}],\"scatter3d\":[{\"line\":{\"colorbar\":{\"outlinewidth\":0,\"ticks\":\"\"}},\"marker\":{\"colorbar\":{\"outlinewidth\":0,\"ticks\":\"\"}},\"type\":\"scatter3d\"}],\"scattercarpet\":[{\"marker\":{\"colorbar\":{\"outlinewidth\":0,\"ticks\":\"\"}},\"type\":\"scattercarpet\"}],\"scattergeo\":[{\"marker\":{\"colorbar\":{\"outlinewidth\":0,\"ticks\":\"\"}},\"type\":\"scattergeo\"}],\"scattergl\":[{\"marker\":{\"colorbar\":{\"outlinewidth\":0,\"ticks\":\"\"}},\"type\":\"scattergl\"}],\"scattermapbox\":[{\"marker\":{\"colorbar\":{\"outlinewidth\":0,\"ticks\":\"\"}},\"type\":\"scattermapbox\"}],\"scatterpolar\":[{\"marker\":{\"colorbar\":{\"outlinewidth\":0,\"ticks\":\"\"}},\"type\":\"scatterpolar\"}],\"scatterpolargl\":[{\"marker\":{\"colorbar\":{\"outlinewidth\":0,\"ticks\":\"\"}},\"type\":\"scatterpolargl\"}],\"scatterternary\":[{\"marker\":{\"colorbar\":{\"outlinewidth\":0,\"ticks\":\"\"}},\"type\":\"scatterternary\"}],\"surface\":[{\"colorbar\":{\"outlinewidth\":0,\"ticks\":\"\"},\"colorscale\":[[0.0,\"#0d0887\"],[0.1111111111111111,\"#46039f\"],[0.2222222222222222,\"#7201a8\"],[0.3333333333333333,\"#9c179e\"],[0.4444444444444444,\"#bd3786\"],[0.5555555555555556,\"#d8576b\"],[0.6666666666666666,\"#ed7953\"],[0.7777777777777778,\"#fb9f3a\"],[0.8888888888888888,\"#fdca26\"],[1.0,\"#f0f921\"]],\"type\":\"surface\"}],\"table\":[{\"cells\":{\"fill\":{\"color\":\"#EBF0F8\"},\"line\":{\"color\":\"white\"}},\"header\":{\"fill\":{\"color\":\"#C8D4E3\"},\"line\":{\"color\":\"white\"}},\"type\":\"table\"}]},\"layout\":{\"annotationdefaults\":{\"arrowcolor\":\"#2a3f5f\",\"arrowhead\":0,\"arrowwidth\":1},\"autotypenumbers\":\"strict\",\"coloraxis\":{\"colorbar\":{\"outlinewidth\":0,\"ticks\":\"\"}},\"colorscale\":{\"diverging\":[[0,\"#8e0152\"],[0.1,\"#c51b7d\"],[0.2,\"#de77ae\"],[0.3,\"#f1b6da\"],[0.4,\"#fde0ef\"],[0.5,\"#f7f7f7\"],[0.6,\"#e6f5d0\"],[0.7,\"#b8e186\"],[0.8,\"#7fbc41\"],[0.9,\"#4d9221\"],[1,\"#276419\"]],\"sequential\":[[0.0,\"#0d0887\"],[0.1111111111111111,\"#46039f\"],[0.2222222222222222,\"#7201a8\"],[0.3333333333333333,\"#9c179e\"],[0.4444444444444444,\"#bd3786\"],[0.5555555555555556,\"#d8576b\"],[0.6666666666666666,\"#ed7953\"],[0.7777777777777778,\"#fb9f3a\"],[0.8888888888888888,\"#fdca26\"],[1.0,\"#f0f921\"]],\"sequentialminus\":[[0.0,\"#0d0887\"],[0.1111111111111111,\"#46039f\"],[0.2222222222222222,\"#7201a8\"],[0.3333333333333333,\"#9c179e\"],[0.4444444444444444,\"#bd3786\"],[0.5555555555555556,\"#d8576b\"],[0.6666666666666666,\"#ed7953\"],[0.7777777777777778,\"#fb9f3a\"],[0.8888888888888888,\"#fdca26\"],[1.0,\"#f0f921\"]]},\"colorway\":[\"#636efa\",\"#EF553B\",\"#00cc96\",\"#ab63fa\",\"#FFA15A\",\"#19d3f3\",\"#FF6692\",\"#B6E880\",\"#FF97FF\",\"#FECB52\"],\"font\":{\"color\":\"#2a3f5f\"},\"geo\":{\"bgcolor\":\"white\",\"lakecolor\":\"white\",\"landcolor\":\"#E5ECF6\",\"showlakes\":true,\"showland\":true,\"subunitcolor\":\"white\"},\"hoverlabel\":{\"align\":\"left\"},\"hovermode\":\"closest\",\"mapbox\":{\"style\":\"light\"},\"paper_bgcolor\":\"white\",\"plot_bgcolor\":\"#E5ECF6\",\"polar\":{\"angularaxis\":{\"gridcolor\":\"white\",\"linecolor\":\"white\",\"ticks\":\"\"},\"bgcolor\":\"#E5ECF6\",\"radialaxis\":{\"gridcolor\":\"white\",\"linecolor\":\"white\",\"ticks\":\"\"}},\"scene\":{\"xaxis\":{\"backgroundcolor\":\"#E5ECF6\",\"gridcolor\":\"white\",\"gridwidth\":2,\"linecolor\":\"white\",\"showbackground\":true,\"ticks\":\"\",\"zerolinecolor\":\"white\"},\"yaxis\":{\"backgroundcolor\":\"#E5ECF6\",\"gridcolor\":\"white\",\"gridwidth\":2,\"linecolor\":\"white\",\"showbackground\":true,\"ticks\":\"\",\"zerolinecolor\":\"white\"},\"zaxis\":{\"backgroundcolor\":\"#E5ECF6\",\"gridcolor\":\"white\",\"gridwidth\":2,\"linecolor\":\"white\",\"showbackground\":true,\"ticks\":\"\",\"zerolinecolor\":\"white\"}},\"shapedefaults\":{\"line\":{\"color\":\"#2a3f5f\"}},\"ternary\":{\"aaxis\":{\"gridcolor\":\"white\",\"linecolor\":\"white\",\"ticks\":\"\"},\"baxis\":{\"gridcolor\":\"white\",\"linecolor\":\"white\",\"ticks\":\"\"},\"bgcolor\":\"#E5ECF6\",\"caxis\":{\"gridcolor\":\"white\",\"linecolor\":\"white\",\"ticks\":\"\"}},\"title\":{\"x\":0.05},\"xaxis\":{\"automargin\":true,\"gridcolor\":\"white\",\"linecolor\":\"white\",\"ticks\":\"\",\"title\":{\"standoff\":15},\"zerolinecolor\":\"white\",\"zerolinewidth\":2},\"yaxis\":{\"automargin\":true,\"gridcolor\":\"white\",\"linecolor\":\"white\",\"ticks\":\"\",\"title\":{\"standoff\":15},\"zerolinecolor\":\"white\",\"zerolinewidth\":2}}},\"geo\":{\"domain\":{\"x\":[0.0,1.0],\"y\":[0.0,1.0]},\"center\":{},\"scope\":\"usa\"},\"coloraxis\":{\"colorbar\":{\"title\":{\"text\":\"count\"}},\"colorscale\":[[0.0,\"#0d0887\"],[0.1111111111111111,\"#46039f\"],[0.2222222222222222,\"#7201a8\"],[0.3333333333333333,\"#9c179e\"],[0.4444444444444444,\"#bd3786\"],[0.5555555555555556,\"#d8576b\"],[0.6666666666666666,\"#ed7953\"],[0.7777777777777778,\"#fb9f3a\"],[0.8888888888888888,\"#fdca26\"],[1.0,\"#f0f921\"]]},\"legend\":{\"tracegroupgap\":0},\"margin\":{\"t\":60},\"title\":{\"text\":\"Fatal shootings of people with signs of mental illness in each state\"}},                        {\"responsive\": true}                    ).then(function(){\n",
              "                            \n",
              "var gd = document.getElementById('f7d13258-d4ad-4089-b0e4-3a4760d08d8d');\n",
              "var x = new MutationObserver(function (mutations, observer) {{\n",
              "        var display = window.getComputedStyle(gd).display;\n",
              "        if (!display || display === 'none') {{\n",
              "            console.log([gd, 'removed!']);\n",
              "            Plotly.purge(gd);\n",
              "            observer.disconnect();\n",
              "        }}\n",
              "}});\n",
              "\n",
              "// Listen for the removal of the full notebook cells\n",
              "var notebookContainer = gd.closest('#notebook-container');\n",
              "if (notebookContainer) {{\n",
              "    x.observe(notebookContainer, {childList: true});\n",
              "}}\n",
              "\n",
              "// Listen for the clearing of the current output cell\n",
              "var outputEl = gd.closest('.output');\n",
              "if (outputEl) {{\n",
              "    x.observe(outputEl, {childList: true});\n",
              "}}\n",
              "\n",
              "                        })                };                            </script>        </div>\n",
              "</body>\n",
              "</html>"
            ]
          },
          "metadata": {}
        }
      ]
    },
    {
      "cell_type": "markdown",
      "source": [
        "#### 3.11.2 Comparision of fatal shootings where mental ilness present and not present  per states"
      ],
      "metadata": {
        "id": "WskR6c8muMqg"
      },
      "id": "WskR6c8muMqg"
    },
    {
      "cell_type": "code",
      "source": [
        "# Plotting the data\n",
        "fig, ax = plt.subplots(figsize=(15, 8))\n",
        "sb.stripplot(\n",
        "    ax=ax, data=mental_ilness, x=\"state\", y=\"count\", hue=\"signs_of_mental_illness\"\n",
        ").legend(\n",
        "    loc=\"center left\",\n",
        "    bbox_to_anchor=(1.25, 0.5),\n",
        "    ncol=1,\n",
        "    title=\"Signs of mental ilness\",\n",
        ")\n",
        "plt.xticks(rotation=90)\n",
        "ax.xaxis.grid(True)\n",
        "plt.ylabel(\"Fatal shootings\")\n",
        "plt.xlabel(\"State\")\n",
        "plt.title(\"Fatal shootings by state and signs of mental ilness\")\n",
        "plt.show()"
      ],
      "metadata": {
        "colab": {
          "base_uri": "https://localhost:8080/",
          "height": 54
        },
        "id": "EgcJ1_nsFHl0",
        "outputId": "91777c73-5fc6-44d4-d1e2-97639fd395ba"
      },
      "id": "EgcJ1_nsFHl0",
      "execution_count": 55,
      "outputs": [
        {
          "output_type": "display_data",
          "data": {
            "text/plain": [
              "<Figure size 1080x576 with 1 Axes>"
            ],
            "image/png": "[encoded data removed]"
          },
          "metadata": {}
        }
      ]
    },
    {
      "cell_type": "markdown",
      "source": [
        "### 3.12 Statistical Probability Prediction"
      ],
      "metadata": {
        "id": "LqHcqHLNUvPL"
      },
      "id": "LqHcqHLNUvPL"
    },
    {
      "cell_type": "markdown",
      "source": [
        "Upto this point we were using the actual killings against population distribution. Instead we can compute a value that tells us the probability of number of killings from each race if the killings were random, given the population distribution. We'll use Poission distribution to model the probability of observing the number of killings given the population size in a given race.\n",
        "\n",
        "A Poisson distribution is a tool that helps to predict the probability of certain events happening when you know how often the event has occurred. In this particular we are also interested in the direction in which the probability is going to be. This means we are going to find out if the number of killings were less or more for certain race if the killings were random. Therefore, we'll use the cumulative  of the Poisson distribution. This  tell us the probability of observing a given number of killings or less.\n",
        "\n",
        "<i>Cumulative Probability of Poission Distribution Value Ranges Analysis:</i> <br>\n",
        "- if it's closer to 0, that means there were less killings of a certain population than would be expected if killings were random.\n",
        "- If the value is closer to 1, there were more killings than would be expected if killings were random.\n",
        "- If the value is around 0.5, police shootings of people in that population were relatively unbiased.\n",
        "\n",
        "<i>Cumulative Probabililty of Poission Distribution Formula <i>:<br>\n",
        "$$ p(X<=k) = e^{-λ}\\sum_{i=0}^{|k|}\\frac{λ^i}{i!}$$ <br>\n",
        "$$ λ = Np * \\frac{Nk}{Ntotal} $$\n",
        "<i>Where</i>:<br>\n",
        "- λ: is the expected number of death if killings were random, given the population distribution\n",
        "- k: number of recorded killings\n",
        "- Np: total number of individuals in a population\n",
        "- Nk: Number of people shot and killed by police\n",
        "- Ntotal: total number of people in USA\n"
      ],
      "metadata": {
        "id": "4jwVOdGxHGLe"
      },
      "id": "4jwVOdGxHGLe"
    },
    {
      "cell_type": "code",
      "source": [
        "expected_lambda = 10 #lasmbda, the \"expected\" number\n",
        "k1 = 5   #k, the actual number, when more than expected\n",
        "k2 = 15  #k, the actual number, when less than expected\n",
        "x_range = np.arange(0,30)\n",
        "ppd = poisson.pmf(x_range, expected_lambda) #poisson probability distribution\n",
        "p_k1 = poisson.pmf(k1, expected_lambda) #probability of observing k1\n",
        "p_k2 = poisson.pmf(k2, expected_lambda) #and k2\n",
        "\n",
        "plt.figure()\n",
        "plt.plot(x_range,ppd, 'o')\n",
        "plt.plot([k1, k1], [0, p_k1], 'g--')\n",
        "plt.plot([0, k1], [p_k1, p_k1], 'g--')\n",
        "plt.plot([k2, k2], [0, p_k2], 'r--')\n",
        "plt.plot([0, k2], [p_k2, p_k2], 'r--')\n",
        "plt.title(r'Poisson Distribution, $\\lambda=10$')\n",
        "plt.xlabel('k')\n",
        "plt.ylabel('Probability')\n",
        "plt.xlim([0, 30])\n",
        "plt.ylim([0, 0.14])\n",
        "plt.show()"
      ],
      "metadata": {
        "id": "qo6AiB7AUoR2",
        "colab": {
          "base_uri": "https://localhost:8080/",
          "height": 303
        },
        "outputId": "bb1461dd-7021-4064-b5d7-aaf668659ee6"
      },
      "id": "qo6AiB7AUoR2",
      "execution_count": 56,
      "outputs": [
        {
          "output_type": "display_data",
          "data": {
            "text/plain": [
              "<Figure size 432x288 with 1 Axes>"
            ],
            "image/png": "[encoded data removed]"
          },
          "metadata": {}
        }
      ]
    },
    {
      "cell_type": "code",
      "source": [
        "cppd = poisson.cdf(x_range, expected_lambda) #cumulative poisson distribution\n",
        "c_k1 = poisson.cdf(k1, expected_lambda) #cumulative probability of observing k1\n",
        "c_k2 = poisson.cdf(k2, expected_lambda) #and k2\n",
        "\n",
        "plt.figure()\n",
        "plt.plot(x_range,cppd, 'o')\n",
        "c_k1 = poisson.cdf(k1, expected_lambda)\n",
        "plt.plot([k1, k1], [0, c_k1], 'g--')\n",
        "plt.plot([0, k1], [c_k1, c_k1], 'g--')\n",
        "plt.plot([k2, k2], [0, c_k2], 'r--')\n",
        "plt.plot([0, k2], [c_k2, c_k2], 'r--')\n",
        "plt.title(r'Poisson Cumulative Distribution, $\\lambda=10$')\n",
        "plt.xlabel('k')\n",
        "plt.ylabel('Cumulative Probability')\n",
        "plt.xlim([0, 30])\n",
        "plt.ylim([0, 1])\n",
        "plt.show()"
      ],
      "metadata": {
        "colab": {
          "base_uri": "https://localhost:8080/",
          "height": 303
        },
        "id": "R-mN2SxSVDcN",
        "outputId": "d8c8c4d7-01f7-4709-f4d4-e81d65b49657"
      },
      "id": "R-mN2SxSVDcN",
      "execution_count": 57,
      "outputs": [
        {
          "output_type": "display_data",
          "data": {
            "text/plain": [
              "<Figure size 432x288 with 1 Axes>"
            ],
            "image/png": "[encoded data removed]"
          },
          "metadata": {}
        }
      ]
    },
    {
      "cell_type": "markdown",
      "source": [
        "<i>Observation</i>:<br>\n",
        "- We can see that when there are less killings in a population than would be expected if killings were random, the cumulative probability value approaches 0, while when there are more than expected, the cumulative probability value approaches 1."
      ],
      "metadata": {
        "id": "_tMD_cEKWf-W"
      },
      "id": "_tMD_cEKWf-W"
    },
    {
      "cell_type": "markdown",
      "source": [
        "Now we'll see which race have less police killings than the national average and which race have more police killings than the national average."
      ],
      "metadata": {
        "id": "BqhLtj7nc3mg"
      },
      "id": "BqhLtj7nc3mg"
    },
    {
      "cell_type": "code",
      "source": [
        "# population percentage\n",
        "# source https://www.census.gov/quickfacts/fact/table/US\n",
        "population_ratio = {\n",
        "            'White': 60.7, \n",
        "            'Black': 13.4, \n",
        "            'Hispanic': 18.1, \n",
        "            'Asian': 5.8,  \n",
        "            'Native': 1.5,  \n",
        "            'Other': 0.5\n",
        "         }"
      ],
      "metadata": {
        "id": "oqUI0gNQXMuR"
      },
      "id": "oqUI0gNQXMuR",
      "execution_count": 58,
      "outputs": []
    },
    {
      "cell_type": "code",
      "source": [
        "def getProbabilityDistribution(feature:str, data:pd.DataFrame, population:Dict)->pd.DataFrame:\n",
        "    num_obs = data.shape[0]\n",
        "    rate = num_obs if feature == 'race' else num_obs/sum(population.values())\n",
        "    cum_poisson_vals = []\n",
        "\n",
        "    for key in population.keys():\n",
        "        lam = rate * population[key]/100 if feature == 'race' else rate * population[key]\n",
        "        k = data[data[feature]==key].shape[0] #actual number of shootings of people of this race\n",
        "        cum_poisson_vals.append(poisson.cdf(k, lam))\n",
        "    \n",
        "    Expected_DF = pd.DataFrame(data={feature: list(population.keys()), \n",
        "                        'cum_poisson': cum_poisson_vals})\n",
        "    Expected_DF.sort_values('cum_poisson', inplace=True)\n",
        "    return Expected_DF"
      ],
      "metadata": {
        "id": "ip0aAeueWpIH"
      },
      "id": "ip0aAeueWpIH",
      "execution_count": 168,
      "outputs": []
    },
    {
      "cell_type": "code",
      "source": [
        "def probabilityPlot(data:pd.DataFrame):\n",
        "  \n",
        "    feat1, feat2 = data.columns\n",
        "    y = np.arange(len(data[feat1]))\n",
        "    plt.barh(y, data[feat2]-0.5, left=0.5)\n",
        "    plt.plot([0.5, 0.5], [y[0]-1, y[-1]+1], 'k', linewidth=2)\n",
        "    ax = plt.gca()\n",
        "    ax.set_yticks(y)\n",
        "    ax.set_yticklabels(data[feat1])\n",
        "    ax.invert_yaxis()\n",
        "    plt.title(f'Police Shootings: Cumulative Probability\\ngiven national average, by {feat1}')\n",
        "    plt.ylabel('Cumulative Poisson Probability')\n",
        "    plt.xlabel(xlabel)\n",
        "\n",
        "    textY  = y[0]-0.75 if feat1 == 'race' else y[0]-1.5\n",
        "    textX  = 0.506 if feat1 == 'race' else 0.505\n",
        "\n",
        "    plt.text(textX, textY,\n",
        "         r'Less shootings $\\leftarrow$ $\\rightarrow$ More shootings',\n",
        "         horizontalalignment='center', color='gray')\n",
        "    plt.show()"
      ],
      "metadata": {
        "id": "fIB8mnb8WfLq"
      },
      "id": "fIB8mnb8WfLq",
      "execution_count": 169,
      "outputs": []
    },
    {
      "cell_type": "code",
      "source": [
        "Expected_killing_by_race = getProbabilityDistribution('race', data, population_ratio)\n",
        "Expected_killing_by_race"
      ],
      "metadata": {
        "colab": {
          "base_uri": "https://localhost:8080/",
          "height": 238
        },
        "id": "VznXUfEu7oWm",
        "outputId": "c6527c1e-a9e9-4b2b-de92-a98dfaa551b4"
      },
      "id": "VznXUfEu7oWm",
      "execution_count": 170,
      "outputs": [
        {
          "output_type": "execute_result",
          "data": {
            "text/plain": [
              "       race   cum_poisson\n",
              "3     Asian  4.557776e-20\n",
              "0     White  3.179740e-08\n",
              "4    Native  2.798946e-01\n",
              "2  Hispanic  4.204438e-01\n",
              "5     Other  9.999993e-01\n",
              "1     Black  1.000000e+00"
            ],
            "text/html": [
              "\n",
              "  <div id=\"df-e2437f6a-3ee1-41ea-913f-fce6ba41bbbf\">\n",
              "    <div class=\"colab-df-container\">\n",
              "      <div>\n",
              "<style scoped>\n",
              "    .dataframe tbody tr th:only-of-type {\n",
              "        vertical-align: middle;\n",
              "    }\n",
              "\n",
              "    .dataframe tbody tr th {\n",
              "        vertical-align: top;\n",
              "    }\n",
              "\n",
              "    .dataframe thead th {\n",
              "        text-align: right;\n",
              "    }\n",
              "</style>\n",
              "<table border=\"1\" class=\"dataframe\">\n",
              "  <thead>\n",
              "    <tr style=\"text-align: right;\">\n",
              "      <th></th>\n",
              "      <th>race</th>\n",
              "      <th>cum_poisson</th>\n",
              "    </tr>\n",
              "  </thead>\n",
              "  <tbody>\n",
              "    <tr>\n",
              "      <th>3</th>\n",
              "      <td>Asian</td>\n",
              "      <td>4.557776e-20</td>\n",
              "    </tr>\n",
              "    <tr>\n",
              "      <th>0</th>\n",
              "      <td>White</td>\n",
              "      <td>3.179740e-08</td>\n",
              "    </tr>\n",
              "    <tr>\n",
              "      <th>4</th>\n",
              "      <td>Native</td>\n",
              "      <td>2.798946e-01</td>\n",
              "    </tr>\n",
              "    <tr>\n",
              "      <th>2</th>\n",
              "      <td>Hispanic</td>\n",
              "      <td>4.204438e-01</td>\n",
              "    </tr>\n",
              "    <tr>\n",
              "      <th>5</th>\n",
              "      <td>Other</td>\n",
              "      <td>9.999993e-01</td>\n",
              "    </tr>\n",
              "    <tr>\n",
              "      <th>1</th>\n",
              "      <td>Black</td>\n",
              "      <td>1.000000e+00</td>\n",
              "    </tr>\n",
              "  </tbody>\n",
              "</table>\n",
              "</div>\n",
              "      <button class=\"colab-df-convert\" onclick=\"convertToInteractive('df-e2437f6a-3ee1-41ea-913f-fce6ba41bbbf')\"\n",
              "              title=\"Convert this dataframe to an interactive table.\"\n",
              "              style=\"display:none;\">\n",
              "        \n",
              "  <svg xmlns=\"http://www.w3.org/2000/svg\" height=\"24px\"viewBox=\"0 0 24 24\"\n",
              "       width=\"24px\">\n",
              "    <path d=\"M0 0h24v24H0V0z\" fill=\"none\"/>\n",
              "    <path d=\"M18.56 5.44l.94 2.06.94-2.06 2.06-.94-2.06-.94-.94-2.06-.94 2.06-2.06.94zm-11 1L8.5 8.5l.94-2.06 2.06-.94-2.06-.94L8.5 2.5l-.94 2.06-2.06.94zm10 10l.94 2.06.94-2.06 2.06-.94-2.06-.94-.94-2.06-.94 2.06-2.06.94z\"/><path d=\"M17.41 7.96l-1.37-1.37c-.4-.4-.92-.59-1.43-.59-.52 0-1.04.2-1.43.59L10.3 9.45l-7.72 7.72c-.78.78-.78 2.05 0 2.83L4 21.41c.39.39.9.59 1.41.59.51 0 1.02-.2 1.41-.59l7.78-7.78 2.81-2.81c.8-.78.8-2.07 0-2.86zM5.41 20L4 18.59l7.72-7.72 1.47 1.35L5.41 20z\"/>\n",
              "  </svg>\n",
              "      </button>\n",
              "      \n",
              "  <style>\n",
              "    .colab-df-container {\n",
              "      display:flex;\n",
              "      flex-wrap:wrap;\n",
              "      gap: 12px;\n",
              "    }\n",
              "\n",
              "    .colab-df-convert {\n",
              "      background-color: #E8F0FE;\n",
              "      border: none;\n",
              "      border-radius: 50%;\n",
              "      cursor: pointer;\n",
              "      display: none;\n",
              "      fill: #1967D2;\n",
              "      height: 32px;\n",
              "      padding: 0 0 0 0;\n",
              "      width: 32px;\n",
              "    }\n",
              "\n",
              "    .colab-df-convert:hover {\n",
              "      background-color: #E2EBFA;\n",
              "      box-shadow: 0px 1px 2px rgba(60, 64, 67, 0.3), 0px 1px 3px 1px rgba(60, 64, 67, 0.15);\n",
              "      fill: #174EA6;\n",
              "    }\n",
              "\n",
              "    [theme=dark] .colab-df-convert {\n",
              "      background-color: #3B4455;\n",
              "      fill: #D2E3FC;\n",
              "    }\n",
              "\n",
              "    [theme=dark] .colab-df-convert:hover {\n",
              "      background-color: #434B5C;\n",
              "      box-shadow: 0px 1px 3px 1px rgba(0, 0, 0, 0.15);\n",
              "      filter: drop-shadow(0px 1px 2px rgba(0, 0, 0, 0.3));\n",
              "      fill: #FFFFFF;\n",
              "    }\n",
              "  </style>\n",
              "\n",
              "      <script>\n",
              "        const buttonEl =\n",
              "          document.querySelector('#df-e2437f6a-3ee1-41ea-913f-fce6ba41bbbf button.colab-df-convert');\n",
              "        buttonEl.style.display =\n",
              "          google.colab.kernel.accessAllowed ? 'block' : 'none';\n",
              "\n",
              "        async function convertToInteractive(key) {\n",
              "          const element = document.querySelector('#df-e2437f6a-3ee1-41ea-913f-fce6ba41bbbf');\n",
              "          const dataTable =\n",
              "            await google.colab.kernel.invokeFunction('convertToInteractive',\n",
              "                                                     [key], {});\n",
              "          if (!dataTable) return;\n",
              "\n",
              "          const docLinkHtml = 'Like what you see? Visit the ' +\n",
              "            '<a target=\"_blank\" href=https://colab.research.google.com/notebooks/data_table.ipynb>data table notebook</a>'\n",
              "            + ' to learn more about interactive tables.';\n",
              "          element.innerHTML = '';\n",
              "          dataTable['output_type'] = 'display_data';\n",
              "          await google.colab.output.renderOutput(dataTable, element);\n",
              "          const docLink = document.createElement('div');\n",
              "          docLink.innerHTML = docLinkHtml;\n",
              "          element.appendChild(docLink);\n",
              "        }\n",
              "      </script>\n",
              "    </div>\n",
              "  </div>\n",
              "  "
            ]
          },
          "metadata": {},
          "execution_count": 170
        }
      ]
    },
    {
      "cell_type": "code",
      "source": [
        "probabilityPlot(Expected_killing_by_race)"
      ],
      "metadata": {
        "colab": {
          "base_uri": "https://localhost:8080/",
          "height": 316
        },
        "id": "AdH1Loz12u_7",
        "outputId": "369452a0-5164-47af-ef15-af8e9fc7295e"
      },
      "id": "AdH1Loz12u_7",
      "execution_count": 153,
      "outputs": [
        {
          "output_type": "display_data",
          "data": {
            "text/plain": [
              "<Figure size 432x288 with 1 Axes>"
            ],
            "image/png": "[encoded data removed]"
          },
          "metadata": {}
        }
      ]
    },
    {
      "cell_type": "markdown",
      "source": [
        "<i>Observation</i>:<br>\n",
        "- This results suggest that police shootings are racially based.\n",
        "- The probability of observing so many shootings of white and asian individuals are almost zero\n",
        "- The probability of observing so few shootings of Black and other individuals are almost zero"
      ],
      "metadata": {
        "id": "XYNIgwUDZMqq"
      },
      "id": "XYNIgwUDZMqq"
    },
    {
      "cell_type": "code",
      "source": [
        "Expected_killing_by_state = getProbabilityDistribution('state', data, state_population)\n",
        "Expected_killing_by_state"
      ],
      "metadata": {
        "colab": {
          "base_uri": "https://localhost:8080/",
          "height": 1000
        },
        "id": "lY13nltnmOYc",
        "outputId": "8f87e8a8-4dd0-4f0d-dd08-535096eb39eb"
      },
      "id": "lY13nltnmOYc",
      "execution_count": 172,
      "outputs": [
        {
          "output_type": "execute_result",
          "data": {
            "text/plain": [
              "   state   cum_poisson\n",
              "32    NY  1.032549e-17\n",
              "38    PA  7.595608e-07\n",
              "22    MI  1.948897e-05\n",
              "30    NJ  2.329422e-05\n",
              "6     CT  6.479443e-05\n",
              "13    IL  2.832775e-04\n",
              "21    MA  2.899855e-04\n",
              "15    IA  1.668641e-02\n",
              "46    VA  2.039416e-02\n",
              "39    RI  4.429431e-02\n",
              "35    OH  8.167738e-02\n",
              "23    MN  1.732569e-01\n",
              "29    NH  1.746668e-01\n",
              "10    GA  1.880275e-01\n",
              "14    IN  2.121822e-01\n",
              "20    MD  2.383342e-01\n",
              "49    WI  2.646807e-01\n",
              "9     FL  2.877284e-01\n",
              "19    ME  2.959405e-01\n",
              "34    ND  3.247549e-01\n",
              "3     AR  4.391781e-01\n",
              "7     DE  4.675660e-01\n",
              "45    VT  4.729511e-01\n",
              "47    WA  5.303427e-01\n",
              "24    MS  5.440108e-01\n",
              "33    NC  5.515104e-01\n",
              "44    UT  7.322999e-01\n",
              "11    HI  7.404437e-01\n",
              "37    OR  7.467370e-01\n",
              "16    KS  7.494446e-01\n",
              "42    TN  7.655308e-01\n",
              "27    NE  7.978447e-01\n",
              "43    TX  7.981947e-01\n",
              "12    ID  8.279512e-01\n",
              "41    SD  8.331747e-01\n",
              "26    MT  8.853743e-01\n",
              "40    SC  8.900937e-01\n",
              "17    KY  9.404228e-01\n",
              "50    WY  9.719980e-01\n",
              "25    MO  9.812255e-01\n",
              "0     AL  9.870923e-01\n",
              "18    LA  9.930396e-01\n",
              "48    WV  9.949875e-01\n",
              "8     DC  9.957052e-01\n",
              "1     AK  9.975496e-01\n",
              "28    NV  9.977166e-01\n",
              "5     CO  9.999591e-01\n",
              "4     CA  9.999995e-01\n",
              "36    OK  1.000000e+00\n",
              "31    NM  1.000000e+00\n",
              "2     AZ  1.000000e+00"
            ],
            "text/html": [
              "\n",
              "  <div id=\"df-c60fde0f-f9cb-47c2-bd89-55b713643cb3\">\n",
              "    <div class=\"colab-df-container\">\n",
              "      <div>\n",
              "<style scoped>\n",
              "    .dataframe tbody tr th:only-of-type {\n",
              "        vertical-align: middle;\n",
              "    }\n",
              "\n",
              "    .dataframe tbody tr th {\n",
              "        vertical-align: top;\n",
              "    }\n",
              "\n",
              "    .dataframe thead th {\n",
              "        text-align: right;\n",
              "    }\n",
              "</style>\n",
              "<table border=\"1\" class=\"dataframe\">\n",
              "  <thead>\n",
              "    <tr style=\"text-align: right;\">\n",
              "      <th></th>\n",
              "      <th>state</th>\n",
              "      <th>cum_poisson</th>\n",
              "    </tr>\n",
              "  </thead>\n",
              "  <tbody>\n",
              "    <tr>\n",
              "      <th>32</th>\n",
              "      <td>NY</td>\n",
              "      <td>1.032549e-17</td>\n",
              "    </tr>\n",
              "    <tr>\n",
              "      <th>38</th>\n",
              "      <td>PA</td>\n",
              "      <td>7.595608e-07</td>\n",
              "    </tr>\n",
              "    <tr>\n",
              "      <th>22</th>\n",
              "      <td>MI</td>\n",
              "      <td>1.948897e-05</td>\n",
              "    </tr>\n",
              "    <tr>\n",
              "      <th>30</th>\n",
              "      <td>NJ</td>\n",
              "      <td>2.329422e-05</td>\n",
              "    </tr>\n",
              "    <tr>\n",
              "      <th>6</th>\n",
              "      <td>CT</td>\n",
              "      <td>6.479443e-05</td>\n",
              "    </tr>\n",
              "    <tr>\n",
              "      <th>13</th>\n",
              "      <td>IL</td>\n",
              "      <td>2.832775e-04</td>\n",
              "    </tr>\n",
              "    <tr>\n",
              "      <th>21</th>\n",
              "      <td>MA</td>\n",
              "      <td>2.899855e-04</td>\n",
              "    </tr>\n",
              "    <tr>\n",
              "      <th>15</th>\n",
              "      <td>IA</td>\n",
              "      <td>1.668641e-02</td>\n",
              "    </tr>\n",
              "    <tr>\n",
              "      <th>46</th>\n",
              "      <td>VA</td>\n",
              "      <td>2.039416e-02</td>\n",
              "    </tr>\n",
              "    <tr>\n",
              "      <th>39</th>\n",
              "      <td>RI</td>\n",
              "      <td>4.429431e-02</td>\n",
              "    </tr>\n",
              "    <tr>\n",
              "      <th>35</th>\n",
              "      <td>OH</td>\n",
              "      <td>8.167738e-02</td>\n",
              "    </tr>\n",
              "    <tr>\n",
              "      <th>23</th>\n",
              "      <td>MN</td>\n",
              "      <td>1.732569e-01</td>\n",
              "    </tr>\n",
              "    <tr>\n",
              "      <th>29</th>\n",
              "      <td>NH</td>\n",
              "      <td>1.746668e-01</td>\n",
              "    </tr>\n",
              "    <tr>\n",
              "      <th>10</th>\n",
              "      <td>GA</td>\n",
              "      <td>1.880275e-01</td>\n",
              "    </tr>\n",
              "    <tr>\n",
              "      <th>14</th>\n",
              "      <td>IN</td>\n",
              "      <td>2.121822e-01</td>\n",
              "    </tr>\n",
              "    <tr>\n",
              "      <th>20</th>\n",
              "      <td>MD</td>\n",
              "      <td>2.383342e-01</td>\n",
              "    </tr>\n",
              "    <tr>\n",
              "      <th>49</th>\n",
              "      <td>WI</td>\n",
              "      <td>2.646807e-01</td>\n",
              "    </tr>\n",
              "    <tr>\n",
              "      <th>9</th>\n",
              "      <td>FL</td>\n",
              "      <td>2.877284e-01</td>\n",
              "    </tr>\n",
              "    <tr>\n",
              "      <th>19</th>\n",
              "      <td>ME</td>\n",
              "      <td>2.959405e-01</td>\n",
              "    </tr>\n",
              "    <tr>\n",
              "      <th>34</th>\n",
              "      <td>ND</td>\n",
              "      <td>3.247549e-01</td>\n",
              "    </tr>\n",
              "    <tr>\n",
              "      <th>3</th>\n",
              "      <td>AR</td>\n",
              "      <td>4.391781e-01</td>\n",
              "    </tr>\n",
              "    <tr>\n",
              "      <th>7</th>\n",
              "      <td>DE</td>\n",
              "      <td>4.675660e-01</td>\n",
              "    </tr>\n",
              "    <tr>\n",
              "      <th>45</th>\n",
              "      <td>VT</td>\n",
              "      <td>4.729511e-01</td>\n",
              "    </tr>\n",
              "    <tr>\n",
              "      <th>47</th>\n",
              "      <td>WA</td>\n",
              "      <td>5.303427e-01</td>\n",
              "    </tr>\n",
              "    <tr>\n",
              "      <th>24</th>\n",
              "      <td>MS</td>\n",
              "      <td>5.440108e-01</td>\n",
              "    </tr>\n",
              "    <tr>\n",
              "      <th>33</th>\n",
              "      <td>NC</td>\n",
              "      <td>5.515104e-01</td>\n",
              "    </tr>\n",
              "    <tr>\n",
              "      <th>44</th>\n",
              "      <td>UT</td>\n",
              "      <td>7.322999e-01</td>\n",
              "    </tr>\n",
              "    <tr>\n",
              "      <th>11</th>\n",
              "      <td>HI</td>\n",
              "      <td>7.404437e-01</td>\n",
              "    </tr>\n",
              "    <tr>\n",
              "      <th>37</th>\n",
              "      <td>OR</td>\n",
              "      <td>7.467370e-01</td>\n",
              "    </tr>\n",
              "    <tr>\n",
              "      <th>16</th>\n",
              "      <td>KS</td>\n",
              "      <td>7.494446e-01</td>\n",
              "    </tr>\n",
              "    <tr>\n",
              "      <th>42</th>\n",
              "      <td>TN</td>\n",
              "      <td>7.655308e-01</td>\n",
              "    </tr>\n",
              "    <tr>\n",
              "      <th>27</th>\n",
              "      <td>NE</td>\n",
              "      <td>7.978447e-01</td>\n",
              "    </tr>\n",
              "    <tr>\n",
              "      <th>43</th>\n",
              "      <td>TX</td>\n",
              "      <td>7.981947e-01</td>\n",
              "    </tr>\n",
              "    <tr>\n",
              "      <th>12</th>\n",
              "      <td>ID</td>\n",
              "      <td>8.279512e-01</td>\n",
              "    </tr>\n",
              "    <tr>\n",
              "      <th>41</th>\n",
              "      <td>SD</td>\n",
              "      <td>8.331747e-01</td>\n",
              "    </tr>\n",
              "    <tr>\n",
              "      <th>26</th>\n",
              "      <td>MT</td>\n",
              "      <td>8.853743e-01</td>\n",
              "    </tr>\n",
              "    <tr>\n",
              "      <th>40</th>\n",
              "      <td>SC</td>\n",
              "      <td>8.900937e-01</td>\n",
              "    </tr>\n",
              "    <tr>\n",
              "      <th>17</th>\n",
              "      <td>KY</td>\n",
              "      <td>9.404228e-01</td>\n",
              "    </tr>\n",
              "    <tr>\n",
              "      <th>50</th>\n",
              "      <td>WY</td>\n",
              "      <td>9.719980e-01</td>\n",
              "    </tr>\n",
              "    <tr>\n",
              "      <th>25</th>\n",
              "      <td>MO</td>\n",
              "      <td>9.812255e-01</td>\n",
              "    </tr>\n",
              "    <tr>\n",
              "      <th>0</th>\n",
              "      <td>AL</td>\n",
              "      <td>9.870923e-01</td>\n",
              "    </tr>\n",
              "    <tr>\n",
              "      <th>18</th>\n",
              "      <td>LA</td>\n",
              "      <td>9.930396e-01</td>\n",
              "    </tr>\n",
              "    <tr>\n",
              "      <th>48</th>\n",
              "      <td>WV</td>\n",
              "      <td>9.949875e-01</td>\n",
              "    </tr>\n",
              "    <tr>\n",
              "      <th>8</th>\n",
              "      <td>DC</td>\n",
              "      <td>9.957052e-01</td>\n",
              "    </tr>\n",
              "    <tr>\n",
              "      <th>1</th>\n",
              "      <td>AK</td>\n",
              "      <td>9.975496e-01</td>\n",
              "    </tr>\n",
              "    <tr>\n",
              "      <th>28</th>\n",
              "      <td>NV</td>\n",
              "      <td>9.977166e-01</td>\n",
              "    </tr>\n",
              "    <tr>\n",
              "      <th>5</th>\n",
              "      <td>CO</td>\n",
              "      <td>9.999591e-01</td>\n",
              "    </tr>\n",
              "    <tr>\n",
              "      <th>4</th>\n",
              "      <td>CA</td>\n",
              "      <td>9.999995e-01</td>\n",
              "    </tr>\n",
              "    <tr>\n",
              "      <th>36</th>\n",
              "      <td>OK</td>\n",
              "      <td>1.000000e+00</td>\n",
              "    </tr>\n",
              "    <tr>\n",
              "      <th>31</th>\n",
              "      <td>NM</td>\n",
              "      <td>1.000000e+00</td>\n",
              "    </tr>\n",
              "    <tr>\n",
              "      <th>2</th>\n",
              "      <td>AZ</td>\n",
              "      <td>1.000000e+00</td>\n",
              "    </tr>\n",
              "  </tbody>\n",
              "</table>\n",
              "</div>\n",
              "      <button class=\"colab-df-convert\" onclick=\"convertToInteractive('df-c60fde0f-f9cb-47c2-bd89-55b713643cb3')\"\n",
              "              title=\"Convert this dataframe to an interactive table.\"\n",
              "              style=\"display:none;\">\n",
              "        \n",
              "  <svg xmlns=\"http://www.w3.org/2000/svg\" height=\"24px\"viewBox=\"0 0 24 24\"\n",
              "       width=\"24px\">\n",
              "    <path d=\"M0 0h24v24H0V0z\" fill=\"none\"/>\n",
              "    <path d=\"M18.56 5.44l.94 2.06.94-2.06 2.06-.94-2.06-.94-.94-2.06-.94 2.06-2.06.94zm-11 1L8.5 8.5l.94-2.06 2.06-.94-2.06-.94L8.5 2.5l-.94 2.06-2.06.94zm10 10l.94 2.06.94-2.06 2.06-.94-2.06-.94-.94-2.06-.94 2.06-2.06.94z\"/><path d=\"M17.41 7.96l-1.37-1.37c-.4-.4-.92-.59-1.43-.59-.52 0-1.04.2-1.43.59L10.3 9.45l-7.72 7.72c-.78.78-.78 2.05 0 2.83L4 21.41c.39.39.9.59 1.41.59.51 0 1.02-.2 1.41-.59l7.78-7.78 2.81-2.81c.8-.78.8-2.07 0-2.86zM5.41 20L4 18.59l7.72-7.72 1.47 1.35L5.41 20z\"/>\n",
              "  </svg>\n",
              "      </button>\n",
              "      \n",
              "  <style>\n",
              "    .colab-df-container {\n",
              "      display:flex;\n",
              "      flex-wrap:wrap;\n",
              "      gap: 12px;\n",
              "    }\n",
              "\n",
              "    .colab-df-convert {\n",
              "      background-color: #E8F0FE;\n",
              "      border: none;\n",
              "      border-radius: 50%;\n",
              "      cursor: pointer;\n",
              "      display: none;\n",
              "      fill: #1967D2;\n",
              "      height: 32px;\n",
              "      padding: 0 0 0 0;\n",
              "      width: 32px;\n",
              "    }\n",
              "\n",
              "    .colab-df-convert:hover {\n",
              "      background-color: #E2EBFA;\n",
              "      box-shadow: 0px 1px 2px rgba(60, 64, 67, 0.3), 0px 1px 3px 1px rgba(60, 64, 67, 0.15);\n",
              "      fill: #174EA6;\n",
              "    }\n",
              "\n",
              "    [theme=dark] .colab-df-convert {\n",
              "      background-color: #3B4455;\n",
              "      fill: #D2E3FC;\n",
              "    }\n",
              "\n",
              "    [theme=dark] .colab-df-convert:hover {\n",
              "      background-color: #434B5C;\n",
              "      box-shadow: 0px 1px 3px 1px rgba(0, 0, 0, 0.15);\n",
              "      filter: drop-shadow(0px 1px 2px rgba(0, 0, 0, 0.3));\n",
              "      fill: #FFFFFF;\n",
              "    }\n",
              "  </style>\n",
              "\n",
              "      <script>\n",
              "        const buttonEl =\n",
              "          document.querySelector('#df-c60fde0f-f9cb-47c2-bd89-55b713643cb3 button.colab-df-convert');\n",
              "        buttonEl.style.display =\n",
              "          google.colab.kernel.accessAllowed ? 'block' : 'none';\n",
              "\n",
              "        async function convertToInteractive(key) {\n",
              "          const element = document.querySelector('#df-c60fde0f-f9cb-47c2-bd89-55b713643cb3');\n",
              "          const dataTable =\n",
              "            await google.colab.kernel.invokeFunction('convertToInteractive',\n",
              "                                                     [key], {});\n",
              "          if (!dataTable) return;\n",
              "\n",
              "          const docLinkHtml = 'Like what you see? Visit the ' +\n",
              "            '<a target=\"_blank\" href=https://colab.research.google.com/notebooks/data_table.ipynb>data table notebook</a>'\n",
              "            + ' to learn more about interactive tables.';\n",
              "          element.innerHTML = '';\n",
              "          dataTable['output_type'] = 'display_data';\n",
              "          await google.colab.output.renderOutput(dataTable, element);\n",
              "          const docLink = document.createElement('div');\n",
              "          docLink.innerHTML = docLinkHtml;\n",
              "          element.appendChild(docLink);\n",
              "        }\n",
              "      </script>\n",
              "    </div>\n",
              "  </div>\n",
              "  "
            ]
          },
          "metadata": {},
          "execution_count": 172
        }
      ]
    },
    {
      "cell_type": "code",
      "source": [
        "# Plot cumulative Poisson distribution values\n",
        "plt.figure(figsize=(6, 13))\n",
        "probabilityPlot(Expected_killing_by_state)"
      ],
      "metadata": {
        "colab": {
          "base_uri": "https://localhost:8080/",
          "height": 805
        },
        "id": "eT8t4UHQmeox",
        "outputId": "6c71d3f8-9cc1-466e-d073-ed56974b4bd3"
      },
      "id": "eT8t4UHQmeox",
      "execution_count": 174,
      "outputs": [
        {
          "output_type": "display_data",
          "data": {
            "text/plain": [
              "<Figure size 432x936 with 1 Axes>"
            ],
            "image/png": "[encoded data removed]"
          },
          "metadata": {}
        }
      ]
    },
    {
      "cell_type": "markdown",
      "source": [
        "<i>Observation:<i><br>\n",
        "- State of Arizona has the highest frequency of police shootings if the shootings were random given its population \n",
        "- State of New York has the least frequecy of police shootings if the shootings were random given its population size."
      ],
      "metadata": {
        "id": "65NInWUbnEU0"
      },
      "id": "65NInWUbnEU0"
    },
    {
      "cell_type": "markdown",
      "source": [
        "## 3.13 KMeans Clustering Data / Unsupervised Machine Learning"
      ],
      "metadata": {
        "id": "yimEh0F3RPiq"
      },
      "id": "yimEh0F3RPiq"
    },
    {
      "cell_type": "markdown",
      "source": [
        "first step of clustering"
      ],
      "metadata": {
        "id": "p4A_Q0u9RkRf"
      },
      "id": "p4A_Q0u9RkRf"
    },
    {
      "cell_type": "markdown",
      "source": [
        "## 4.Conclusion\n",
        "\n"
      ],
      "metadata": {
        "id": "KRpmWFwuBhSn"
      },
      "id": "KRpmWFwuBhSn"
    },
    {
      "cell_type": "markdown",
      "source": [
        "Findings:\n",
        "- Most of the victims are killed by shooting;\n",
        "- White and Black race people are the most affected;\n",
        "- Black Race people are widely killed in the US comparing the relative proportion of the race in the United States;\n",
        "- Males are more victims of fatal shootings than women;\n",
        "- Victims with no sign of mental illness are three times than victims with a sign of mental illness;\n",
        "- The undetermined threat level count seems negligible;\n",
        "- The most person killed did not flee;\n",
        "- The absence of a body camera is more frequent with respect to its presence.\n",
        "- Most of the victims were youngsters (aged between 20 -40)\n",
        "- The states of California, Texas, and Florida have recorded the most number of deaths\n",
        "- In a significant amount of cases, the victim was either Unarmed or had a toy \n",
        "gun\n",
        "\n",
        "In conclusion, the data analysis suggests that most of the victims were killed in a suspicious matter. For instance, the camera footage was missing for more than half of the killings registered in this dataset. The rate was also almost twice as high for the black population.\n",
        "\n",
        "Note: These finding is not complete and needs further research and analysis to deduce racial-based killings. (The most important feature of this dataset)"
      ],
      "metadata": {
        "id": "Ujzls5d5F_p0"
      },
      "id": "Ujzls5d5F_p0"
    }
  ],
  "metadata": {
    "kernelspec": {
      "display_name": "Python 3.9.12 ('base')",
      "language": "python",
      "name": "python3"
    },
    "language_info": {
      "codemirror_mode": {
        "name": "ipython",
        "version": 3
      },
      "file_extension": ".py",
      "mimetype": "text/x-python",
      "name": "python",
      "nbconvert_exporter": "python",
      "pygments_lexer": "ipython3",
      "version": "3.9.12"
    },
    "vscode": {
      "interpreter": {
        "hash": "d311ac0eefa0339e513cfbabf645ecf659e31af9bed0459a01b016c73834fb8a"
      }
    },
    "colab": {
      "provenance": [],
      "collapsed_sections": [
        "1kmh-3-EwuSr",
        "JXwnzE9RwyrA",
        "BxpzYmlow1Q4",
        "6CdN5Lf-UfW_",
        "_2Gt96z5wW2Q",
        "het5qtQcU4L2",
        "wR83wHA8WWjT",
        "v7rR-TvTroVQ",
        "hTJcYGESo4i-",
        "6aYoPGqEqW4s",
        "V-tahBag38xA",
        "5e8YSaO7vC4a",
        "bZhLf7v5voxC",
        "cYPsGSwTo_lc",
        "D_Jr4upBwqO3",
        "LhBQDmv7YKC8",
        "GTZt14AT0noN",
        "4RIV3C-2Af1O",
        "TBr3MfclAu1k",
        "iVAleLt95mtX",
        "UjEHUSgkCC7K",
        "36HM3xClsPj6",
        "Ls3xfw5hsa4b",
        "mWpVjEQ4Cq4V",
        "Jpy0t2R9-YK1",
        "9AXPA_pZSc5Y",
        "CEFUNW-YUQ30",
        "2vrOHnY5FNPI",
        "seR3Go6G_P7Y",
        "AsFFnidPDA1U",
        "GYNSKaIb_zpZ",
        "haHS1Nrq1wZZ",
        "WskR6c8muMqg",
        "yimEh0F3RPiq",
        "KRpmWFwuBhSn"
      ],
      "include_colab_link": true
    }
  },
  "nbformat": 4,
  "nbformat_minor": 5
}